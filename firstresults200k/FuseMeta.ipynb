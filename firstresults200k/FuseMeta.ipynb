{
 "cells": [
  {
   "cell_type": "markdown",
   "id": "eb4ff7a3-c479-4b26-b38f-00ca3478c68a",
   "metadata": {},
   "source": [
    "# Fuse metadata to permita first test run\n",
    "\n",
    "We've got reviewed books, prizewinners, and bestsellers. We need to merge the three frames and assign unique author IDs.\n",
    "\n",
    "We also need to get some unreviewed books as a control set."
   ]
  },
  {
   "cell_type": "code",
   "execution_count": 77,
   "id": "15ea0df0-612d-4aa9-9318-37087734b360",
   "metadata": {},
   "outputs": [],
   "source": [
    "import pandas as pd\n",
    "import numpy as np\n",
    "from fuzzywuzzy import fuzz\n",
    "from tqdm import tqdm"
   ]
  },
  {
   "cell_type": "code",
   "execution_count": 2,
   "id": "c8ccd589-48c7-4d0b-b1dc-390771f35764",
   "metadata": {},
   "outputs": [
    {
     "data": {
      "text/html": [
       "<div>\n",
       "<style scoped>\n",
       "    .dataframe tbody tr th:only-of-type {\n",
       "        vertical-align: middle;\n",
       "    }\n",
       "\n",
       "    .dataframe tbody tr th {\n",
       "        vertical-align: top;\n",
       "    }\n",
       "\n",
       "    .dataframe thead th {\n",
       "        text-align: right;\n",
       "    }\n",
       "</style>\n",
       "<table border=\"1\" class=\"dataframe\">\n",
       "  <thead>\n",
       "    <tr style=\"text-align: right;\">\n",
       "      <th></th>\n",
       "      <th>volume_author</th>\n",
       "      <th>review_author</th>\n",
       "      <th>aRatio</th>\n",
       "      <th>volume_title</th>\n",
       "      <th>trunc_revtitle</th>\n",
       "      <th>review_title</th>\n",
       "      <th>tRatio</th>\n",
       "      <th>volume_year</th>\n",
       "      <th>review_year</th>\n",
       "      <th>docid</th>\n",
       "      <th>rownum</th>\n",
       "    </tr>\n",
       "  </thead>\n",
       "  <tbody>\n",
       "    <tr>\n",
       "      <th>0</th>\n",
       "      <td>shaw, irwin</td>\n",
       "      <td>shaw, irwin.</td>\n",
       "      <td>96</td>\n",
       "      <td>welcome to the city, and other</td>\n",
       "      <td>welcome to the city, and other</td>\n",
       "      <td>welcome to the city, and other stories.</td>\n",
       "      <td>106</td>\n",
       "      <td>1942</td>\n",
       "      <td>1942</td>\n",
       "      <td>uc1.b3347126</td>\n",
       "      <td>3289</td>\n",
       "    </tr>\n",
       "    <tr>\n",
       "      <th>1</th>\n",
       "      <td>bennett, arnold</td>\n",
       "      <td>bennett, arnold.</td>\n",
       "      <td>97</td>\n",
       "      <td>woman who stole everything</td>\n",
       "      <td>woman who stole everything, an</td>\n",
       "      <td>woman who stole everything, and other stories.</td>\n",
       "      <td>106</td>\n",
       "      <td>1927</td>\n",
       "      <td>1927</td>\n",
       "      <td>uc1.$b322688</td>\n",
       "      <td>4140</td>\n",
       "    </tr>\n",
       "    <tr>\n",
       "      <th>2</th>\n",
       "      <td>lippincott, joseph wharton</td>\n",
       "      <td>lippincott, joseph wharton.</td>\n",
       "      <td>98</td>\n",
       "      <td>wilderness champion; the story</td>\n",
       "      <td>wilderness champion; the story</td>\n",
       "      <td>wilderness champion; the story of a great houn...</td>\n",
       "      <td>106</td>\n",
       "      <td>1944</td>\n",
       "      <td>1944</td>\n",
       "      <td>uc1.b3407035</td>\n",
       "      <td>3481</td>\n",
       "    </tr>\n",
       "    <tr>\n",
       "      <th>3</th>\n",
       "      <td>becker, may lamberton</td>\n",
       "      <td>becker, mrs may (lamberton), ed.</td>\n",
       "      <td>79</td>\n",
       "      <td>golden tales of the southwest;</td>\n",
       "      <td>golden tales of the southwest;</td>\n",
       "      <td>golden tales of the southwest; selected with a...</td>\n",
       "      <td>106</td>\n",
       "      <td>1939</td>\n",
       "      <td>1939</td>\n",
       "      <td>uc1.$b116192</td>\n",
       "      <td>4283</td>\n",
       "    </tr>\n",
       "    <tr>\n",
       "      <th>4</th>\n",
       "      <td>miller, alice duer, mrs</td>\n",
       "      <td>miller, mrs alice (duer).</td>\n",
       "      <td>75</td>\n",
       "      <td>instruments</td>\n",
       "      <td>instruments of darkness, and o</td>\n",
       "      <td>instruments of darkness, and other stories.</td>\n",
       "      <td>106</td>\n",
       "      <td>1926</td>\n",
       "      <td>1926</td>\n",
       "      <td>mdp.39015059415383</td>\n",
       "      <td>2405</td>\n",
       "    </tr>\n",
       "  </tbody>\n",
       "</table>\n",
       "</div>"
      ],
      "text/plain": [
       "                volume_author                     review_author  aRatio  \\\n",
       "0                 shaw, irwin                      shaw, irwin.      96   \n",
       "1             bennett, arnold                  bennett, arnold.      97   \n",
       "2  lippincott, joseph wharton       lippincott, joseph wharton.      98   \n",
       "3       becker, may lamberton  becker, mrs may (lamberton), ed.      79   \n",
       "4     miller, alice duer, mrs         miller, mrs alice (duer).      75   \n",
       "\n",
       "                     volume_title                  trunc_revtitle  \\\n",
       "0  welcome to the city, and other  welcome to the city, and other   \n",
       "1      woman who stole everything  woman who stole everything, an   \n",
       "2  wilderness champion; the story  wilderness champion; the story   \n",
       "3  golden tales of the southwest;  golden tales of the southwest;   \n",
       "4                    instruments   instruments of darkness, and o   \n",
       "\n",
       "                                        review_title  tRatio  volume_year  \\\n",
       "0            welcome to the city, and other stories.     106         1942   \n",
       "1     woman who stole everything, and other stories.     106         1927   \n",
       "2  wilderness champion; the story of a great houn...     106         1944   \n",
       "3  golden tales of the southwest; selected with a...     106         1939   \n",
       "4        instruments of darkness, and other stories.     106         1926   \n",
       "\n",
       "   review_year               docid  rownum  \n",
       "0         1942        uc1.b3347126    3289  \n",
       "1         1927        uc1.$b322688    4140  \n",
       "2         1944        uc1.b3407035    3481  \n",
       "3         1939        uc1.$b116192    4283  \n",
       "4         1926  mdp.39015059415383    2405  "
      ]
     },
     "execution_count": 2,
     "metadata": {},
     "output_type": "execute_result"
    }
   ],
   "source": [
    "review = pd.read_csv(\"cohortmatches.tsv\", sep = '\\t')\n",
    "review.head()"
   ]
  },
  {
   "cell_type": "code",
   "execution_count": 4,
   "id": "4e3d8380-d9f2-4a7d-94f7-5252ae6217c1",
   "metadata": {},
   "outputs": [
    {
     "data": {
      "text/html": [
       "<div>\n",
       "<style scoped>\n",
       "    .dataframe tbody tr th:only-of-type {\n",
       "        vertical-align: middle;\n",
       "    }\n",
       "\n",
       "    .dataframe tbody tr th {\n",
       "        vertical-align: top;\n",
       "    }\n",
       "\n",
       "    .dataframe thead th {\n",
       "        text-align: right;\n",
       "    }\n",
       "</style>\n",
       "<table border=\"1\" class=\"dataframe\">\n",
       "  <thead>\n",
       "    <tr style=\"text-align: right;\">\n",
       "      <th></th>\n",
       "      <th>titlemeta_ID</th>\n",
       "      <th>titlemeta_author</th>\n",
       "      <th>titlemeta_title</th>\n",
       "      <th>bestseller_author</th>\n",
       "      <th>bestseller_title</th>\n",
       "      <th>bestseller_year</th>\n",
       "      <th>ratio_author</th>\n",
       "      <th>ratio_title</th>\n",
       "      <th>docid</th>\n",
       "      <th>year</th>\n",
       "    </tr>\n",
       "  </thead>\n",
       "  <tbody>\n",
       "    <tr>\n",
       "      <th>0</th>\n",
       "      <td>uc2.ark+=13960=t05x25z6x</td>\n",
       "      <td>lewis, sinclair</td>\n",
       "      <td>Main street</td>\n",
       "      <td>lewis, sinclair</td>\n",
       "      <td>Main Street</td>\n",
       "      <td>1921</td>\n",
       "      <td>100</td>\n",
       "      <td>100</td>\n",
       "      <td>uc2.ark+=13960=t05x25z6x</td>\n",
       "      <td>1920</td>\n",
       "    </tr>\n",
       "    <tr>\n",
       "      <th>1</th>\n",
       "      <td>mdp.39015000636111</td>\n",
       "      <td>lewis, sinclair</td>\n",
       "      <td>Arrowsmith</td>\n",
       "      <td>lewis, sinclair</td>\n",
       "      <td>Arrowsmith</td>\n",
       "      <td>1925</td>\n",
       "      <td>100</td>\n",
       "      <td>100</td>\n",
       "      <td>mdp.39015000636111</td>\n",
       "      <td>1925</td>\n",
       "    </tr>\n",
       "    <tr>\n",
       "      <th>2</th>\n",
       "      <td>mdp.39015008361134</td>\n",
       "      <td>lewis, sinclair</td>\n",
       "      <td>Elmer Gantry</td>\n",
       "      <td>lewis, sinclair</td>\n",
       "      <td>Elmer Gantry</td>\n",
       "      <td>1927</td>\n",
       "      <td>100</td>\n",
       "      <td>100</td>\n",
       "      <td>mdp.39015008361134</td>\n",
       "      <td>1927</td>\n",
       "    </tr>\n",
       "    <tr>\n",
       "      <th>3</th>\n",
       "      <td>mdp.39015048880846</td>\n",
       "      <td>lewis, sinclair</td>\n",
       "      <td>Dodsworth</td>\n",
       "      <td>lewis, sinclair</td>\n",
       "      <td>Dodsworth</td>\n",
       "      <td>1929</td>\n",
       "      <td>100</td>\n",
       "      <td>100</td>\n",
       "      <td>mdp.39015048880846</td>\n",
       "      <td>1929</td>\n",
       "    </tr>\n",
       "    <tr>\n",
       "      <th>4</th>\n",
       "      <td>mdp.39015000636095</td>\n",
       "      <td>lewis, sinclair</td>\n",
       "      <td>Ann Vickers</td>\n",
       "      <td>lewis, sinclair</td>\n",
       "      <td>Ann Vickers</td>\n",
       "      <td>1933</td>\n",
       "      <td>100</td>\n",
       "      <td>100</td>\n",
       "      <td>mdp.39015000636095</td>\n",
       "      <td>1933</td>\n",
       "    </tr>\n",
       "  </tbody>\n",
       "</table>\n",
       "</div>"
      ],
      "text/plain": [
       "               titlemeta_ID titlemeta_author titlemeta_title  \\\n",
       "0  uc2.ark+=13960=t05x25z6x  lewis, sinclair     Main street   \n",
       "1        mdp.39015000636111  lewis, sinclair      Arrowsmith   \n",
       "2        mdp.39015008361134  lewis, sinclair    Elmer Gantry   \n",
       "3        mdp.39015048880846  lewis, sinclair       Dodsworth   \n",
       "4        mdp.39015000636095  lewis, sinclair     Ann Vickers   \n",
       "\n",
       "  bestseller_author bestseller_title  bestseller_year  ratio_author  \\\n",
       "0   lewis, sinclair      Main Street             1921           100   \n",
       "1   lewis, sinclair       Arrowsmith             1925           100   \n",
       "2   lewis, sinclair     Elmer Gantry             1927           100   \n",
       "3   lewis, sinclair        Dodsworth             1929           100   \n",
       "4   lewis, sinclair      Ann Vickers             1933           100   \n",
       "\n",
       "   ratio_title                     docid  year  \n",
       "0          100  uc2.ark+=13960=t05x25z6x  1920  \n",
       "1          100        mdp.39015000636111  1925  \n",
       "2          100        mdp.39015008361134  1927  \n",
       "3          100        mdp.39015048880846  1929  \n",
       "4          100        mdp.39015000636095  1933  "
      ]
     },
     "execution_count": 4,
     "metadata": {},
     "output_type": "execute_result"
    }
   ],
   "source": [
    "best = pd.read_csv(\"bestsellersincohortmodel.tsv\", sep = '\\t')\n",
    "best.head()"
   ]
  },
  {
   "cell_type": "code",
   "execution_count": 5,
   "id": "9d457643-83cc-456b-8c07-874a73746c24",
   "metadata": {},
   "outputs": [
    {
     "data": {
      "text/html": [
       "<div>\n",
       "<style scoped>\n",
       "    .dataframe tbody tr th:only-of-type {\n",
       "        vertical-align: middle;\n",
       "    }\n",
       "\n",
       "    .dataframe tbody tr th {\n",
       "        vertical-align: top;\n",
       "    }\n",
       "\n",
       "    .dataframe thead th {\n",
       "        text-align: right;\n",
       "    }\n",
       "</style>\n",
       "<table border=\"1\" class=\"dataframe\">\n",
       "  <thead>\n",
       "    <tr style=\"text-align: right;\">\n",
       "      <th></th>\n",
       "      <th>titlemeta_ID</th>\n",
       "      <th>titlemeta_author</th>\n",
       "      <th>titlemeta_title</th>\n",
       "      <th>prize_author</th>\n",
       "      <th>prize_title</th>\n",
       "      <th>prize_date</th>\n",
       "      <th>ratio_author</th>\n",
       "      <th>ratio_title</th>\n",
       "      <th>docid</th>\n",
       "      <th>year</th>\n",
       "    </tr>\n",
       "  </thead>\n",
       "  <tbody>\n",
       "    <tr>\n",
       "      <th>0</th>\n",
       "      <td>mdp.39015005332708</td>\n",
       "      <td>Barnes, Margaret Ayer</td>\n",
       "      <td>Years of grace</td>\n",
       "      <td>Barnes, Margaret Ayer</td>\n",
       "      <td>Years of Grace</td>\n",
       "      <td>1931</td>\n",
       "      <td>100</td>\n",
       "      <td>100</td>\n",
       "      <td>mdp.39015005332708</td>\n",
       "      <td>1930</td>\n",
       "    </tr>\n",
       "    <tr>\n",
       "      <th>1</th>\n",
       "      <td>mdp.39015005305936</td>\n",
       "      <td>Barnes, Margaret Ayer</td>\n",
       "      <td>Westward passage</td>\n",
       "      <td>Barnes, Margaret Ayer</td>\n",
       "      <td>Years of Grace</td>\n",
       "      <td>1931</td>\n",
       "      <td>100</td>\n",
       "      <td>40</td>\n",
       "      <td>mdp.39015005305936</td>\n",
       "      <td>1931</td>\n",
       "    </tr>\n",
       "    <tr>\n",
       "      <th>2</th>\n",
       "      <td>uc1.$b56317</td>\n",
       "      <td>Barnes, Margaret Ayer</td>\n",
       "      <td>Within this present</td>\n",
       "      <td>Barnes, Margaret Ayer</td>\n",
       "      <td>Years of Grace</td>\n",
       "      <td>1931</td>\n",
       "      <td>100</td>\n",
       "      <td>24</td>\n",
       "      <td>uc1.$b56317</td>\n",
       "      <td>1933</td>\n",
       "    </tr>\n",
       "    <tr>\n",
       "      <th>3</th>\n",
       "      <td>mdp.39015063551983</td>\n",
       "      <td>Barnes, Margaret Ayer</td>\n",
       "      <td>Edna, his wife, an American idyll</td>\n",
       "      <td>Barnes, Margaret Ayer</td>\n",
       "      <td>Years of Grace</td>\n",
       "      <td>1931</td>\n",
       "      <td>100</td>\n",
       "      <td>34</td>\n",
       "      <td>mdp.39015063551983</td>\n",
       "      <td>1935</td>\n",
       "    </tr>\n",
       "    <tr>\n",
       "      <th>4</th>\n",
       "      <td>mdp.39015051324153</td>\n",
       "      <td>Barnes, Margaret Ayer</td>\n",
       "      <td>Wisdom's gate</td>\n",
       "      <td>Barnes, Margaret Ayer</td>\n",
       "      <td>Years of Grace</td>\n",
       "      <td>1931</td>\n",
       "      <td>100</td>\n",
       "      <td>44</td>\n",
       "      <td>mdp.39015051324153</td>\n",
       "      <td>1938</td>\n",
       "    </tr>\n",
       "  </tbody>\n",
       "</table>\n",
       "</div>"
      ],
      "text/plain": [
       "         titlemeta_ID       titlemeta_author  \\\n",
       "0  mdp.39015005332708  Barnes, Margaret Ayer   \n",
       "1  mdp.39015005305936  Barnes, Margaret Ayer   \n",
       "2         uc1.$b56317  Barnes, Margaret Ayer   \n",
       "3  mdp.39015063551983  Barnes, Margaret Ayer   \n",
       "4  mdp.39015051324153  Barnes, Margaret Ayer   \n",
       "\n",
       "                     titlemeta_title           prize_author     prize_title  \\\n",
       "0                     Years of grace  Barnes, Margaret Ayer  Years of Grace   \n",
       "1                   Westward passage  Barnes, Margaret Ayer  Years of Grace   \n",
       "2                Within this present  Barnes, Margaret Ayer  Years of Grace   \n",
       "3  Edna, his wife, an American idyll  Barnes, Margaret Ayer  Years of Grace   \n",
       "4                      Wisdom's gate  Barnes, Margaret Ayer  Years of Grace   \n",
       "\n",
       "   prize_date  ratio_author  ratio_title               docid  year  \n",
       "0        1931           100          100  mdp.39015005332708  1930  \n",
       "1        1931           100           40  mdp.39015005305936  1931  \n",
       "2        1931           100           24         uc1.$b56317  1933  \n",
       "3        1931           100           34  mdp.39015063551983  1935  \n",
       "4        1931           100           44  mdp.39015051324153  1938  "
      ]
     },
     "execution_count": 5,
     "metadata": {},
     "output_type": "execute_result"
    }
   ],
   "source": [
    "prize = pd.read_csv(\"prizewinnersincohortmodel.tsv\", sep = '\\t')\n",
    "prize.head()"
   ]
  },
  {
   "cell_type": "markdown",
   "id": "a9bfab9a-90da-4e30-a986-a89ac64b2a33",
   "metadata": {},
   "source": [
    "### goal\n",
    "\n",
    "what we want is a dataframe with\n",
    "\n",
    "    tm_author, tm_title, rev_title (if exists), docid, rownum (if exists), \n",
    "    review_year (if exists), bestseller_year (if exists), tm_year,\n",
    "    lowest_year, prizewinning_author (T/F), bestseller (T/F)\n",
    "    "
   ]
  },
  {
   "cell_type": "code",
   "execution_count": 6,
   "id": "61dbad20-bb77-43fc-97fd-ff4838293387",
   "metadata": {},
   "outputs": [
    {
     "data": {
      "text/html": [
       "<div>\n",
       "<style scoped>\n",
       "    .dataframe tbody tr th:only-of-type {\n",
       "        vertical-align: middle;\n",
       "    }\n",
       "\n",
       "    .dataframe tbody tr th {\n",
       "        vertical-align: top;\n",
       "    }\n",
       "\n",
       "    .dataframe thead th {\n",
       "        text-align: right;\n",
       "    }\n",
       "</style>\n",
       "<table border=\"1\" class=\"dataframe\">\n",
       "  <thead>\n",
       "    <tr style=\"text-align: right;\">\n",
       "      <th></th>\n",
       "      <th>docid</th>\n",
       "      <th>tm_author</th>\n",
       "      <th>tm_title</th>\n",
       "      <th>tm_year</th>\n",
       "      <th>review_year</th>\n",
       "      <th>rownum</th>\n",
       "      <th>review_title</th>\n",
       "    </tr>\n",
       "  </thead>\n",
       "  <tbody>\n",
       "    <tr>\n",
       "      <th>0</th>\n",
       "      <td>uc1.b3347126</td>\n",
       "      <td>shaw, irwin</td>\n",
       "      <td>welcome to the city, and other</td>\n",
       "      <td>1942</td>\n",
       "      <td>1942</td>\n",
       "      <td>3289</td>\n",
       "      <td>welcome to the city, and other stories.</td>\n",
       "    </tr>\n",
       "    <tr>\n",
       "      <th>1</th>\n",
       "      <td>uc1.$b322688</td>\n",
       "      <td>bennett, arnold</td>\n",
       "      <td>woman who stole everything</td>\n",
       "      <td>1927</td>\n",
       "      <td>1927</td>\n",
       "      <td>4140</td>\n",
       "      <td>woman who stole everything, and other stories.</td>\n",
       "    </tr>\n",
       "    <tr>\n",
       "      <th>2</th>\n",
       "      <td>uc1.b3407035</td>\n",
       "      <td>lippincott, joseph wharton</td>\n",
       "      <td>wilderness champion; the story</td>\n",
       "      <td>1944</td>\n",
       "      <td>1944</td>\n",
       "      <td>3481</td>\n",
       "      <td>wilderness champion; the story of a great houn...</td>\n",
       "    </tr>\n",
       "    <tr>\n",
       "      <th>3</th>\n",
       "      <td>uc1.$b116192</td>\n",
       "      <td>becker, may lamberton</td>\n",
       "      <td>golden tales of the southwest;</td>\n",
       "      <td>1939</td>\n",
       "      <td>1939</td>\n",
       "      <td>4283</td>\n",
       "      <td>golden tales of the southwest; selected with a...</td>\n",
       "    </tr>\n",
       "    <tr>\n",
       "      <th>4</th>\n",
       "      <td>mdp.39015059415383</td>\n",
       "      <td>miller, alice duer, mrs</td>\n",
       "      <td>instruments</td>\n",
       "      <td>1926</td>\n",
       "      <td>1926</td>\n",
       "      <td>2405</td>\n",
       "      <td>instruments of darkness, and other stories.</td>\n",
       "    </tr>\n",
       "  </tbody>\n",
       "</table>\n",
       "</div>"
      ],
      "text/plain": [
       "                docid                   tm_author  \\\n",
       "0        uc1.b3347126                 shaw, irwin   \n",
       "1        uc1.$b322688             bennett, arnold   \n",
       "2        uc1.b3407035  lippincott, joseph wharton   \n",
       "3        uc1.$b116192       becker, may lamberton   \n",
       "4  mdp.39015059415383     miller, alice duer, mrs   \n",
       "\n",
       "                         tm_title  tm_year  review_year  rownum  \\\n",
       "0  welcome to the city, and other     1942         1942    3289   \n",
       "1      woman who stole everything     1927         1927    4140   \n",
       "2  wilderness champion; the story     1944         1944    3481   \n",
       "3  golden tales of the southwest;     1939         1939    4283   \n",
       "4                    instruments      1926         1926    2405   \n",
       "\n",
       "                                        review_title  \n",
       "0            welcome to the city, and other stories.  \n",
       "1     woman who stole everything, and other stories.  \n",
       "2  wilderness champion; the story of a great houn...  \n",
       "3  golden tales of the southwest; selected with a...  \n",
       "4        instruments of darkness, and other stories.  "
      ]
     },
     "execution_count": 6,
     "metadata": {},
     "output_type": "execute_result"
    }
   ],
   "source": [
    "review = review.rename(columns = {'volume_author': 'tm_author', 'volume_title': 'tm_title', 'volume_year': 'tm_year'})\n",
    "review = review.loc[: , ['docid', 'tm_author', 'tm_title', 'tm_year', 'review_year', 'rownum', 'review_title']]\n",
    "review.head()"
   ]
  },
  {
   "cell_type": "code",
   "execution_count": 7,
   "id": "6f2a68dc-2dfd-4af0-866b-3674b81595ba",
   "metadata": {},
   "outputs": [
    {
     "data": {
      "text/html": [
       "<div>\n",
       "<style scoped>\n",
       "    .dataframe tbody tr th:only-of-type {\n",
       "        vertical-align: middle;\n",
       "    }\n",
       "\n",
       "    .dataframe tbody tr th {\n",
       "        vertical-align: top;\n",
       "    }\n",
       "\n",
       "    .dataframe thead th {\n",
       "        text-align: right;\n",
       "    }\n",
       "</style>\n",
       "<table border=\"1\" class=\"dataframe\">\n",
       "  <thead>\n",
       "    <tr style=\"text-align: right;\">\n",
       "      <th></th>\n",
       "      <th>docid</th>\n",
       "      <th>tm_author</th>\n",
       "      <th>tm_title</th>\n",
       "      <th>tm_year</th>\n",
       "      <th>bestseller_year</th>\n",
       "    </tr>\n",
       "  </thead>\n",
       "  <tbody>\n",
       "    <tr>\n",
       "      <th>0</th>\n",
       "      <td>uc2.ark+=13960=t05x25z6x</td>\n",
       "      <td>lewis, sinclair</td>\n",
       "      <td>main street</td>\n",
       "      <td>1920</td>\n",
       "      <td>1921</td>\n",
       "    </tr>\n",
       "    <tr>\n",
       "      <th>1</th>\n",
       "      <td>mdp.39015000636111</td>\n",
       "      <td>lewis, sinclair</td>\n",
       "      <td>arrowsmith</td>\n",
       "      <td>1925</td>\n",
       "      <td>1925</td>\n",
       "    </tr>\n",
       "    <tr>\n",
       "      <th>2</th>\n",
       "      <td>mdp.39015008361134</td>\n",
       "      <td>lewis, sinclair</td>\n",
       "      <td>elmer gantry</td>\n",
       "      <td>1927</td>\n",
       "      <td>1927</td>\n",
       "    </tr>\n",
       "    <tr>\n",
       "      <th>3</th>\n",
       "      <td>mdp.39015048880846</td>\n",
       "      <td>lewis, sinclair</td>\n",
       "      <td>dodsworth</td>\n",
       "      <td>1929</td>\n",
       "      <td>1929</td>\n",
       "    </tr>\n",
       "    <tr>\n",
       "      <th>4</th>\n",
       "      <td>mdp.39015000636095</td>\n",
       "      <td>lewis, sinclair</td>\n",
       "      <td>ann vickers</td>\n",
       "      <td>1933</td>\n",
       "      <td>1933</td>\n",
       "    </tr>\n",
       "  </tbody>\n",
       "</table>\n",
       "</div>"
      ],
      "text/plain": [
       "                      docid        tm_author      tm_title  tm_year  \\\n",
       "0  uc2.ark+=13960=t05x25z6x  lewis, sinclair   main street     1920   \n",
       "1        mdp.39015000636111  lewis, sinclair    arrowsmith     1925   \n",
       "2        mdp.39015008361134  lewis, sinclair  elmer gantry     1927   \n",
       "3        mdp.39015048880846  lewis, sinclair     dodsworth     1929   \n",
       "4        mdp.39015000636095  lewis, sinclair   ann vickers     1933   \n",
       "\n",
       "   bestseller_year  \n",
       "0             1921  \n",
       "1             1925  \n",
       "2             1927  \n",
       "3             1929  \n",
       "4             1933  "
      ]
     },
     "execution_count": 7,
     "metadata": {},
     "output_type": "execute_result"
    }
   ],
   "source": [
    "best = best.rename(columns = {'year': 'tm_year', 'titlemeta_author': 'tm_author', 'titlemeta_title': 'tm_title'})\n",
    "best = best.loc[: , ['docid', 'tm_author', 'tm_title', 'tm_year', 'bestseller_year']]\n",
    "best.tm_title = best.tm_title.str.lower()\n",
    "best.head()"
   ]
  },
  {
   "cell_type": "code",
   "execution_count": 8,
   "id": "3945f493-639f-4b7b-9631-8ee8b6891264",
   "metadata": {},
   "outputs": [],
   "source": [
    "best['is_bestseller'] = True"
   ]
  },
  {
   "cell_type": "code",
   "execution_count": 9,
   "id": "c7bd8862-b81f-4cae-afca-e45afa46f866",
   "metadata": {},
   "outputs": [
    {
     "data": {
      "text/html": [
       "<div>\n",
       "<style scoped>\n",
       "    .dataframe tbody tr th:only-of-type {\n",
       "        vertical-align: middle;\n",
       "    }\n",
       "\n",
       "    .dataframe tbody tr th {\n",
       "        vertical-align: top;\n",
       "    }\n",
       "\n",
       "    .dataframe thead th {\n",
       "        text-align: right;\n",
       "    }\n",
       "</style>\n",
       "<table border=\"1\" class=\"dataframe\">\n",
       "  <thead>\n",
       "    <tr style=\"text-align: right;\">\n",
       "      <th></th>\n",
       "      <th>docid</th>\n",
       "      <th>tm_author</th>\n",
       "      <th>tm_title</th>\n",
       "      <th>tm_year</th>\n",
       "      <th>prize_author</th>\n",
       "    </tr>\n",
       "  </thead>\n",
       "  <tbody>\n",
       "    <tr>\n",
       "      <th>0</th>\n",
       "      <td>mdp.39015005332708</td>\n",
       "      <td>Barnes, Margaret Ayer</td>\n",
       "      <td>Years of grace</td>\n",
       "      <td>1930</td>\n",
       "      <td>True</td>\n",
       "    </tr>\n",
       "    <tr>\n",
       "      <th>1</th>\n",
       "      <td>mdp.39015005305936</td>\n",
       "      <td>Barnes, Margaret Ayer</td>\n",
       "      <td>Westward passage</td>\n",
       "      <td>1931</td>\n",
       "      <td>True</td>\n",
       "    </tr>\n",
       "    <tr>\n",
       "      <th>2</th>\n",
       "      <td>uc1.$b56317</td>\n",
       "      <td>Barnes, Margaret Ayer</td>\n",
       "      <td>Within this present</td>\n",
       "      <td>1933</td>\n",
       "      <td>True</td>\n",
       "    </tr>\n",
       "    <tr>\n",
       "      <th>3</th>\n",
       "      <td>mdp.39015063551983</td>\n",
       "      <td>Barnes, Margaret Ayer</td>\n",
       "      <td>Edna, his wife, an American idyll</td>\n",
       "      <td>1935</td>\n",
       "      <td>True</td>\n",
       "    </tr>\n",
       "    <tr>\n",
       "      <th>4</th>\n",
       "      <td>mdp.39015051324153</td>\n",
       "      <td>Barnes, Margaret Ayer</td>\n",
       "      <td>Wisdom's gate</td>\n",
       "      <td>1938</td>\n",
       "      <td>True</td>\n",
       "    </tr>\n",
       "  </tbody>\n",
       "</table>\n",
       "</div>"
      ],
      "text/plain": [
       "                docid              tm_author  \\\n",
       "0  mdp.39015005332708  Barnes, Margaret Ayer   \n",
       "1  mdp.39015005305936  Barnes, Margaret Ayer   \n",
       "2         uc1.$b56317  Barnes, Margaret Ayer   \n",
       "3  mdp.39015063551983  Barnes, Margaret Ayer   \n",
       "4  mdp.39015051324153  Barnes, Margaret Ayer   \n",
       "\n",
       "                            tm_title  tm_year  prize_author  \n",
       "0                     Years of grace     1930          True  \n",
       "1                   Westward passage     1931          True  \n",
       "2                Within this present     1933          True  \n",
       "3  Edna, his wife, an American idyll     1935          True  \n",
       "4                      Wisdom's gate     1938          True  "
      ]
     },
     "execution_count": 9,
     "metadata": {},
     "output_type": "execute_result"
    }
   ],
   "source": [
    "prize = prize.rename(columns = {'year': 'tm_year', 'titlemeta_author': 'tm_author', 'titlemeta_title': 'tm_title'})\n",
    "prize = prize.loc[: , ['docid', 'tm_author', 'tm_title', 'tm_year']]\n",
    "prize['prize_author'] = True\n",
    "prize.head()"
   ]
  },
  {
   "cell_type": "code",
   "execution_count": 10,
   "id": "f6c4960b-58cf-41a3-a7ee-d127b1b97061",
   "metadata": {},
   "outputs": [
    {
     "data": {
      "text/html": [
       "<div>\n",
       "<style scoped>\n",
       "    .dataframe tbody tr th:only-of-type {\n",
       "        vertical-align: middle;\n",
       "    }\n",
       "\n",
       "    .dataframe tbody tr th {\n",
       "        vertical-align: top;\n",
       "    }\n",
       "\n",
       "    .dataframe thead th {\n",
       "        text-align: right;\n",
       "    }\n",
       "</style>\n",
       "<table border=\"1\" class=\"dataframe\">\n",
       "  <thead>\n",
       "    <tr style=\"text-align: right;\">\n",
       "      <th></th>\n",
       "      <th>docid</th>\n",
       "      <th>tm_author</th>\n",
       "      <th>tm_title</th>\n",
       "      <th>tm_year</th>\n",
       "      <th>prize_author</th>\n",
       "    </tr>\n",
       "  </thead>\n",
       "  <tbody>\n",
       "    <tr>\n",
       "      <th>0</th>\n",
       "      <td>mdp.39015005332708</td>\n",
       "      <td>barnes, margaret ayer</td>\n",
       "      <td>years of grace</td>\n",
       "      <td>1930</td>\n",
       "      <td>True</td>\n",
       "    </tr>\n",
       "    <tr>\n",
       "      <th>1</th>\n",
       "      <td>mdp.39015005305936</td>\n",
       "      <td>barnes, margaret ayer</td>\n",
       "      <td>westward passage</td>\n",
       "      <td>1931</td>\n",
       "      <td>True</td>\n",
       "    </tr>\n",
       "    <tr>\n",
       "      <th>2</th>\n",
       "      <td>uc1.$b56317</td>\n",
       "      <td>barnes, margaret ayer</td>\n",
       "      <td>within this present</td>\n",
       "      <td>1933</td>\n",
       "      <td>True</td>\n",
       "    </tr>\n",
       "    <tr>\n",
       "      <th>3</th>\n",
       "      <td>mdp.39015063551983</td>\n",
       "      <td>barnes, margaret ayer</td>\n",
       "      <td>edna, his wife, an american idyll</td>\n",
       "      <td>1935</td>\n",
       "      <td>True</td>\n",
       "    </tr>\n",
       "    <tr>\n",
       "      <th>4</th>\n",
       "      <td>mdp.39015051324153</td>\n",
       "      <td>barnes, margaret ayer</td>\n",
       "      <td>wisdom's gate</td>\n",
       "      <td>1938</td>\n",
       "      <td>True</td>\n",
       "    </tr>\n",
       "  </tbody>\n",
       "</table>\n",
       "</div>"
      ],
      "text/plain": [
       "                docid              tm_author  \\\n",
       "0  mdp.39015005332708  barnes, margaret ayer   \n",
       "1  mdp.39015005305936  barnes, margaret ayer   \n",
       "2         uc1.$b56317  barnes, margaret ayer   \n",
       "3  mdp.39015063551983  barnes, margaret ayer   \n",
       "4  mdp.39015051324153  barnes, margaret ayer   \n",
       "\n",
       "                            tm_title  tm_year  prize_author  \n",
       "0                     years of grace     1930          True  \n",
       "1                   westward passage     1931          True  \n",
       "2                within this present     1933          True  \n",
       "3  edna, his wife, an american idyll     1935          True  \n",
       "4                      wisdom's gate     1938          True  "
      ]
     },
     "execution_count": 10,
     "metadata": {},
     "output_type": "execute_result"
    }
   ],
   "source": [
    "prize.tm_author = prize.tm_author.str.lower()\n",
    "prize.tm_title = prize.tm_title.str.lower()\n",
    "prize.head()"
   ]
  },
  {
   "cell_type": "code",
   "execution_count": 25,
   "id": "e97456c7-2c17-4945-98e1-680182b56522",
   "metadata": {},
   "outputs": [
    {
     "name": "stdout",
     "output_type": "stream",
     "text": [
      "(4412, 7) (365, 5)\n"
     ]
    },
    {
     "data": {
      "text/plain": [
       "(4549, 10)"
      ]
     },
     "execution_count": 25,
     "metadata": {},
     "output_type": "execute_result"
    }
   ],
   "source": [
    "complete = review.merge(prize, how = 'outer', left_on = ['docid', 'tm_author'], right_on = ['docid', 'tm_author'])\n",
    "print(review.shape, prize.shape)\n",
    "complete.shape"
   ]
  },
  {
   "cell_type": "code",
   "execution_count": 26,
   "id": "7adf8243-4b30-47b7-8f03-ceefe2a7ed8f",
   "metadata": {},
   "outputs": [
    {
     "data": {
      "text/html": [
       "<div>\n",
       "<style scoped>\n",
       "    .dataframe tbody tr th:only-of-type {\n",
       "        vertical-align: middle;\n",
       "    }\n",
       "\n",
       "    .dataframe tbody tr th {\n",
       "        vertical-align: top;\n",
       "    }\n",
       "\n",
       "    .dataframe thead th {\n",
       "        text-align: right;\n",
       "    }\n",
       "</style>\n",
       "<table border=\"1\" class=\"dataframe\">\n",
       "  <thead>\n",
       "    <tr style=\"text-align: right;\">\n",
       "      <th></th>\n",
       "      <th>docid</th>\n",
       "      <th>tm_author</th>\n",
       "      <th>tm_title_x</th>\n",
       "      <th>tm_year_x</th>\n",
       "      <th>review_year</th>\n",
       "      <th>rownum</th>\n",
       "      <th>review_title</th>\n",
       "      <th>tm_title_y</th>\n",
       "      <th>tm_year_y</th>\n",
       "      <th>prize_author</th>\n",
       "    </tr>\n",
       "  </thead>\n",
       "  <tbody>\n",
       "    <tr>\n",
       "      <th>0</th>\n",
       "      <td>uc1.b3347126</td>\n",
       "      <td>shaw, irwin</td>\n",
       "      <td>welcome to the city, and other</td>\n",
       "      <td>1942.0</td>\n",
       "      <td>1942.0</td>\n",
       "      <td>3289.0</td>\n",
       "      <td>welcome to the city, and other stories.</td>\n",
       "      <td>NaN</td>\n",
       "      <td>NaN</td>\n",
       "      <td>NaN</td>\n",
       "    </tr>\n",
       "    <tr>\n",
       "      <th>1</th>\n",
       "      <td>uc1.$b322688</td>\n",
       "      <td>bennett, arnold</td>\n",
       "      <td>woman who stole everything</td>\n",
       "      <td>1927.0</td>\n",
       "      <td>1927.0</td>\n",
       "      <td>4140.0</td>\n",
       "      <td>woman who stole everything, and other stories.</td>\n",
       "      <td>NaN</td>\n",
       "      <td>NaN</td>\n",
       "      <td>NaN</td>\n",
       "    </tr>\n",
       "    <tr>\n",
       "      <th>2</th>\n",
       "      <td>uc1.b3407035</td>\n",
       "      <td>lippincott, joseph wharton</td>\n",
       "      <td>wilderness champion; the story</td>\n",
       "      <td>1944.0</td>\n",
       "      <td>1944.0</td>\n",
       "      <td>3481.0</td>\n",
       "      <td>wilderness champion; the story of a great houn...</td>\n",
       "      <td>NaN</td>\n",
       "      <td>NaN</td>\n",
       "      <td>NaN</td>\n",
       "    </tr>\n",
       "    <tr>\n",
       "      <th>3</th>\n",
       "      <td>uc1.$b116192</td>\n",
       "      <td>becker, may lamberton</td>\n",
       "      <td>golden tales of the southwest;</td>\n",
       "      <td>1939.0</td>\n",
       "      <td>1939.0</td>\n",
       "      <td>4283.0</td>\n",
       "      <td>golden tales of the southwest; selected with a...</td>\n",
       "      <td>NaN</td>\n",
       "      <td>NaN</td>\n",
       "      <td>NaN</td>\n",
       "    </tr>\n",
       "    <tr>\n",
       "      <th>4</th>\n",
       "      <td>mdp.39015059415383</td>\n",
       "      <td>miller, alice duer, mrs</td>\n",
       "      <td>instruments</td>\n",
       "      <td>1926.0</td>\n",
       "      <td>1926.0</td>\n",
       "      <td>2405.0</td>\n",
       "      <td>instruments of darkness, and other stories.</td>\n",
       "      <td>NaN</td>\n",
       "      <td>NaN</td>\n",
       "      <td>NaN</td>\n",
       "    </tr>\n",
       "  </tbody>\n",
       "</table>\n",
       "</div>"
      ],
      "text/plain": [
       "                docid                   tm_author  \\\n",
       "0        uc1.b3347126                 shaw, irwin   \n",
       "1        uc1.$b322688             bennett, arnold   \n",
       "2        uc1.b3407035  lippincott, joseph wharton   \n",
       "3        uc1.$b116192       becker, may lamberton   \n",
       "4  mdp.39015059415383     miller, alice duer, mrs   \n",
       "\n",
       "                       tm_title_x  tm_year_x  review_year  rownum  \\\n",
       "0  welcome to the city, and other     1942.0       1942.0  3289.0   \n",
       "1      woman who stole everything     1927.0       1927.0  4140.0   \n",
       "2  wilderness champion; the story     1944.0       1944.0  3481.0   \n",
       "3  golden tales of the southwest;     1939.0       1939.0  4283.0   \n",
       "4                    instruments      1926.0       1926.0  2405.0   \n",
       "\n",
       "                                        review_title tm_title_y  tm_year_y  \\\n",
       "0            welcome to the city, and other stories.        NaN        NaN   \n",
       "1     woman who stole everything, and other stories.        NaN        NaN   \n",
       "2  wilderness champion; the story of a great houn...        NaN        NaN   \n",
       "3  golden tales of the southwest; selected with a...        NaN        NaN   \n",
       "4        instruments of darkness, and other stories.        NaN        NaN   \n",
       "\n",
       "  prize_author  \n",
       "0          NaN  \n",
       "1          NaN  \n",
       "2          NaN  \n",
       "3          NaN  \n",
       "4          NaN  "
      ]
     },
     "execution_count": 26,
     "metadata": {},
     "output_type": "execute_result"
    }
   ],
   "source": [
    "complete.head()"
   ]
  },
  {
   "cell_type": "code",
   "execution_count": 27,
   "id": "09e3b5c7-0be0-4980-ac7e-2adbbfe9f2fb",
   "metadata": {},
   "outputs": [
    {
     "name": "stdout",
     "output_type": "stream",
     "text": [
      "(4549, 8)\n"
     ]
    },
    {
     "data": {
      "text/html": [
       "<div>\n",
       "<style scoped>\n",
       "    .dataframe tbody tr th:only-of-type {\n",
       "        vertical-align: middle;\n",
       "    }\n",
       "\n",
       "    .dataframe tbody tr th {\n",
       "        vertical-align: top;\n",
       "    }\n",
       "\n",
       "    .dataframe thead th {\n",
       "        text-align: right;\n",
       "    }\n",
       "</style>\n",
       "<table border=\"1\" class=\"dataframe\">\n",
       "  <thead>\n",
       "    <tr style=\"text-align: right;\">\n",
       "      <th></th>\n",
       "      <th>docid</th>\n",
       "      <th>tm_author</th>\n",
       "      <th>tm_title</th>\n",
       "      <th>tm_year</th>\n",
       "      <th>review_year</th>\n",
       "      <th>rownum</th>\n",
       "      <th>review_title</th>\n",
       "      <th>prize_author</th>\n",
       "    </tr>\n",
       "  </thead>\n",
       "  <tbody>\n",
       "    <tr>\n",
       "      <th>0</th>\n",
       "      <td>uc1.b3347126</td>\n",
       "      <td>shaw, irwin</td>\n",
       "      <td>welcome to the city, and other</td>\n",
       "      <td>1942.0</td>\n",
       "      <td>1942.0</td>\n",
       "      <td>3289.0</td>\n",
       "      <td>welcome to the city, and other stories.</td>\n",
       "      <td>NaN</td>\n",
       "    </tr>\n",
       "    <tr>\n",
       "      <th>1</th>\n",
       "      <td>uc1.$b322688</td>\n",
       "      <td>bennett, arnold</td>\n",
       "      <td>woman who stole everything</td>\n",
       "      <td>1927.0</td>\n",
       "      <td>1927.0</td>\n",
       "      <td>4140.0</td>\n",
       "      <td>woman who stole everything, and other stories.</td>\n",
       "      <td>NaN</td>\n",
       "    </tr>\n",
       "    <tr>\n",
       "      <th>2</th>\n",
       "      <td>uc1.b3407035</td>\n",
       "      <td>lippincott, joseph wharton</td>\n",
       "      <td>wilderness champion; the story</td>\n",
       "      <td>1944.0</td>\n",
       "      <td>1944.0</td>\n",
       "      <td>3481.0</td>\n",
       "      <td>wilderness champion; the story of a great houn...</td>\n",
       "      <td>NaN</td>\n",
       "    </tr>\n",
       "    <tr>\n",
       "      <th>3</th>\n",
       "      <td>uc1.$b116192</td>\n",
       "      <td>becker, may lamberton</td>\n",
       "      <td>golden tales of the southwest;</td>\n",
       "      <td>1939.0</td>\n",
       "      <td>1939.0</td>\n",
       "      <td>4283.0</td>\n",
       "      <td>golden tales of the southwest; selected with a...</td>\n",
       "      <td>NaN</td>\n",
       "    </tr>\n",
       "    <tr>\n",
       "      <th>4</th>\n",
       "      <td>mdp.39015059415383</td>\n",
       "      <td>miller, alice duer, mrs</td>\n",
       "      <td>instruments</td>\n",
       "      <td>1926.0</td>\n",
       "      <td>1926.0</td>\n",
       "      <td>2405.0</td>\n",
       "      <td>instruments of darkness, and other stories.</td>\n",
       "      <td>NaN</td>\n",
       "    </tr>\n",
       "  </tbody>\n",
       "</table>\n",
       "</div>"
      ],
      "text/plain": [
       "                docid                   tm_author  \\\n",
       "0        uc1.b3347126                 shaw, irwin   \n",
       "1        uc1.$b322688             bennett, arnold   \n",
       "2        uc1.b3407035  lippincott, joseph wharton   \n",
       "3        uc1.$b116192       becker, may lamberton   \n",
       "4  mdp.39015059415383     miller, alice duer, mrs   \n",
       "\n",
       "                         tm_title  tm_year  review_year  rownum  \\\n",
       "0  welcome to the city, and other   1942.0       1942.0  3289.0   \n",
       "1      woman who stole everything   1927.0       1927.0  4140.0   \n",
       "2  wilderness champion; the story   1944.0       1944.0  3481.0   \n",
       "3  golden tales of the southwest;   1939.0       1939.0  4283.0   \n",
       "4                    instruments    1926.0       1926.0  2405.0   \n",
       "\n",
       "                                        review_title prize_author  \n",
       "0            welcome to the city, and other stories.          NaN  \n",
       "1     woman who stole everything, and other stories.          NaN  \n",
       "2  wilderness champion; the story of a great houn...          NaN  \n",
       "3  golden tales of the southwest; selected with a...          NaN  \n",
       "4        instruments of darkness, and other stories.          NaN  "
      ]
     },
     "execution_count": 27,
     "metadata": {},
     "output_type": "execute_result"
    }
   ],
   "source": [
    "listofdicts = []\n",
    "\n",
    "for idx, row in complete.iterrows():\n",
    "    newdict = dict()\n",
    "    for col in complete.columns:\n",
    "        if col.endswith('_x') or col.endswith('_y'):\n",
    "            prefix = col[0: -2]\n",
    "            if pd.isnull(row[prefix + '_x']):\n",
    "                value = row[prefix + '_y']\n",
    "            elif pd.isnull(row[prefix + '_y']):\n",
    "                value = row[prefix + '_x']\n",
    "            else:\n",
    "                if type(row[prefix + '_x']) == float or type(row[prefix + '_y']) == float:\n",
    "                    value = row[prefix + '_x']\n",
    "                elif len(row[prefix + '_x']) > len(row[prefix + '_y']):\n",
    "                    value = row[prefix + '_x']\n",
    "                else:\n",
    "                    value = row[prefix + '_y']\n",
    "                    \n",
    "            newdict[prefix] = value\n",
    "        else:\n",
    "            newdict[col] = row[col]\n",
    "        \n",
    "    listofdicts.append(newdict)\n",
    "complete = pd.DataFrame(listofdicts)\n",
    "print(complete.shape)\n",
    "complete.head()"
   ]
  },
  {
   "cell_type": "code",
   "execution_count": 28,
   "id": "3497d882-9b68-46bc-a5c6-cc8aa3bc8bc7",
   "metadata": {},
   "outputs": [
    {
     "name": "stdout",
     "output_type": "stream",
     "text": [
      "(4549, 8)\n",
      "(187, 6)\n"
     ]
    },
    {
     "data": {
      "text/plain": [
       "(4620, 12)"
      ]
     },
     "execution_count": 28,
     "metadata": {},
     "output_type": "execute_result"
    }
   ],
   "source": [
    "print(complete.shape)\n",
    "complete = complete.merge(best, how = 'outer', left_on = ['docid', 'tm_author'], right_on = ['docid', 'tm_author'])\n",
    "print(best.shape)\n",
    "complete.shape"
   ]
  },
  {
   "cell_type": "code",
   "execution_count": 29,
   "id": "926c1c97-53a0-46f9-ad66-527ecdf69a05",
   "metadata": {},
   "outputs": [
    {
     "data": {
      "text/html": [
       "<div>\n",
       "<style scoped>\n",
       "    .dataframe tbody tr th:only-of-type {\n",
       "        vertical-align: middle;\n",
       "    }\n",
       "\n",
       "    .dataframe tbody tr th {\n",
       "        vertical-align: top;\n",
       "    }\n",
       "\n",
       "    .dataframe thead th {\n",
       "        text-align: right;\n",
       "    }\n",
       "</style>\n",
       "<table border=\"1\" class=\"dataframe\">\n",
       "  <thead>\n",
       "    <tr style=\"text-align: right;\">\n",
       "      <th></th>\n",
       "      <th>docid</th>\n",
       "      <th>tm_author</th>\n",
       "      <th>tm_title_x</th>\n",
       "      <th>tm_year_x</th>\n",
       "      <th>review_year</th>\n",
       "      <th>rownum</th>\n",
       "      <th>review_title</th>\n",
       "      <th>prize_author</th>\n",
       "      <th>tm_title_y</th>\n",
       "      <th>tm_year_y</th>\n",
       "      <th>bestseller_year</th>\n",
       "      <th>is_bestseller</th>\n",
       "    </tr>\n",
       "  </thead>\n",
       "  <tbody>\n",
       "    <tr>\n",
       "      <th>0</th>\n",
       "      <td>uc1.b3347126</td>\n",
       "      <td>shaw, irwin</td>\n",
       "      <td>welcome to the city, and other</td>\n",
       "      <td>1942.0</td>\n",
       "      <td>1942.0</td>\n",
       "      <td>3289.0</td>\n",
       "      <td>welcome to the city, and other stories.</td>\n",
       "      <td>NaN</td>\n",
       "      <td>NaN</td>\n",
       "      <td>NaN</td>\n",
       "      <td>NaN</td>\n",
       "      <td>NaN</td>\n",
       "    </tr>\n",
       "    <tr>\n",
       "      <th>1</th>\n",
       "      <td>uc1.$b322688</td>\n",
       "      <td>bennett, arnold</td>\n",
       "      <td>woman who stole everything</td>\n",
       "      <td>1927.0</td>\n",
       "      <td>1927.0</td>\n",
       "      <td>4140.0</td>\n",
       "      <td>woman who stole everything, and other stories.</td>\n",
       "      <td>NaN</td>\n",
       "      <td>NaN</td>\n",
       "      <td>NaN</td>\n",
       "      <td>NaN</td>\n",
       "      <td>NaN</td>\n",
       "    </tr>\n",
       "    <tr>\n",
       "      <th>2</th>\n",
       "      <td>uc1.b3407035</td>\n",
       "      <td>lippincott, joseph wharton</td>\n",
       "      <td>wilderness champion; the story</td>\n",
       "      <td>1944.0</td>\n",
       "      <td>1944.0</td>\n",
       "      <td>3481.0</td>\n",
       "      <td>wilderness champion; the story of a great houn...</td>\n",
       "      <td>NaN</td>\n",
       "      <td>NaN</td>\n",
       "      <td>NaN</td>\n",
       "      <td>NaN</td>\n",
       "      <td>NaN</td>\n",
       "    </tr>\n",
       "    <tr>\n",
       "      <th>3</th>\n",
       "      <td>uc1.$b116192</td>\n",
       "      <td>becker, may lamberton</td>\n",
       "      <td>golden tales of the southwest;</td>\n",
       "      <td>1939.0</td>\n",
       "      <td>1939.0</td>\n",
       "      <td>4283.0</td>\n",
       "      <td>golden tales of the southwest; selected with a...</td>\n",
       "      <td>NaN</td>\n",
       "      <td>NaN</td>\n",
       "      <td>NaN</td>\n",
       "      <td>NaN</td>\n",
       "      <td>NaN</td>\n",
       "    </tr>\n",
       "    <tr>\n",
       "      <th>4</th>\n",
       "      <td>mdp.39015059415383</td>\n",
       "      <td>miller, alice duer, mrs</td>\n",
       "      <td>instruments</td>\n",
       "      <td>1926.0</td>\n",
       "      <td>1926.0</td>\n",
       "      <td>2405.0</td>\n",
       "      <td>instruments of darkness, and other stories.</td>\n",
       "      <td>NaN</td>\n",
       "      <td>NaN</td>\n",
       "      <td>NaN</td>\n",
       "      <td>NaN</td>\n",
       "      <td>NaN</td>\n",
       "    </tr>\n",
       "  </tbody>\n",
       "</table>\n",
       "</div>"
      ],
      "text/plain": [
       "                docid                   tm_author  \\\n",
       "0        uc1.b3347126                 shaw, irwin   \n",
       "1        uc1.$b322688             bennett, arnold   \n",
       "2        uc1.b3407035  lippincott, joseph wharton   \n",
       "3        uc1.$b116192       becker, may lamberton   \n",
       "4  mdp.39015059415383     miller, alice duer, mrs   \n",
       "\n",
       "                       tm_title_x  tm_year_x  review_year  rownum  \\\n",
       "0  welcome to the city, and other     1942.0       1942.0  3289.0   \n",
       "1      woman who stole everything     1927.0       1927.0  4140.0   \n",
       "2  wilderness champion; the story     1944.0       1944.0  3481.0   \n",
       "3  golden tales of the southwest;     1939.0       1939.0  4283.0   \n",
       "4                    instruments      1926.0       1926.0  2405.0   \n",
       "\n",
       "                                        review_title prize_author tm_title_y  \\\n",
       "0            welcome to the city, and other stories.          NaN        NaN   \n",
       "1     woman who stole everything, and other stories.          NaN        NaN   \n",
       "2  wilderness champion; the story of a great houn...          NaN        NaN   \n",
       "3  golden tales of the southwest; selected with a...          NaN        NaN   \n",
       "4        instruments of darkness, and other stories.          NaN        NaN   \n",
       "\n",
       "   tm_year_y  bestseller_year is_bestseller  \n",
       "0        NaN              NaN           NaN  \n",
       "1        NaN              NaN           NaN  \n",
       "2        NaN              NaN           NaN  \n",
       "3        NaN              NaN           NaN  \n",
       "4        NaN              NaN           NaN  "
      ]
     },
     "execution_count": 29,
     "metadata": {},
     "output_type": "execute_result"
    }
   ],
   "source": [
    "complete.head()"
   ]
  },
  {
   "cell_type": "code",
   "execution_count": 30,
   "id": "f9a78386-9424-4a46-9af5-2286fce2476f",
   "metadata": {},
   "outputs": [
    {
     "name": "stdout",
     "output_type": "stream",
     "text": [
      "(4620, 10)\n"
     ]
    },
    {
     "data": {
      "text/html": [
       "<div>\n",
       "<style scoped>\n",
       "    .dataframe tbody tr th:only-of-type {\n",
       "        vertical-align: middle;\n",
       "    }\n",
       "\n",
       "    .dataframe tbody tr th {\n",
       "        vertical-align: top;\n",
       "    }\n",
       "\n",
       "    .dataframe thead th {\n",
       "        text-align: right;\n",
       "    }\n",
       "</style>\n",
       "<table border=\"1\" class=\"dataframe\">\n",
       "  <thead>\n",
       "    <tr style=\"text-align: right;\">\n",
       "      <th></th>\n",
       "      <th>docid</th>\n",
       "      <th>tm_author</th>\n",
       "      <th>tm_title</th>\n",
       "      <th>tm_year</th>\n",
       "      <th>review_year</th>\n",
       "      <th>rownum</th>\n",
       "      <th>review_title</th>\n",
       "      <th>prize_author</th>\n",
       "      <th>bestseller_year</th>\n",
       "      <th>is_bestseller</th>\n",
       "    </tr>\n",
       "  </thead>\n",
       "  <tbody>\n",
       "    <tr>\n",
       "      <th>0</th>\n",
       "      <td>uc1.b3347126</td>\n",
       "      <td>shaw, irwin</td>\n",
       "      <td>welcome to the city, and other</td>\n",
       "      <td>1942.0</td>\n",
       "      <td>1942.0</td>\n",
       "      <td>3289.0</td>\n",
       "      <td>welcome to the city, and other stories.</td>\n",
       "      <td>NaN</td>\n",
       "      <td>NaN</td>\n",
       "      <td>NaN</td>\n",
       "    </tr>\n",
       "    <tr>\n",
       "      <th>1</th>\n",
       "      <td>uc1.$b322688</td>\n",
       "      <td>bennett, arnold</td>\n",
       "      <td>woman who stole everything</td>\n",
       "      <td>1927.0</td>\n",
       "      <td>1927.0</td>\n",
       "      <td>4140.0</td>\n",
       "      <td>woman who stole everything, and other stories.</td>\n",
       "      <td>NaN</td>\n",
       "      <td>NaN</td>\n",
       "      <td>NaN</td>\n",
       "    </tr>\n",
       "    <tr>\n",
       "      <th>2</th>\n",
       "      <td>uc1.b3407035</td>\n",
       "      <td>lippincott, joseph wharton</td>\n",
       "      <td>wilderness champion; the story</td>\n",
       "      <td>1944.0</td>\n",
       "      <td>1944.0</td>\n",
       "      <td>3481.0</td>\n",
       "      <td>wilderness champion; the story of a great houn...</td>\n",
       "      <td>NaN</td>\n",
       "      <td>NaN</td>\n",
       "      <td>NaN</td>\n",
       "    </tr>\n",
       "    <tr>\n",
       "      <th>3</th>\n",
       "      <td>uc1.$b116192</td>\n",
       "      <td>becker, may lamberton</td>\n",
       "      <td>golden tales of the southwest;</td>\n",
       "      <td>1939.0</td>\n",
       "      <td>1939.0</td>\n",
       "      <td>4283.0</td>\n",
       "      <td>golden tales of the southwest; selected with a...</td>\n",
       "      <td>NaN</td>\n",
       "      <td>NaN</td>\n",
       "      <td>NaN</td>\n",
       "    </tr>\n",
       "    <tr>\n",
       "      <th>4</th>\n",
       "      <td>mdp.39015059415383</td>\n",
       "      <td>miller, alice duer, mrs</td>\n",
       "      <td>instruments</td>\n",
       "      <td>1926.0</td>\n",
       "      <td>1926.0</td>\n",
       "      <td>2405.0</td>\n",
       "      <td>instruments of darkness, and other stories.</td>\n",
       "      <td>NaN</td>\n",
       "      <td>NaN</td>\n",
       "      <td>NaN</td>\n",
       "    </tr>\n",
       "  </tbody>\n",
       "</table>\n",
       "</div>"
      ],
      "text/plain": [
       "                docid                   tm_author  \\\n",
       "0        uc1.b3347126                 shaw, irwin   \n",
       "1        uc1.$b322688             bennett, arnold   \n",
       "2        uc1.b3407035  lippincott, joseph wharton   \n",
       "3        uc1.$b116192       becker, may lamberton   \n",
       "4  mdp.39015059415383     miller, alice duer, mrs   \n",
       "\n",
       "                         tm_title  tm_year  review_year  rownum  \\\n",
       "0  welcome to the city, and other   1942.0       1942.0  3289.0   \n",
       "1      woman who stole everything   1927.0       1927.0  4140.0   \n",
       "2  wilderness champion; the story   1944.0       1944.0  3481.0   \n",
       "3  golden tales of the southwest;   1939.0       1939.0  4283.0   \n",
       "4                    instruments    1926.0       1926.0  2405.0   \n",
       "\n",
       "                                        review_title prize_author  \\\n",
       "0            welcome to the city, and other stories.          NaN   \n",
       "1     woman who stole everything, and other stories.          NaN   \n",
       "2  wilderness champion; the story of a great houn...          NaN   \n",
       "3  golden tales of the southwest; selected with a...          NaN   \n",
       "4        instruments of darkness, and other stories.          NaN   \n",
       "\n",
       "   bestseller_year is_bestseller  \n",
       "0              NaN           NaN  \n",
       "1              NaN           NaN  \n",
       "2              NaN           NaN  \n",
       "3              NaN           NaN  \n",
       "4              NaN           NaN  "
      ]
     },
     "execution_count": 30,
     "metadata": {},
     "output_type": "execute_result"
    }
   ],
   "source": [
    "listofdicts = []\n",
    "\n",
    "for idx, row in complete.iterrows():\n",
    "    newdict = dict()\n",
    "    for col in complete.columns:\n",
    "        if col.endswith('_x') or col.endswith('_y'):\n",
    "            prefix = col[0: -2]\n",
    "            if pd.isnull(row[prefix + '_x']):\n",
    "                value = row[prefix + '_y']\n",
    "            elif pd.isnull(row[prefix + '_y']):\n",
    "                value = row[prefix + '_x']\n",
    "            else:\n",
    "                if type(row[prefix + '_x']) == float or type(row[prefix + '_y']) == float:\n",
    "                    value = row[prefix + '_x']\n",
    "                elif len(row[prefix + '_x']) > len(row[prefix + '_y']):\n",
    "                    value = row[prefix + '_x']\n",
    "                else:\n",
    "                    value = row[prefix + '_y']\n",
    "                    \n",
    "            newdict[prefix] = value\n",
    "        else:\n",
    "            newdict[col] = row[col]\n",
    "        \n",
    "    listofdicts.append(newdict)\n",
    "complete = pd.DataFrame(listofdicts)\n",
    "print(complete.shape)\n",
    "complete.head()"
   ]
  },
  {
   "cell_type": "code",
   "execution_count": 31,
   "id": "6ceb7ed0-a901-497d-a862-5f61bc62dfff",
   "metadata": {},
   "outputs": [
    {
     "data": {
      "text/plain": [
       "4554"
      ]
     },
     "execution_count": 31,
     "metadata": {},
     "output_type": "execute_result"
    }
   ],
   "source": [
    "len(set(complete.docid))"
   ]
  },
  {
   "cell_type": "code",
   "execution_count": 34,
   "id": "683e64ba-dbeb-47a0-861b-0ab2ad529ee5",
   "metadata": {},
   "outputs": [
    {
     "data": {
      "text/plain": [
       "(4576, 10)"
      ]
     },
     "execution_count": 34,
     "metadata": {},
     "output_type": "execute_result"
    }
   ],
   "source": [
    "complete = complete.drop_duplicates()\n",
    "complete.shape"
   ]
  },
  {
   "cell_type": "code",
   "execution_count": 36,
   "id": "e5280b5f-4f93-4e99-9578-273c533f3d5f",
   "metadata": {},
   "outputs": [
    {
     "data": {
      "text/plain": [
       "327"
      ]
     },
     "execution_count": 36,
     "metadata": {},
     "output_type": "execute_result"
    }
   ],
   "source": [
    "sum(complete.prize_author == True)"
   ]
  },
  {
   "cell_type": "code",
   "execution_count": 37,
   "id": "ca8ac6fa-3848-4769-8ea4-e26b575d57ac",
   "metadata": {},
   "outputs": [
    {
     "data": {
      "text/plain": [
       "187"
      ]
     },
     "execution_count": 37,
     "metadata": {},
     "output_type": "execute_result"
    }
   ],
   "source": [
    "sum(complete.is_bestseller == True)"
   ]
  },
  {
   "cell_type": "code",
   "execution_count": 40,
   "id": "3fd6a4eb-4ca4-480a-bd74-777a503b7be3",
   "metadata": {},
   "outputs": [],
   "source": [
    "complete.is_bestseller = complete.is_bestseller.fillna(value = False)"
   ]
  },
  {
   "cell_type": "code",
   "execution_count": 42,
   "id": "6fc6af04-38f8-4f27-9e9a-2679793fa7c3",
   "metadata": {},
   "outputs": [],
   "source": [
    "complete.prize_author = complete.prize_author.fillna(value = False)"
   ]
  },
  {
   "cell_type": "code",
   "execution_count": 43,
   "id": "a1795443-daea-4578-9fd3-d16587a02bb7",
   "metadata": {},
   "outputs": [
    {
     "data": {
      "text/html": [
       "<div>\n",
       "<style scoped>\n",
       "    .dataframe tbody tr th:only-of-type {\n",
       "        vertical-align: middle;\n",
       "    }\n",
       "\n",
       "    .dataframe tbody tr th {\n",
       "        vertical-align: top;\n",
       "    }\n",
       "\n",
       "    .dataframe thead th {\n",
       "        text-align: right;\n",
       "    }\n",
       "</style>\n",
       "<table border=\"1\" class=\"dataframe\">\n",
       "  <thead>\n",
       "    <tr style=\"text-align: right;\">\n",
       "      <th></th>\n",
       "      <th>docid</th>\n",
       "      <th>tm_author</th>\n",
       "      <th>tm_title</th>\n",
       "      <th>tm_year</th>\n",
       "      <th>review_year</th>\n",
       "      <th>rownum</th>\n",
       "      <th>review_title</th>\n",
       "      <th>prize_author</th>\n",
       "      <th>bestseller_year</th>\n",
       "      <th>is_bestseller</th>\n",
       "    </tr>\n",
       "  </thead>\n",
       "  <tbody>\n",
       "    <tr>\n",
       "      <th>4426</th>\n",
       "      <td>nyp.33433076049414</td>\n",
       "      <td>perry, lawrence</td>\n",
       "      <td>for the ga</td>\n",
       "      <td>1920.0</td>\n",
       "      <td>1920.0</td>\n",
       "      <td>2480.0</td>\n",
       "      <td>for the e's sake.</td>\n",
       "      <td>False</td>\n",
       "      <td>NaN</td>\n",
       "      <td>False</td>\n",
       "    </tr>\n",
       "    <tr>\n",
       "      <th>4427</th>\n",
       "      <td>uc1.$b80847</td>\n",
       "      <td>duhamel, georges</td>\n",
       "      <td>salavin</td>\n",
       "      <td>1935.0</td>\n",
       "      <td>1936.0</td>\n",
       "      <td>826.0</td>\n",
       "      <td>salavln; tr.</td>\n",
       "      <td>False</td>\n",
       "      <td>NaN</td>\n",
       "      <td>False</td>\n",
       "    </tr>\n",
       "    <tr>\n",
       "      <th>4428</th>\n",
       "      <td>nyp.33433074807599</td>\n",
       "      <td>brent, john</td>\n",
       "      <td>a man's game</td>\n",
       "      <td>1882.0</td>\n",
       "      <td>1921.0</td>\n",
       "      <td>164.0</td>\n",
       "      <td>man's game.</td>\n",
       "      <td>False</td>\n",
       "      <td>NaN</td>\n",
       "      <td>False</td>\n",
       "    </tr>\n",
       "    <tr>\n",
       "      <th>4429</th>\n",
       "      <td>inu.30000035052244</td>\n",
       "      <td>maugham, w. somerset, (william somerset)</td>\n",
       "      <td>casuarina tree : six stories</td>\n",
       "      <td>1926.0</td>\n",
       "      <td>1926.0</td>\n",
       "      <td>1237.0</td>\n",
       "      <td>ciisuarina tree.</td>\n",
       "      <td>False</td>\n",
       "      <td>NaN</td>\n",
       "      <td>False</td>\n",
       "    </tr>\n",
       "    <tr>\n",
       "      <th>4430</th>\n",
       "      <td>mdp.39015030946902</td>\n",
       "      <td>bodenheim, maxwell</td>\n",
       "      <td>georgie may</td>\n",
       "      <td>1928.0</td>\n",
       "      <td>1928.0</td>\n",
       "      <td>10.0</td>\n",
       "      <td>qeorgle may.</td>\n",
       "      <td>False</td>\n",
       "      <td>NaN</td>\n",
       "      <td>False</td>\n",
       "    </tr>\n",
       "    <tr>\n",
       "      <th>4431</th>\n",
       "      <td>mdp.49015000570912</td>\n",
       "      <td>clark, walter van tilburg</td>\n",
       "      <td>watchful gods, and other st</td>\n",
       "      <td>1950.0</td>\n",
       "      <td>1950.0</td>\n",
       "      <td>1024.0</td>\n",
       "      <td>watchful and other stories.</td>\n",
       "      <td>False</td>\n",
       "      <td>NaN</td>\n",
       "      <td>False</td>\n",
       "    </tr>\n",
       "    <tr>\n",
       "      <th>4432</th>\n",
       "      <td>uc1.b3688341</td>\n",
       "      <td>frye, ralph bridges</td>\n",
       "      <td>uncle 'lish</td>\n",
       "      <td>1945.0</td>\n",
       "      <td>1945.0</td>\n",
       "      <td>268.0</td>\n",
       "      <td>uncle 'ush.</td>\n",
       "      <td>False</td>\n",
       "      <td>NaN</td>\n",
       "      <td>False</td>\n",
       "    </tr>\n",
       "    <tr>\n",
       "      <th>4433</th>\n",
       "      <td>uc1.b3148807</td>\n",
       "      <td>kaus, gina</td>\n",
       "      <td>tomorrow we</td>\n",
       "      <td>1933.0</td>\n",
       "      <td>1934.0</td>\n",
       "      <td>4996.0</td>\n",
       "      <td>tomorrow we part [tr.</td>\n",
       "      <td>False</td>\n",
       "      <td>NaN</td>\n",
       "      <td>False</td>\n",
       "    </tr>\n",
       "    <tr>\n",
       "      <th>4434</th>\n",
       "      <td>mdp.39015015186334</td>\n",
       "      <td>green, henry</td>\n",
       "      <td>loving,</td>\n",
       "      <td>1945.0</td>\n",
       "      <td>1949.0</td>\n",
       "      <td>3901.0</td>\n",
       "      <td>loving.</td>\n",
       "      <td>False</td>\n",
       "      <td>NaN</td>\n",
       "      <td>False</td>\n",
       "    </tr>\n",
       "    <tr>\n",
       "      <th>4435</th>\n",
       "      <td>uc1.b4104150</td>\n",
       "      <td>bacon, leonard</td>\n",
       "      <td>furioso</td>\n",
       "      <td>1932.0</td>\n",
       "      <td>1932.0</td>\n",
       "      <td>2061.0</td>\n",
       "      <td>the furloso.</td>\n",
       "      <td>False</td>\n",
       "      <td>NaN</td>\n",
       "      <td>False</td>\n",
       "    </tr>\n",
       "    <tr>\n",
       "      <th>4436</th>\n",
       "      <td>uc1.$b87294</td>\n",
       "      <td>dennis, nigel forbes</td>\n",
       "      <td>a sea chang</td>\n",
       "      <td>1949.0</td>\n",
       "      <td>1949.0</td>\n",
       "      <td>2487.0</td>\n",
       "      <td>sea change.</td>\n",
       "      <td>False</td>\n",
       "      <td>NaN</td>\n",
       "      <td>False</td>\n",
       "    </tr>\n",
       "    <tr>\n",
       "      <th>4437</th>\n",
       "      <td>uc1.32106002107420</td>\n",
       "      <td>fitzgerald, f. scott (francis scott)</td>\n",
       "      <td>beautiful and the damned</td>\n",
       "      <td>1922.0</td>\n",
       "      <td>1922.0</td>\n",
       "      <td>436.0</td>\n",
       "      <td>beautiful and damned.</td>\n",
       "      <td>False</td>\n",
       "      <td>NaN</td>\n",
       "      <td>False</td>\n",
       "    </tr>\n",
       "    <tr>\n",
       "      <th>4438</th>\n",
       "      <td>uc1.$b86878</td>\n",
       "      <td>coon, carleton stevens</td>\n",
       "      <td>riffian</td>\n",
       "      <td>1933.0</td>\n",
       "      <td>1933.0</td>\n",
       "      <td>508.0</td>\n",
       "      <td>the rifflan.</td>\n",
       "      <td>False</td>\n",
       "      <td>NaN</td>\n",
       "      <td>False</td>\n",
       "    </tr>\n",
       "    <tr>\n",
       "      <th>4439</th>\n",
       "      <td>mdp.39015012976992</td>\n",
       "      <td>heinlein, robert a. (robert anson)</td>\n",
       "      <td>waldo and m</td>\n",
       "      <td>1950.0</td>\n",
       "      <td>1950.0</td>\n",
       "      <td>5824.0</td>\n",
       "      <td>waldo; and.</td>\n",
       "      <td>False</td>\n",
       "      <td>NaN</td>\n",
       "      <td>False</td>\n",
       "    </tr>\n",
       "    <tr>\n",
       "      <th>4440</th>\n",
       "      <td>uc1.$b223956</td>\n",
       "      <td>dreiser, theodore</td>\n",
       "      <td>chains</td>\n",
       "      <td>1927.0</td>\n",
       "      <td>1927.0</td>\n",
       "      <td>3266.0</td>\n",
       "      <td>chains.</td>\n",
       "      <td>False</td>\n",
       "      <td>NaN</td>\n",
       "      <td>False</td>\n",
       "    </tr>\n",
       "    <tr>\n",
       "      <th>4441</th>\n",
       "      <td>mdp.39015063975968</td>\n",
       "      <td>wright, s. fowler (sydney fowler)</td>\n",
       "      <td>deluge; a romance</td>\n",
       "      <td>1927.0</td>\n",
       "      <td>1928.0</td>\n",
       "      <td>483.0</td>\n",
       "      <td>deluge.</td>\n",
       "      <td>False</td>\n",
       "      <td>NaN</td>\n",
       "      <td>False</td>\n",
       "    </tr>\n",
       "    <tr>\n",
       "      <th>4442</th>\n",
       "      <td>uc1.$b300347</td>\n",
       "      <td>gibbs, a. hamilton (arthur hamilton)</td>\n",
       "      <td>labels; a no</td>\n",
       "      <td>1926.0</td>\n",
       "      <td>1926.0</td>\n",
       "      <td>1397.0</td>\n",
       "      <td>labels.</td>\n",
       "      <td>False</td>\n",
       "      <td>NaN</td>\n",
       "      <td>False</td>\n",
       "    </tr>\n",
       "    <tr>\n",
       "      <th>4443</th>\n",
       "      <td>mdp.39015032034640</td>\n",
       "      <td>rølvaag, o. e. (ole edvart)</td>\n",
       "      <td>peder victorious, a novel</td>\n",
       "      <td>1929.0</td>\n",
       "      <td>1929.0</td>\n",
       "      <td>1747.0</td>\n",
       "      <td>peder victorious; tr.</td>\n",
       "      <td>False</td>\n",
       "      <td>NaN</td>\n",
       "      <td>False</td>\n",
       "    </tr>\n",
       "    <tr>\n",
       "      <th>4444</th>\n",
       "      <td>uc1.b3710737</td>\n",
       "      <td>lancaster, bruce</td>\n",
       "      <td>for us the living</td>\n",
       "      <td>1940.0</td>\n",
       "      <td>1940.0</td>\n",
       "      <td>5579.0</td>\n",
       "      <td>for us.</td>\n",
       "      <td>False</td>\n",
       "      <td>NaN</td>\n",
       "      <td>False</td>\n",
       "    </tr>\n",
       "    <tr>\n",
       "      <th>4445</th>\n",
       "      <td>uc1.b3122295</td>\n",
       "      <td>raine, william macleod</td>\n",
       "      <td>king of the bu</td>\n",
       "      <td>1937.0</td>\n",
       "      <td>1936.0</td>\n",
       "      <td>4599.0</td>\n",
       "      <td>run of the brush.</td>\n",
       "      <td>False</td>\n",
       "      <td>NaN</td>\n",
       "      <td>False</td>\n",
       "    </tr>\n",
       "    <tr>\n",
       "      <th>4446</th>\n",
       "      <td>uc1.b4095546</td>\n",
       "      <td>frank, pat</td>\n",
       "      <td>an affair of sta</td>\n",
       "      <td>1948.0</td>\n",
       "      <td>1948.0</td>\n",
       "      <td>1865.0</td>\n",
       "      <td>affair of state.</td>\n",
       "      <td>False</td>\n",
       "      <td>NaN</td>\n",
       "      <td>False</td>\n",
       "    </tr>\n",
       "    <tr>\n",
       "      <th>4447</th>\n",
       "      <td>mdp.39015062457323</td>\n",
       "      <td>waugh, evelyn</td>\n",
       "      <td>helena,</td>\n",
       "      <td>1950.0</td>\n",
       "      <td>1950.0</td>\n",
       "      <td>4315.0</td>\n",
       "      <td>helena.</td>\n",
       "      <td>False</td>\n",
       "      <td>NaN</td>\n",
       "      <td>False</td>\n",
       "    </tr>\n",
       "    <tr>\n",
       "      <th>4448</th>\n",
       "      <td>mdp.39015008992433</td>\n",
       "      <td>johnson, pamela hansford</td>\n",
       "      <td>an avenue of sto</td>\n",
       "      <td>1947.0</td>\n",
       "      <td>1948.0</td>\n",
       "      <td>692.0</td>\n",
       "      <td>avenue of stone.</td>\n",
       "      <td>False</td>\n",
       "      <td>NaN</td>\n",
       "      <td>False</td>\n",
       "    </tr>\n",
       "    <tr>\n",
       "      <th>4449</th>\n",
       "      <td>mdp.39015060429829</td>\n",
       "      <td>brown, rollo walter</td>\n",
       "      <td>firemakers, a</td>\n",
       "      <td>1931.0</td>\n",
       "      <td>1931.0</td>\n",
       "      <td>2818.0</td>\n",
       "      <td>flremakers.</td>\n",
       "      <td>False</td>\n",
       "      <td>NaN</td>\n",
       "      <td>False</td>\n",
       "    </tr>\n",
       "    <tr>\n",
       "      <th>4450</th>\n",
       "      <td>uc1.$b102384</td>\n",
       "      <td>knight, clifford</td>\n",
       "      <td>affair of t</td>\n",
       "      <td>1942.0</td>\n",
       "      <td>1941.0</td>\n",
       "      <td>941.0</td>\n",
       "      <td>the affair of the skiing clown.</td>\n",
       "      <td>False</td>\n",
       "      <td>NaN</td>\n",
       "      <td>False</td>\n",
       "    </tr>\n",
       "    <tr>\n",
       "      <th>4451</th>\n",
       "      <td>uc1.$b245177</td>\n",
       "      <td>walpole, hugh, sir</td>\n",
       "      <td>wintersmoon</td>\n",
       "      <td>1927.0</td>\n",
       "      <td>1928.0</td>\n",
       "      <td>2995.0</td>\n",
       "      <td>wmtersmoon.</td>\n",
       "      <td>False</td>\n",
       "      <td>1928.0</td>\n",
       "      <td>True</td>\n",
       "    </tr>\n",
       "    <tr>\n",
       "      <th>4452</th>\n",
       "      <td>uc1.b3116636</td>\n",
       "      <td>hahn, emily</td>\n",
       "      <td>mr. pan</td>\n",
       "      <td>1942.0</td>\n",
       "      <td>1942.0</td>\n",
       "      <td>2466.0</td>\n",
       "      <td>mr pan.</td>\n",
       "      <td>False</td>\n",
       "      <td>NaN</td>\n",
       "      <td>False</td>\n",
       "    </tr>\n",
       "    <tr>\n",
       "      <th>4453</th>\n",
       "      <td>nyp.33433074817101</td>\n",
       "      <td>craig, matthew</td>\n",
       "      <td>maktoub : a</td>\n",
       "      <td>1918.0</td>\n",
       "      <td>1918.0</td>\n",
       "      <td>1321.0</td>\n",
       "      <td>maktoub: s.</td>\n",
       "      <td>False</td>\n",
       "      <td>NaN</td>\n",
       "      <td>False</td>\n",
       "    </tr>\n",
       "    <tr>\n",
       "      <th>4454</th>\n",
       "      <td>nyp.33433075766588</td>\n",
       "      <td>phillpotts, eden</td>\n",
       "      <td>children of the</td>\n",
       "      <td>1898.0</td>\n",
       "      <td>1923.0</td>\n",
       "      <td>13.0</td>\n",
       "      <td>children of men.</td>\n",
       "      <td>False</td>\n",
       "      <td>NaN</td>\n",
       "      <td>False</td>\n",
       "    </tr>\n",
       "    <tr>\n",
       "      <th>4455</th>\n",
       "      <td>mdp.39015000674997</td>\n",
       "      <td>wodehouse, p. g., (pelham grenville)</td>\n",
       "      <td>jeeves and the</td>\n",
       "      <td>1971.0</td>\n",
       "      <td>1923.0</td>\n",
       "      <td>1912.0</td>\n",
       "      <td>jeeves.</td>\n",
       "      <td>False</td>\n",
       "      <td>NaN</td>\n",
       "      <td>False</td>\n",
       "    </tr>\n",
       "    <tr>\n",
       "      <th>4456</th>\n",
       "      <td>mdp.39015063938958</td>\n",
       "      <td>lyons, a. neil (albert neil)</td>\n",
       "      <td>a london lo</td>\n",
       "      <td>1919.0</td>\n",
       "      <td>1919.0</td>\n",
       "      <td>530.0</td>\n",
       "      <td>london lot.</td>\n",
       "      <td>False</td>\n",
       "      <td>NaN</td>\n",
       "      <td>False</td>\n",
       "    </tr>\n",
       "    <tr>\n",
       "      <th>4457</th>\n",
       "      <td>uc1.$b301030</td>\n",
       "      <td>keable, robert</td>\n",
       "      <td>recompence; a seq</td>\n",
       "      <td>1924.0</td>\n",
       "      <td>1924.0</td>\n",
       "      <td>3704.0</td>\n",
       "      <td>recompense.</td>\n",
       "      <td>False</td>\n",
       "      <td>NaN</td>\n",
       "      <td>False</td>\n",
       "    </tr>\n",
       "    <tr>\n",
       "      <th>4458</th>\n",
       "      <td>mdp.39015063977618</td>\n",
       "      <td>pedler, margaret (bass) mrs</td>\n",
       "      <td>bitter heritage</td>\n",
       "      <td>1927.0</td>\n",
       "      <td>1928.0</td>\n",
       "      <td>1240.0</td>\n",
       "      <td>bitter heritjike.</td>\n",
       "      <td>False</td>\n",
       "      <td>NaN</td>\n",
       "      <td>False</td>\n",
       "    </tr>\n",
       "    <tr>\n",
       "      <th>4459</th>\n",
       "      <td>wu.89004700936</td>\n",
       "      <td>hough, emerson</td>\n",
       "      <td>sagebrusher; a</td>\n",
       "      <td>1919.0</td>\n",
       "      <td>1919.0</td>\n",
       "      <td>2067.0</td>\n",
       "      <td>sagebrusher. 11</td>\n",
       "      <td>False</td>\n",
       "      <td>NaN</td>\n",
       "      <td>False</td>\n",
       "    </tr>\n",
       "    <tr>\n",
       "      <th>4460</th>\n",
       "      <td>uc2.ark+=13960=t7zk58d8q</td>\n",
       "      <td>phillpotts, eden</td>\n",
       "      <td>human boy again</td>\n",
       "      <td>1908.0</td>\n",
       "      <td>1916.0</td>\n",
       "      <td>2505.0</td>\n",
       "      <td>human boy and the war.</td>\n",
       "      <td>False</td>\n",
       "      <td>NaN</td>\n",
       "      <td>False</td>\n",
       "    </tr>\n",
       "    <tr>\n",
       "      <th>4461</th>\n",
       "      <td>uc1.32106014453721</td>\n",
       "      <td>sayers, dorothy l. (dorothy leigh)</td>\n",
       "      <td>clouds of witness : and th</td>\n",
       "      <td>1956.0</td>\n",
       "      <td>1927.0</td>\n",
       "      <td>4853.0</td>\n",
       "      <td>clouda of witnesses.</td>\n",
       "      <td>False</td>\n",
       "      <td>NaN</td>\n",
       "      <td>False</td>\n",
       "    </tr>\n",
       "    <tr>\n",
       "      <th>4462</th>\n",
       "      <td>mdp.39015002756875</td>\n",
       "      <td>saroyan, william</td>\n",
       "      <td>inhale &amp; exhale</td>\n",
       "      <td>1936.0</td>\n",
       "      <td>1936.0</td>\n",
       "      <td>2135.0</td>\n",
       "      <td>inhale and exhale.</td>\n",
       "      <td>False</td>\n",
       "      <td>NaN</td>\n",
       "      <td>False</td>\n",
       "    </tr>\n",
       "    <tr>\n",
       "      <th>4463</th>\n",
       "      <td>mdp.39015003600767</td>\n",
       "      <td>longus</td>\n",
       "      <td>daphnis &amp; chloe</td>\n",
       "      <td>1916.0</td>\n",
       "      <td>1949.0</td>\n",
       "      <td>3982.0</td>\n",
       "      <td>daphnis and chloe [tr.</td>\n",
       "      <td>False</td>\n",
       "      <td>NaN</td>\n",
       "      <td>False</td>\n",
       "    </tr>\n",
       "    <tr>\n",
       "      <th>4464</th>\n",
       "      <td>mdp.39015030851102</td>\n",
       "      <td>bromfield, louis</td>\n",
       "      <td>possession</td>\n",
       "      <td>1925.0</td>\n",
       "      <td>NaN</td>\n",
       "      <td>NaN</td>\n",
       "      <td>NaN</td>\n",
       "      <td>True</td>\n",
       "      <td>NaN</td>\n",
       "      <td>False</td>\n",
       "    </tr>\n",
       "    <tr>\n",
       "      <th>4465</th>\n",
       "      <td>uc1.$b322854</td>\n",
       "      <td>bromfield, louis</td>\n",
       "      <td>a good woman</td>\n",
       "      <td>1927.0</td>\n",
       "      <td>NaN</td>\n",
       "      <td>NaN</td>\n",
       "      <td>NaN</td>\n",
       "      <td>True</td>\n",
       "      <td>1927.0</td>\n",
       "      <td>True</td>\n",
       "    </tr>\n",
       "    <tr>\n",
       "      <th>4466</th>\n",
       "      <td>uc1.$b86144</td>\n",
       "      <td>bromfield, louis</td>\n",
       "      <td>the wild country, a novel</td>\n",
       "      <td>1948.0</td>\n",
       "      <td>NaN</td>\n",
       "      <td>NaN</td>\n",
       "      <td>NaN</td>\n",
       "      <td>True</td>\n",
       "      <td>NaN</td>\n",
       "      <td>False</td>\n",
       "    </tr>\n",
       "    <tr>\n",
       "      <th>4467</th>\n",
       "      <td>uc2.ark+=13960=t78s4kj2t</td>\n",
       "      <td>cather, willa</td>\n",
       "      <td>youth and the bright medusa</td>\n",
       "      <td>1920.0</td>\n",
       "      <td>NaN</td>\n",
       "      <td>NaN</td>\n",
       "      <td>NaN</td>\n",
       "      <td>True</td>\n",
       "      <td>NaN</td>\n",
       "      <td>False</td>\n",
       "    </tr>\n",
       "    <tr>\n",
       "      <th>4468</th>\n",
       "      <td>mdp.39015008779871</td>\n",
       "      <td>cather, willa</td>\n",
       "      <td>one of ours</td>\n",
       "      <td>1922.0</td>\n",
       "      <td>NaN</td>\n",
       "      <td>NaN</td>\n",
       "      <td>NaN</td>\n",
       "      <td>True</td>\n",
       "      <td>NaN</td>\n",
       "      <td>False</td>\n",
       "    </tr>\n",
       "    <tr>\n",
       "      <th>4469</th>\n",
       "      <td>mdp.39015019187809</td>\n",
       "      <td>cather, willa</td>\n",
       "      <td>a lost lady</td>\n",
       "      <td>1923.0</td>\n",
       "      <td>NaN</td>\n",
       "      <td>NaN</td>\n",
       "      <td>NaN</td>\n",
       "      <td>True</td>\n",
       "      <td>NaN</td>\n",
       "      <td>False</td>\n",
       "    </tr>\n",
       "    <tr>\n",
       "      <th>4470</th>\n",
       "      <td>mdp.39015004288455</td>\n",
       "      <td>cather, willa</td>\n",
       "      <td>the professor's house</td>\n",
       "      <td>1925.0</td>\n",
       "      <td>NaN</td>\n",
       "      <td>NaN</td>\n",
       "      <td>NaN</td>\n",
       "      <td>True</td>\n",
       "      <td>NaN</td>\n",
       "      <td>False</td>\n",
       "    </tr>\n",
       "    <tr>\n",
       "      <th>4471</th>\n",
       "      <td>mdp.39015005083418</td>\n",
       "      <td>cather, willa</td>\n",
       "      <td>my mortal enemy</td>\n",
       "      <td>1926.0</td>\n",
       "      <td>NaN</td>\n",
       "      <td>NaN</td>\n",
       "      <td>NaN</td>\n",
       "      <td>True</td>\n",
       "      <td>NaN</td>\n",
       "      <td>False</td>\n",
       "    </tr>\n",
       "    <tr>\n",
       "      <th>4472</th>\n",
       "      <td>mdp.39015002309139</td>\n",
       "      <td>cather, willa</td>\n",
       "      <td>death comes for the archbishop</td>\n",
       "      <td>1927.0</td>\n",
       "      <td>NaN</td>\n",
       "      <td>NaN</td>\n",
       "      <td>NaN</td>\n",
       "      <td>True</td>\n",
       "      <td>NaN</td>\n",
       "      <td>False</td>\n",
       "    </tr>\n",
       "    <tr>\n",
       "      <th>4473</th>\n",
       "      <td>mdp.39015008265236</td>\n",
       "      <td>cather, willa</td>\n",
       "      <td>obscure destinies</td>\n",
       "      <td>1932.0</td>\n",
       "      <td>NaN</td>\n",
       "      <td>NaN</td>\n",
       "      <td>NaN</td>\n",
       "      <td>True</td>\n",
       "      <td>NaN</td>\n",
       "      <td>False</td>\n",
       "    </tr>\n",
       "    <tr>\n",
       "      <th>4474</th>\n",
       "      <td>mdp.39015048708559</td>\n",
       "      <td>cather, willa</td>\n",
       "      <td>december night; a scene from willa cather's no...</td>\n",
       "      <td>1933.0</td>\n",
       "      <td>NaN</td>\n",
       "      <td>NaN</td>\n",
       "      <td>NaN</td>\n",
       "      <td>True</td>\n",
       "      <td>NaN</td>\n",
       "      <td>False</td>\n",
       "    </tr>\n",
       "    <tr>\n",
       "      <th>4475</th>\n",
       "      <td>mdp.39015019073975</td>\n",
       "      <td>cather, willa</td>\n",
       "      <td>lucy gayheart</td>\n",
       "      <td>1935.0</td>\n",
       "      <td>NaN</td>\n",
       "      <td>NaN</td>\n",
       "      <td>NaN</td>\n",
       "      <td>True</td>\n",
       "      <td>NaN</td>\n",
       "      <td>False</td>\n",
       "    </tr>\n",
       "  </tbody>\n",
       "</table>\n",
       "</div>"
      ],
      "text/plain": [
       "                         docid                                 tm_author  \\\n",
       "4426        nyp.33433076049414                           perry, lawrence   \n",
       "4427               uc1.$b80847                          duhamel, georges   \n",
       "4428        nyp.33433074807599                               brent, john   \n",
       "4429        inu.30000035052244  maugham, w. somerset, (william somerset)   \n",
       "4430        mdp.39015030946902                        bodenheim, maxwell   \n",
       "4431        mdp.49015000570912                 clark, walter van tilburg   \n",
       "4432              uc1.b3688341                       frye, ralph bridges   \n",
       "4433              uc1.b3148807                                kaus, gina   \n",
       "4434        mdp.39015015186334                              green, henry   \n",
       "4435              uc1.b4104150                            bacon, leonard   \n",
       "4436               uc1.$b87294                      dennis, nigel forbes   \n",
       "4437        uc1.32106002107420      fitzgerald, f. scott (francis scott)   \n",
       "4438               uc1.$b86878                    coon, carleton stevens   \n",
       "4439        mdp.39015012976992        heinlein, robert a. (robert anson)   \n",
       "4440              uc1.$b223956                         dreiser, theodore   \n",
       "4441        mdp.39015063975968         wright, s. fowler (sydney fowler)   \n",
       "4442              uc1.$b300347      gibbs, a. hamilton (arthur hamilton)   \n",
       "4443        mdp.39015032034640               rølvaag, o. e. (ole edvart)   \n",
       "4444              uc1.b3710737                          lancaster, bruce   \n",
       "4445              uc1.b3122295                    raine, william macleod   \n",
       "4446              uc1.b4095546                                frank, pat   \n",
       "4447        mdp.39015062457323                             waugh, evelyn   \n",
       "4448        mdp.39015008992433                  johnson, pamela hansford   \n",
       "4449        mdp.39015060429829                       brown, rollo walter   \n",
       "4450              uc1.$b102384                          knight, clifford   \n",
       "4451              uc1.$b245177                        walpole, hugh, sir   \n",
       "4452              uc1.b3116636                               hahn, emily   \n",
       "4453        nyp.33433074817101                            craig, matthew   \n",
       "4454        nyp.33433075766588                          phillpotts, eden   \n",
       "4455        mdp.39015000674997      wodehouse, p. g., (pelham grenville)   \n",
       "4456        mdp.39015063938958              lyons, a. neil (albert neil)   \n",
       "4457              uc1.$b301030                            keable, robert   \n",
       "4458        mdp.39015063977618               pedler, margaret (bass) mrs   \n",
       "4459            wu.89004700936                            hough, emerson   \n",
       "4460  uc2.ark+=13960=t7zk58d8q                          phillpotts, eden   \n",
       "4461        uc1.32106014453721        sayers, dorothy l. (dorothy leigh)   \n",
       "4462        mdp.39015002756875                          saroyan, william   \n",
       "4463        mdp.39015003600767                                    longus   \n",
       "4464        mdp.39015030851102                          bromfield, louis   \n",
       "4465              uc1.$b322854                          bromfield, louis   \n",
       "4466               uc1.$b86144                          bromfield, louis   \n",
       "4467  uc2.ark+=13960=t78s4kj2t                             cather, willa   \n",
       "4468        mdp.39015008779871                             cather, willa   \n",
       "4469        mdp.39015019187809                             cather, willa   \n",
       "4470        mdp.39015004288455                             cather, willa   \n",
       "4471        mdp.39015005083418                             cather, willa   \n",
       "4472        mdp.39015002309139                             cather, willa   \n",
       "4473        mdp.39015008265236                             cather, willa   \n",
       "4474        mdp.39015048708559                             cather, willa   \n",
       "4475        mdp.39015019073975                             cather, willa   \n",
       "\n",
       "                                               tm_title  tm_year  review_year  \\\n",
       "4426                                         for the ga   1920.0       1920.0   \n",
       "4427                                            salavin   1935.0       1936.0   \n",
       "4428                                       a man's game   1882.0       1921.0   \n",
       "4429                       casuarina tree : six stories   1926.0       1926.0   \n",
       "4430                                        georgie may   1928.0       1928.0   \n",
       "4431                        watchful gods, and other st   1950.0       1950.0   \n",
       "4432                                        uncle 'lish   1945.0       1945.0   \n",
       "4433                                       tomorrow we    1933.0       1934.0   \n",
       "4434                                            loving,   1945.0       1949.0   \n",
       "4435                                            furioso   1932.0       1932.0   \n",
       "4436                                        a sea chang   1949.0       1949.0   \n",
       "4437                           beautiful and the damned   1922.0       1922.0   \n",
       "4438                                            riffian   1933.0       1933.0   \n",
       "4439                                        waldo and m   1950.0       1950.0   \n",
       "4440                                             chains   1927.0       1927.0   \n",
       "4441                                  deluge; a romance   1927.0       1928.0   \n",
       "4442                                       labels; a no   1926.0       1926.0   \n",
       "4443                          peder victorious, a novel   1929.0       1929.0   \n",
       "4444                                  for us the living   1940.0       1940.0   \n",
       "4445                                     king of the bu   1937.0       1936.0   \n",
       "4446                                   an affair of sta   1948.0       1948.0   \n",
       "4447                                            helena,   1950.0       1950.0   \n",
       "4448                                   an avenue of sto   1947.0       1948.0   \n",
       "4449                                     firemakers, a    1931.0       1931.0   \n",
       "4450                                        affair of t   1942.0       1941.0   \n",
       "4451                                        wintersmoon   1927.0       1928.0   \n",
       "4452                                            mr. pan   1942.0       1942.0   \n",
       "4453                                        maktoub : a   1918.0       1918.0   \n",
       "4454                                   children of the    1898.0       1923.0   \n",
       "4455                                     jeeves and the   1971.0       1923.0   \n",
       "4456                                        a london lo   1919.0       1919.0   \n",
       "4457                                  recompence; a seq   1924.0       1924.0   \n",
       "4458                                    bitter heritage   1927.0       1928.0   \n",
       "4459                                     sagebrusher; a   1919.0       1919.0   \n",
       "4460                                    human boy again   1908.0       1916.0   \n",
       "4461                         clouds of witness : and th   1956.0       1927.0   \n",
       "4462                                    inhale & exhale   1936.0       1936.0   \n",
       "4463                                    daphnis & chloe   1916.0       1949.0   \n",
       "4464                                         possession   1925.0          NaN   \n",
       "4465                                       a good woman   1927.0          NaN   \n",
       "4466                          the wild country, a novel   1948.0          NaN   \n",
       "4467                        youth and the bright medusa   1920.0          NaN   \n",
       "4468                                        one of ours   1922.0          NaN   \n",
       "4469                                        a lost lady   1923.0          NaN   \n",
       "4470                              the professor's house   1925.0          NaN   \n",
       "4471                                    my mortal enemy   1926.0          NaN   \n",
       "4472                     death comes for the archbishop   1927.0          NaN   \n",
       "4473                                  obscure destinies   1932.0          NaN   \n",
       "4474  december night; a scene from willa cather's no...   1933.0          NaN   \n",
       "4475                                      lucy gayheart   1935.0          NaN   \n",
       "\n",
       "      rownum                     review_title  prize_author  bestseller_year  \\\n",
       "4426  2480.0                for the e's sake.         False              NaN   \n",
       "4427   826.0                     salavln; tr.         False              NaN   \n",
       "4428   164.0                      man's game.         False              NaN   \n",
       "4429  1237.0                 ciisuarina tree.         False              NaN   \n",
       "4430    10.0                     qeorgle may.         False              NaN   \n",
       "4431  1024.0      watchful and other stories.         False              NaN   \n",
       "4432   268.0                      uncle 'ush.         False              NaN   \n",
       "4433  4996.0            tomorrow we part [tr.         False              NaN   \n",
       "4434  3901.0                          loving.         False              NaN   \n",
       "4435  2061.0                     the furloso.         False              NaN   \n",
       "4436  2487.0                      sea change.         False              NaN   \n",
       "4437   436.0            beautiful and damned.         False              NaN   \n",
       "4438   508.0                     the rifflan.         False              NaN   \n",
       "4439  5824.0                      waldo; and.         False              NaN   \n",
       "4440  3266.0                          chains.         False              NaN   \n",
       "4441   483.0                          deluge.         False              NaN   \n",
       "4442  1397.0                          labels.         False              NaN   \n",
       "4443  1747.0            peder victorious; tr.         False              NaN   \n",
       "4444  5579.0                          for us.         False              NaN   \n",
       "4445  4599.0                run of the brush.         False              NaN   \n",
       "4446  1865.0                 affair of state.         False              NaN   \n",
       "4447  4315.0                          helena.         False              NaN   \n",
       "4448   692.0                 avenue of stone.         False              NaN   \n",
       "4449  2818.0                      flremakers.         False              NaN   \n",
       "4450   941.0  the affair of the skiing clown.         False              NaN   \n",
       "4451  2995.0                      wmtersmoon.         False           1928.0   \n",
       "4452  2466.0                          mr pan.         False              NaN   \n",
       "4453  1321.0                      maktoub: s.         False              NaN   \n",
       "4454    13.0                 children of men.         False              NaN   \n",
       "4455  1912.0                          jeeves.         False              NaN   \n",
       "4456   530.0                      london lot.         False              NaN   \n",
       "4457  3704.0                      recompense.         False              NaN   \n",
       "4458  1240.0                bitter heritjike.         False              NaN   \n",
       "4459  2067.0                  sagebrusher. 11         False              NaN   \n",
       "4460  2505.0           human boy and the war.         False              NaN   \n",
       "4461  4853.0             clouda of witnesses.         False              NaN   \n",
       "4462  2135.0               inhale and exhale.         False              NaN   \n",
       "4463  3982.0           daphnis and chloe [tr.         False              NaN   \n",
       "4464     NaN                              NaN          True              NaN   \n",
       "4465     NaN                              NaN          True           1927.0   \n",
       "4466     NaN                              NaN          True              NaN   \n",
       "4467     NaN                              NaN          True              NaN   \n",
       "4468     NaN                              NaN          True              NaN   \n",
       "4469     NaN                              NaN          True              NaN   \n",
       "4470     NaN                              NaN          True              NaN   \n",
       "4471     NaN                              NaN          True              NaN   \n",
       "4472     NaN                              NaN          True              NaN   \n",
       "4473     NaN                              NaN          True              NaN   \n",
       "4474     NaN                              NaN          True              NaN   \n",
       "4475     NaN                              NaN          True              NaN   \n",
       "\n",
       "      is_bestseller  \n",
       "4426          False  \n",
       "4427          False  \n",
       "4428          False  \n",
       "4429          False  \n",
       "4430          False  \n",
       "4431          False  \n",
       "4432          False  \n",
       "4433          False  \n",
       "4434          False  \n",
       "4435          False  \n",
       "4436          False  \n",
       "4437          False  \n",
       "4438          False  \n",
       "4439          False  \n",
       "4440          False  \n",
       "4441          False  \n",
       "4442          False  \n",
       "4443          False  \n",
       "4444          False  \n",
       "4445          False  \n",
       "4446          False  \n",
       "4447          False  \n",
       "4448          False  \n",
       "4449          False  \n",
       "4450          False  \n",
       "4451           True  \n",
       "4452          False  \n",
       "4453          False  \n",
       "4454          False  \n",
       "4455          False  \n",
       "4456          False  \n",
       "4457          False  \n",
       "4458          False  \n",
       "4459          False  \n",
       "4460          False  \n",
       "4461          False  \n",
       "4462          False  \n",
       "4463          False  \n",
       "4464          False  \n",
       "4465           True  \n",
       "4466          False  \n",
       "4467          False  \n",
       "4468          False  \n",
       "4469          False  \n",
       "4470          False  \n",
       "4471          False  \n",
       "4472          False  \n",
       "4473          False  \n",
       "4474          False  \n",
       "4475          False  "
      ]
     },
     "execution_count": 43,
     "metadata": {},
     "output_type": "execute_result"
    }
   ],
   "source": [
    "complete.iloc[4390:4440, :]"
   ]
  },
  {
   "cell_type": "code",
   "execution_count": 44,
   "id": "763689a4-6fc5-4364-af30-1c224a298641",
   "metadata": {},
   "outputs": [],
   "source": [
    "meta = pd.read_csv(\"../../cohort/topicdata/comprehensivebooktopicdata.tsv\", sep=\"\\t\", low_memory=False)"
   ]
  },
  {
   "cell_type": "code",
   "execution_count": 46,
   "id": "19db3d7a-00f4-40f4-8652-680806c26ae4",
   "metadata": {},
   "outputs": [
    {
     "data": {
      "text/html": [
       "<div>\n",
       "<style scoped>\n",
       "    .dataframe tbody tr th:only-of-type {\n",
       "        vertical-align: middle;\n",
       "    }\n",
       "\n",
       "    .dataframe tbody tr th {\n",
       "        vertical-align: top;\n",
       "    }\n",
       "\n",
       "    .dataframe thead th {\n",
       "        text-align: right;\n",
       "    }\n",
       "</style>\n",
       "<table border=\"1\" class=\"dataframe\">\n",
       "  <thead>\n",
       "    <tr style=\"text-align: right;\">\n",
       "      <th></th>\n",
       "      <th>docid</th>\n",
       "      <th>birthyear</th>\n",
       "      <th>firstpub</th>\n",
       "      <th>tm_author</th>\n",
       "      <th>tm_title</th>\n",
       "      <th>us_national</th>\n",
       "      <th>authof3ormore</th>\n",
       "      <th>age</th>\n",
       "    </tr>\n",
       "  </thead>\n",
       "  <tbody>\n",
       "    <tr>\n",
       "      <th>0</th>\n",
       "      <td>uc1.b4975632</td>\n",
       "      <td>NaN</td>\n",
       "      <td>1989</td>\n",
       "      <td>Aakhus, Patricia</td>\n",
       "      <td>The voyage of Mael Duin's curragh</td>\n",
       "      <td>True</td>\n",
       "      <td>False</td>\n",
       "      <td>NaN</td>\n",
       "    </tr>\n",
       "    <tr>\n",
       "      <th>1</th>\n",
       "      <td>inu.30000112046630</td>\n",
       "      <td>1911.0</td>\n",
       "      <td>1957</td>\n",
       "      <td>Abbe, George</td>\n",
       "      <td>The winter house</td>\n",
       "      <td>False</td>\n",
       "      <td>True</td>\n",
       "      <td>46.0</td>\n",
       "    </tr>\n",
       "    <tr>\n",
       "      <th>2</th>\n",
       "      <td>uc1.$b799882</td>\n",
       "      <td>1911.0</td>\n",
       "      <td>1967</td>\n",
       "      <td>Abbe, George</td>\n",
       "      <td>The funeral</td>\n",
       "      <td>False</td>\n",
       "      <td>True</td>\n",
       "      <td>56.0</td>\n",
       "    </tr>\n",
       "    <tr>\n",
       "      <th>3</th>\n",
       "      <td>uc1.$b149331</td>\n",
       "      <td>1911.0</td>\n",
       "      <td>1968</td>\n",
       "      <td>Abbe, George</td>\n",
       "      <td>Yonderville</td>\n",
       "      <td>False</td>\n",
       "      <td>True</td>\n",
       "      <td>57.0</td>\n",
       "    </tr>\n",
       "    <tr>\n",
       "      <th>4</th>\n",
       "      <td>uc1.32106007981415</td>\n",
       "      <td>1927.0</td>\n",
       "      <td>1956</td>\n",
       "      <td>Abbey, Edward</td>\n",
       "      <td>The brave cowboy : an old tale in a new time</td>\n",
       "      <td>True</td>\n",
       "      <td>True</td>\n",
       "      <td>29.0</td>\n",
       "    </tr>\n",
       "  </tbody>\n",
       "</table>\n",
       "</div>"
      ],
      "text/plain": [
       "                docid  birthyear  firstpub         tm_author  \\\n",
       "0        uc1.b4975632        NaN      1989  Aakhus, Patricia   \n",
       "1  inu.30000112046630     1911.0      1957      Abbe, George   \n",
       "2        uc1.$b799882     1911.0      1967      Abbe, George   \n",
       "3        uc1.$b149331     1911.0      1968      Abbe, George   \n",
       "4  uc1.32106007981415     1927.0      1956     Abbey, Edward   \n",
       "\n",
       "                                       tm_title  us_national  authof3ormore  \\\n",
       "0             The voyage of Mael Duin's curragh         True          False   \n",
       "1                              The winter house        False           True   \n",
       "2                                   The funeral        False           True   \n",
       "3                                   Yonderville        False           True   \n",
       "4  The brave cowboy : an old tale in a new time         True           True   \n",
       "\n",
       "    age  \n",
       "0   NaN  \n",
       "1  46.0  \n",
       "2  56.0  \n",
       "3  57.0  \n",
       "4  29.0  "
      ]
     },
     "execution_count": 46,
     "metadata": {},
     "output_type": "execute_result"
    }
   ],
   "source": [
    "meta = meta.loc[ : , ['docid', 'birthyear', 'firstpub', 'hathi_author', 'hathi_title', 'us_national', 'authof3ormore', 'age']]\n",
    "meta = meta.rename(columns = {'hathi_author': 'tm_author', 'hathi_title': 'tm_title'})\n",
    "meta.head()"
   ]
  },
  {
   "cell_type": "code",
   "execution_count": null,
   "id": "b9af989d-19d0-4518-a9c1-86037b78c845",
   "metadata": {},
   "outputs": [],
   "source": [
    "meta.tm_author = meta.tm_author.str.lower()\n",
    "meta.tm_title = meta.tm_title.str.lower()"
   ]
  },
  {
   "cell_type": "code",
   "execution_count": 47,
   "id": "8c04f6cc-779c-4ace-8ab5-a0b0e9f6d85f",
   "metadata": {},
   "outputs": [
    {
     "data": {
      "text/plain": [
       "(1050, 8)"
      ]
     },
     "execution_count": 47,
     "metadata": {},
     "output_type": "execute_result"
    }
   ],
   "source": [
    "wehave = set(complete.docid)\n",
    "toconcat = []\n",
    "\n",
    "for year in range(1916, 1951):\n",
    "    df = meta.loc[meta.firstpub == year, :]\n",
    "    df = df.loc[~df.docid.isin(wehave), : ]\n",
    "    toconcat.append(df.sample(30))\n",
    "    \n",
    "missing = pd.concat(toconcat)\n",
    "missing.shape"
   ]
  },
  {
   "cell_type": "code",
   "execution_count": 48,
   "id": "13c093e8-b4a1-483c-afe1-0945ddb158be",
   "metadata": {},
   "outputs": [
    {
     "data": {
      "text/html": [
       "<div>\n",
       "<style scoped>\n",
       "    .dataframe tbody tr th:only-of-type {\n",
       "        vertical-align: middle;\n",
       "    }\n",
       "\n",
       "    .dataframe tbody tr th {\n",
       "        vertical-align: top;\n",
       "    }\n",
       "\n",
       "    .dataframe thead th {\n",
       "        text-align: right;\n",
       "    }\n",
       "</style>\n",
       "<table border=\"1\" class=\"dataframe\">\n",
       "  <thead>\n",
       "    <tr style=\"text-align: right;\">\n",
       "      <th></th>\n",
       "      <th>docid</th>\n",
       "      <th>birthyear</th>\n",
       "      <th>firstpub</th>\n",
       "      <th>tm_author</th>\n",
       "      <th>tm_title</th>\n",
       "      <th>us_national</th>\n",
       "      <th>authof3ormore</th>\n",
       "      <th>age</th>\n",
       "    </tr>\n",
       "  </thead>\n",
       "  <tbody>\n",
       "    <tr>\n",
       "      <th>137</th>\n",
       "      <td>uc2.ark+=13960=fk3ws8hq14</td>\n",
       "      <td>1849.0</td>\n",
       "      <td>1916</td>\n",
       "      <td>Allen, James Lane</td>\n",
       "      <td>A cathedral singer</td>\n",
       "      <td>True</td>\n",
       "      <td>True</td>\n",
       "      <td>67.0</td>\n",
       "    </tr>\n",
       "    <tr>\n",
       "      <th>19943</th>\n",
       "      <td>nyp.33433076044449</td>\n",
       "      <td>1875.0</td>\n",
       "      <td>1916</td>\n",
       "      <td>Scott, Leroy</td>\n",
       "      <td>Partners of the night</td>\n",
       "      <td>False</td>\n",
       "      <td>False</td>\n",
       "      <td>41.0</td>\n",
       "    </tr>\n",
       "    <tr>\n",
       "      <th>19984</th>\n",
       "      <td>uc2.ark+=13960=t87h1h26q</td>\n",
       "      <td>1890.0</td>\n",
       "      <td>1916</td>\n",
       "      <td>Sutherland, Joan</td>\n",
       "      <td>The edge of empire</td>\n",
       "      <td>False</td>\n",
       "      <td>False</td>\n",
       "      <td>26.0</td>\n",
       "    </tr>\n",
       "    <tr>\n",
       "      <th>4883</th>\n",
       "      <td>uc2.ark+=13960=t3804z70b</td>\n",
       "      <td>1865.0</td>\n",
       "      <td>1916</td>\n",
       "      <td>Hill, Grace Livingston</td>\n",
       "      <td>A voice in the wilderness</td>\n",
       "      <td>True</td>\n",
       "      <td>True</td>\n",
       "      <td>51.0</td>\n",
       "    </tr>\n",
       "    <tr>\n",
       "      <th>19917</th>\n",
       "      <td>uc2.ark+=13960=t9p26rm6h</td>\n",
       "      <td>1880.0</td>\n",
       "      <td>1916</td>\n",
       "      <td>Carlsen, C. L. (Carl Laurence)</td>\n",
       "      <td>The taming of Calinga</td>\n",
       "      <td>False</td>\n",
       "      <td>False</td>\n",
       "      <td>36.0</td>\n",
       "    </tr>\n",
       "  </tbody>\n",
       "</table>\n",
       "</div>"
      ],
      "text/plain": [
       "                           docid  birthyear  firstpub  \\\n",
       "137    uc2.ark+=13960=fk3ws8hq14     1849.0      1916   \n",
       "19943         nyp.33433076044449     1875.0      1916   \n",
       "19984   uc2.ark+=13960=t87h1h26q     1890.0      1916   \n",
       "4883    uc2.ark+=13960=t3804z70b     1865.0      1916   \n",
       "19917   uc2.ark+=13960=t9p26rm6h     1880.0      1916   \n",
       "\n",
       "                            tm_author                   tm_title  us_national  \\\n",
       "137                 Allen, James Lane         A cathedral singer         True   \n",
       "19943                    Scott, Leroy      Partners of the night        False   \n",
       "19984                Sutherland, Joan         The edge of empire        False   \n",
       "4883           Hill, Grace Livingston  A voice in the wilderness         True   \n",
       "19917  Carlsen, C. L. (Carl Laurence)      The taming of Calinga        False   \n",
       "\n",
       "       authof3ormore   age  \n",
       "137             True  67.0  \n",
       "19943          False  41.0  \n",
       "19984          False  26.0  \n",
       "4883            True  51.0  \n",
       "19917          False  36.0  "
      ]
     },
     "execution_count": 48,
     "metadata": {},
     "output_type": "execute_result"
    }
   ],
   "source": [
    "missing.head()"
   ]
  },
  {
   "cell_type": "code",
   "execution_count": 55,
   "id": "f72f7ef1-78e8-4288-8174-914ca4a6f452",
   "metadata": {},
   "outputs": [
    {
     "data": {
      "text/plain": [
       "0"
      ]
     },
     "execution_count": 55,
     "metadata": {},
     "output_type": "execute_result"
    }
   ],
   "source": [
    "len(set(missing.docid).intersection(set(complete.docid)))"
   ]
  },
  {
   "cell_type": "code",
   "execution_count": 56,
   "id": "20230351-d981-45b2-a5c9-1f2fb8819f84",
   "metadata": {},
   "outputs": [],
   "source": [
    "missing = missing.loc[ : , ['docid', 'tm_author', 'tm_title']]"
   ]
  },
  {
   "cell_type": "code",
   "execution_count": 57,
   "id": "2341febd-3d2b-438d-8439-62f3e612bb50",
   "metadata": {},
   "outputs": [],
   "source": [
    "missing['obscure'] = True"
   ]
  },
  {
   "cell_type": "code",
   "execution_count": 58,
   "id": "a4343eaa-4b1f-4705-b26d-3aa5e9bf15c5",
   "metadata": {},
   "outputs": [],
   "source": [
    "newcomplete = pd.concat([complete, missing])"
   ]
  },
  {
   "cell_type": "code",
   "execution_count": 59,
   "id": "e813544f-c3fc-4d9d-9b5a-c37242fdfbb3",
   "metadata": {},
   "outputs": [
    {
     "data": {
      "text/plain": [
       "(5626, 11)"
      ]
     },
     "execution_count": 59,
     "metadata": {},
     "output_type": "execute_result"
    }
   ],
   "source": [
    "newcomplete.shape"
   ]
  },
  {
   "cell_type": "code",
   "execution_count": 61,
   "id": "00a082f3-4d29-49a7-9952-91613c9c10e5",
   "metadata": {},
   "outputs": [
    {
     "data": {
      "text/html": [
       "<div>\n",
       "<style scoped>\n",
       "    .dataframe tbody tr th:only-of-type {\n",
       "        vertical-align: middle;\n",
       "    }\n",
       "\n",
       "    .dataframe tbody tr th {\n",
       "        vertical-align: top;\n",
       "    }\n",
       "\n",
       "    .dataframe thead th {\n",
       "        text-align: right;\n",
       "    }\n",
       "</style>\n",
       "<table border=\"1\" class=\"dataframe\">\n",
       "  <thead>\n",
       "    <tr style=\"text-align: right;\">\n",
       "      <th></th>\n",
       "      <th>docid</th>\n",
       "      <th>tm_author</th>\n",
       "      <th>tm_title</th>\n",
       "      <th>tm_year</th>\n",
       "      <th>review_year</th>\n",
       "      <th>rownum</th>\n",
       "      <th>review_title</th>\n",
       "      <th>prize_author</th>\n",
       "      <th>bestseller_year</th>\n",
       "      <th>is_bestseller</th>\n",
       "      <th>obscure</th>\n",
       "    </tr>\n",
       "  </thead>\n",
       "  <tbody>\n",
       "    <tr>\n",
       "      <th>1161</th>\n",
       "      <td>mdp.39015008633334</td>\n",
       "      <td>Braine, John</td>\n",
       "      <td>Room at the top</td>\n",
       "      <td>NaN</td>\n",
       "      <td>NaN</td>\n",
       "      <td>NaN</td>\n",
       "      <td>NaN</td>\n",
       "      <td>NaN</td>\n",
       "      <td>NaN</td>\n",
       "      <td>NaN</td>\n",
       "      <td>True</td>\n",
       "    </tr>\n",
       "    <tr>\n",
       "      <th>11199</th>\n",
       "      <td>uc1.$b104483</td>\n",
       "      <td>Yates, Elizabeth</td>\n",
       "      <td>Guardian heart</td>\n",
       "      <td>NaN</td>\n",
       "      <td>NaN</td>\n",
       "      <td>NaN</td>\n",
       "      <td>NaN</td>\n",
       "      <td>NaN</td>\n",
       "      <td>NaN</td>\n",
       "      <td>NaN</td>\n",
       "      <td>True</td>\n",
       "    </tr>\n",
       "    <tr>\n",
       "      <th>1283</th>\n",
       "      <td>uc1.$b322859</td>\n",
       "      <td>Brooke, Jocelyn</td>\n",
       "      <td>The image of a drawn sword</td>\n",
       "      <td>NaN</td>\n",
       "      <td>NaN</td>\n",
       "      <td>NaN</td>\n",
       "      <td>NaN</td>\n",
       "      <td>NaN</td>\n",
       "      <td>NaN</td>\n",
       "      <td>NaN</td>\n",
       "      <td>True</td>\n",
       "    </tr>\n",
       "    <tr>\n",
       "      <th>9145</th>\n",
       "      <td>uc1.32106014579582</td>\n",
       "      <td>Shute, Nevil</td>\n",
       "      <td>A town like Alice</td>\n",
       "      <td>NaN</td>\n",
       "      <td>NaN</td>\n",
       "      <td>NaN</td>\n",
       "      <td>NaN</td>\n",
       "      <td>NaN</td>\n",
       "      <td>NaN</td>\n",
       "      <td>NaN</td>\n",
       "      <td>True</td>\n",
       "    </tr>\n",
       "    <tr>\n",
       "      <th>8751</th>\n",
       "      <td>osu.32435017549254</td>\n",
       "      <td>Ruck, Berta</td>\n",
       "      <td>Joyful journey</td>\n",
       "      <td>NaN</td>\n",
       "      <td>NaN</td>\n",
       "      <td>NaN</td>\n",
       "      <td>NaN</td>\n",
       "      <td>NaN</td>\n",
       "      <td>NaN</td>\n",
       "      <td>NaN</td>\n",
       "      <td>True</td>\n",
       "    </tr>\n",
       "  </tbody>\n",
       "</table>\n",
       "</div>"
      ],
      "text/plain": [
       "                    docid         tm_author                    tm_title  \\\n",
       "1161   mdp.39015008633334      Braine, John             Room at the top   \n",
       "11199        uc1.$b104483  Yates, Elizabeth              Guardian heart   \n",
       "1283         uc1.$b322859   Brooke, Jocelyn  The image of a drawn sword   \n",
       "9145   uc1.32106014579582      Shute, Nevil           A town like Alice   \n",
       "8751   osu.32435017549254       Ruck, Berta              Joyful journey   \n",
       "\n",
       "       tm_year  review_year  rownum review_title prize_author  \\\n",
       "1161       NaN          NaN     NaN          NaN          NaN   \n",
       "11199      NaN          NaN     NaN          NaN          NaN   \n",
       "1283       NaN          NaN     NaN          NaN          NaN   \n",
       "9145       NaN          NaN     NaN          NaN          NaN   \n",
       "8751       NaN          NaN     NaN          NaN          NaN   \n",
       "\n",
       "       bestseller_year is_bestseller obscure  \n",
       "1161               NaN           NaN    True  \n",
       "11199              NaN           NaN    True  \n",
       "1283               NaN           NaN    True  \n",
       "9145               NaN           NaN    True  \n",
       "8751               NaN           NaN    True  "
      ]
     },
     "execution_count": 61,
     "metadata": {},
     "output_type": "execute_result"
    }
   ],
   "source": [
    "newcomplete.tail()"
   ]
  },
  {
   "cell_type": "code",
   "execution_count": 62,
   "id": "a3a86168-a6aa-405f-a5bd-17ce1ca5eadf",
   "metadata": {},
   "outputs": [],
   "source": [
    "tomerge = meta.loc[: , ['docid', 'firstpub', 'birthyear', 'us_national']]"
   ]
  },
  {
   "cell_type": "code",
   "execution_count": 63,
   "id": "4cce456f-92e1-4a2a-b231-a3d38df59f1e",
   "metadata": {},
   "outputs": [
    {
     "data": {
      "text/plain": [
       "(5626, 14)"
      ]
     },
     "execution_count": 63,
     "metadata": {},
     "output_type": "execute_result"
    }
   ],
   "source": [
    "newcomplete = newcomplete.merge(tomerge, how = 'inner', on = 'docid')\n",
    "newcomplete.shape"
   ]
  },
  {
   "cell_type": "code",
   "execution_count": 64,
   "id": "9e9b7a3e-f6c1-417a-b865-36ef616d6a3d",
   "metadata": {},
   "outputs": [
    {
     "data": {
      "text/html": [
       "<div>\n",
       "<style scoped>\n",
       "    .dataframe tbody tr th:only-of-type {\n",
       "        vertical-align: middle;\n",
       "    }\n",
       "\n",
       "    .dataframe tbody tr th {\n",
       "        vertical-align: top;\n",
       "    }\n",
       "\n",
       "    .dataframe thead th {\n",
       "        text-align: right;\n",
       "    }\n",
       "</style>\n",
       "<table border=\"1\" class=\"dataframe\">\n",
       "  <thead>\n",
       "    <tr style=\"text-align: right;\">\n",
       "      <th></th>\n",
       "      <th>docid</th>\n",
       "      <th>tm_author</th>\n",
       "      <th>tm_title</th>\n",
       "      <th>tm_year</th>\n",
       "      <th>review_year</th>\n",
       "      <th>rownum</th>\n",
       "      <th>review_title</th>\n",
       "      <th>prize_author</th>\n",
       "      <th>bestseller_year</th>\n",
       "      <th>is_bestseller</th>\n",
       "      <th>obscure</th>\n",
       "      <th>firstpub</th>\n",
       "      <th>birthyear</th>\n",
       "      <th>us_national</th>\n",
       "    </tr>\n",
       "  </thead>\n",
       "  <tbody>\n",
       "    <tr>\n",
       "      <th>0</th>\n",
       "      <td>uc1.b3347126</td>\n",
       "      <td>shaw, irwin</td>\n",
       "      <td>welcome to the city, and other</td>\n",
       "      <td>1942.0</td>\n",
       "      <td>1942.0</td>\n",
       "      <td>3289.0</td>\n",
       "      <td>welcome to the city, and other stories.</td>\n",
       "      <td>False</td>\n",
       "      <td>NaN</td>\n",
       "      <td>False</td>\n",
       "      <td>NaN</td>\n",
       "      <td>1942</td>\n",
       "      <td>1913.0</td>\n",
       "      <td>True</td>\n",
       "    </tr>\n",
       "    <tr>\n",
       "      <th>1</th>\n",
       "      <td>uc1.$b322688</td>\n",
       "      <td>bennett, arnold</td>\n",
       "      <td>woman who stole everything</td>\n",
       "      <td>1927.0</td>\n",
       "      <td>1927.0</td>\n",
       "      <td>4140.0</td>\n",
       "      <td>woman who stole everything, and other stories.</td>\n",
       "      <td>False</td>\n",
       "      <td>NaN</td>\n",
       "      <td>False</td>\n",
       "      <td>NaN</td>\n",
       "      <td>1927</td>\n",
       "      <td>1867.0</td>\n",
       "      <td>False</td>\n",
       "    </tr>\n",
       "    <tr>\n",
       "      <th>2</th>\n",
       "      <td>uc1.b3407035</td>\n",
       "      <td>lippincott, joseph wharton</td>\n",
       "      <td>wilderness champion; the story</td>\n",
       "      <td>1944.0</td>\n",
       "      <td>1944.0</td>\n",
       "      <td>3481.0</td>\n",
       "      <td>wilderness champion; the story of a great houn...</td>\n",
       "      <td>False</td>\n",
       "      <td>NaN</td>\n",
       "      <td>False</td>\n",
       "      <td>NaN</td>\n",
       "      <td>1944</td>\n",
       "      <td>1887.0</td>\n",
       "      <td>True</td>\n",
       "    </tr>\n",
       "    <tr>\n",
       "      <th>3</th>\n",
       "      <td>uc1.$b116192</td>\n",
       "      <td>becker, may lamberton</td>\n",
       "      <td>golden tales of the southwest;</td>\n",
       "      <td>1939.0</td>\n",
       "      <td>1939.0</td>\n",
       "      <td>4283.0</td>\n",
       "      <td>golden tales of the southwest; selected with a...</td>\n",
       "      <td>False</td>\n",
       "      <td>NaN</td>\n",
       "      <td>False</td>\n",
       "      <td>NaN</td>\n",
       "      <td>1939</td>\n",
       "      <td>1873.0</td>\n",
       "      <td>True</td>\n",
       "    </tr>\n",
       "    <tr>\n",
       "      <th>4</th>\n",
       "      <td>mdp.39015059415383</td>\n",
       "      <td>miller, alice duer, mrs</td>\n",
       "      <td>instruments</td>\n",
       "      <td>1926.0</td>\n",
       "      <td>1926.0</td>\n",
       "      <td>2405.0</td>\n",
       "      <td>instruments of darkness, and other stories.</td>\n",
       "      <td>False</td>\n",
       "      <td>NaN</td>\n",
       "      <td>False</td>\n",
       "      <td>NaN</td>\n",
       "      <td>1926</td>\n",
       "      <td>1874.0</td>\n",
       "      <td>True</td>\n",
       "    </tr>\n",
       "  </tbody>\n",
       "</table>\n",
       "</div>"
      ],
      "text/plain": [
       "                docid                   tm_author  \\\n",
       "0        uc1.b3347126                 shaw, irwin   \n",
       "1        uc1.$b322688             bennett, arnold   \n",
       "2        uc1.b3407035  lippincott, joseph wharton   \n",
       "3        uc1.$b116192       becker, may lamberton   \n",
       "4  mdp.39015059415383     miller, alice duer, mrs   \n",
       "\n",
       "                         tm_title  tm_year  review_year  rownum  \\\n",
       "0  welcome to the city, and other   1942.0       1942.0  3289.0   \n",
       "1      woman who stole everything   1927.0       1927.0  4140.0   \n",
       "2  wilderness champion; the story   1944.0       1944.0  3481.0   \n",
       "3  golden tales of the southwest;   1939.0       1939.0  4283.0   \n",
       "4                    instruments    1926.0       1926.0  2405.0   \n",
       "\n",
       "                                        review_title prize_author  \\\n",
       "0            welcome to the city, and other stories.        False   \n",
       "1     woman who stole everything, and other stories.        False   \n",
       "2  wilderness champion; the story of a great houn...        False   \n",
       "3  golden tales of the southwest; selected with a...        False   \n",
       "4        instruments of darkness, and other stories.        False   \n",
       "\n",
       "   bestseller_year is_bestseller obscure  firstpub  birthyear  us_national  \n",
       "0              NaN         False     NaN      1942     1913.0         True  \n",
       "1              NaN         False     NaN      1927     1867.0        False  \n",
       "2              NaN         False     NaN      1944     1887.0         True  \n",
       "3              NaN         False     NaN      1939     1873.0         True  \n",
       "4              NaN         False     NaN      1926     1874.0         True  "
      ]
     },
     "execution_count": 64,
     "metadata": {},
     "output_type": "execute_result"
    }
   ],
   "source": [
    "newcomplete.head()"
   ]
  },
  {
   "cell_type": "code",
   "execution_count": 65,
   "id": "f95b5e79-569e-46c9-8238-c011bce445d4",
   "metadata": {},
   "outputs": [],
   "source": [
    "newcomplete.is_bestseller = newcomplete.is_bestseller.fillna(value = False)\n",
    "newcomplete.prize_author = newcomplete.prize_author.fillna(value = False)\n",
    "newcomplete.obscure = newcomplete.obscure.fillna(value = False)"
   ]
  },
  {
   "cell_type": "code",
   "execution_count": 69,
   "id": "9604a111-e4b1-44a6-81f4-b2f692e7fdfd",
   "metadata": {},
   "outputs": [
    {
     "name": "stdout",
     "output_type": "stream",
     "text": [
      "1927.0 1920\n",
      "1927.0 1916\n",
      "1948.0 1941\n",
      "1935.0 1928\n",
      "1933.0 1923\n",
      "1941.0 1925\n",
      "1947.0 1924\n",
      "1949.0 1930\n",
      "1950.0 1932\n",
      "1950.0 1932\n",
      "1949.0 1937\n",
      "1940.0 1934\n",
      "1942.0 1934\n",
      "1950.0 1944\n",
      "1942.0 1926\n",
      "1943.0 1932\n",
      "1938.0 1928\n",
      "1941.0 1921\n",
      "1950.0 1936\n",
      "1944.0 1937\n",
      "1948.0 1922\n",
      "1932.0 1922\n",
      "1929.0 1922\n",
      "1931.0 1924\n",
      "1946.0 1938\n",
      "1927.0 1916\n",
      "1936.0 1924\n",
      "1945.0 1933\n",
      "1942.0 1931\n",
      "1937.0 1930\n",
      "1934.0 1922\n",
      "1929.0 1921\n",
      "1927.0 1919\n",
      "1932.0 1920\n",
      "1949.0 1935\n",
      "1927.0 1920\n",
      "1931.0 1921\n",
      "1938.0 1926\n",
      "1928.0 1920\n",
      "1936.0 1919\n",
      "1949.0 1916\n",
      "107\n"
     ]
    }
   ],
   "source": [
    "lowest = []\n",
    "errors = 0\n",
    "for idx, row in newcomplete.iterrows():\n",
    "    values = []\n",
    "    if not pd.isnull(row.tm_year):\n",
    "        values.append(int(row.tm_year))\n",
    "    if not pd.isnull(row.review_year):\n",
    "        values.append(int(row.review_year))    \n",
    "    if not pd.isnull(row.firstpub):\n",
    "        values.append(int(row.firstpub))\n",
    "    if not pd.isnull(row.bestseller_year):\n",
    "        values.append(int(row.bestseller_year))\n",
    "    \n",
    "    minval = min(values)\n",
    "    \n",
    "    if minval < 1916 or minval > 1950:\n",
    "        minval = 0\n",
    "        errors += 1\n",
    "    \n",
    "    if not pd.isnull(row.review_year) and minval > 0 and row.review_year > minval + 5:\n",
    "        print(row.review_year, minval)\n",
    "        minval = 0\n",
    "        errors += 1\n",
    "\n",
    "    lowest.append(minval)\n",
    "    \n",
    "print(errors)"
   ]
  },
  {
   "cell_type": "code",
   "execution_count": 70,
   "id": "7283dfcf-5ae4-4887-aeaa-f7432f48e270",
   "metadata": {},
   "outputs": [],
   "source": [
    "newcomplete['lowest_date'] = lowest"
   ]
  },
  {
   "cell_type": "code",
   "execution_count": 72,
   "id": "19d67c54-1f98-43cb-9064-952779fc9ef3",
   "metadata": {},
   "outputs": [
    {
     "data": {
      "text/plain": [
       "(5519, 15)"
      ]
     },
     "execution_count": 72,
     "metadata": {},
     "output_type": "execute_result"
    }
   ],
   "source": [
    "newcomplete = newcomplete.loc[newcomplete.lowest_date > 0, : ]\n",
    "newcomplete.shape"
   ]
  },
  {
   "cell_type": "code",
   "execution_count": 81,
   "id": "05553cf1-5447-453a-8ae1-0b87db65d614",
   "metadata": {},
   "outputs": [],
   "source": [
    "newcomplete.tm_author = newcomplete.tm_author.str.lower()\n",
    "newcomplete.tm_title = newcomplete.tm_title.str.lower()"
   ]
  },
  {
   "cell_type": "code",
   "execution_count": 85,
   "id": "1a207f5a-b2d6-4396-a387-a6bb01fc653b",
   "metadata": {},
   "outputs": [
    {
     "name": "stderr",
     "output_type": "stream",
     "text": [
      " 26%|██▌       | 1441/5519 [00:02<00:09, 440.92it/s]"
     ]
    },
    {
     "name": "stdout",
     "output_type": "stream",
     "text": [
      "howard, elizabeth howard, elizabeth me\n",
      "howard, elizabeth howard, elizabeth me\n"
     ]
    },
    {
     "name": "stderr",
     "output_type": "stream",
     "text": [
      " 30%|██▉       | 1636/5519 [00:02<00:09, 429.33it/s]"
     ]
    },
    {
     "name": "stdout",
     "output_type": "stream",
     "text": [
      "fielding, archibald fielding, archibald \n",
      "fielding, archibald fielding, archibald \n",
      "fielding, archibald fielding, archibald \n"
     ]
    },
    {
     "name": "stderr",
     "output_type": "stream",
     "text": [
      " 34%|███▍      | 1864/5519 [00:03<00:12, 300.97it/s]"
     ]
    },
    {
     "name": "stdout",
     "output_type": "stream",
     "text": [
      "kendrick, baynard ha kendrick, baynard h\n"
     ]
    },
    {
     "name": "stderr",
     "output_type": "stream",
     "text": [
      " 59%|█████▉    | 3246/5519 [00:08<00:06, 351.43it/s]"
     ]
    },
    {
     "name": "stdout",
     "output_type": "stream",
     "text": [
      "bellamannn, henry bellamann, henry\n"
     ]
    },
    {
     "name": "stderr",
     "output_type": "stream",
     "text": [
      " 66%|██████▌   | 3616/5519 [00:09<00:06, 303.86it/s]"
     ]
    },
    {
     "name": "stdout",
     "output_type": "stream",
     "text": [
      "van loan, charles em van loan, charles e\n"
     ]
    },
    {
     "name": "stderr",
     "output_type": "stream",
     "text": [
      " 74%|███████▍  | 4096/5519 [00:11<00:05, 249.87it/s]"
     ]
    },
    {
     "name": "stdout",
     "output_type": "stream",
     "text": [
      "fielding, archibald fielding, archibald \n"
     ]
    },
    {
     "name": "stderr",
     "output_type": "stream",
     "text": [
      " 82%|████████▏ | 4531/5519 [00:13<00:08, 117.22it/s]"
     ]
    },
    {
     "name": "stdout",
     "output_type": "stream",
     "text": [
      "davis, robert h davis, robert\n",
      "sheldon, charles m sheldon, charles mon\n"
     ]
    },
    {
     "name": "stderr",
     "output_type": "stream",
     "text": [
      "100%|██████████| 5519/5519 [00:21<00:00, 252.33it/s]\n"
     ]
    }
   ],
   "source": [
    "standards = []\n",
    "\n",
    "for auth1 in tqdm(newcomplete.tm_author):\n",
    "    if pd.isnull(auth1) or len(auth1) < 1:\n",
    "        auth1 = 'anonymous'\n",
    "    auth1 = auth1.replace('[', '')\n",
    "    auth1 = auth1.replace(']', '')\n",
    "    if auth1.endswith('mrs'):\n",
    "        auth1 = auth1[0: -3]\n",
    "    if len(auth1) > 20:\n",
    "        auth1 = auth1[0: 20]\n",
    "        \n",
    "    if auth1 in standards:\n",
    "        standards.append(auth1)\n",
    "    else:\n",
    "        thetuples = []\n",
    "        for auth2 in standards:\n",
    "            match = fuzz.ratio(auth1, auth2)\n",
    "            if match > 90:\n",
    "                thetuples.append((match, auth2))\n",
    "        \n",
    "        if len(thetuples) < 1:\n",
    "            standards.append(auth1)\n",
    "        else:\n",
    "            thetuples.sort(reverse = True)\n",
    "            standards.append(thetuples[0][1])\n",
    "            print(auth1, thetuples[0][1])\n",
    "                "
   ]
  },
  {
   "cell_type": "code",
   "execution_count": 86,
   "id": "2ae903d9-6744-4c52-9b24-5639cf9b6150",
   "metadata": {},
   "outputs": [
    {
     "data": {
      "text/plain": [
       "5519"
      ]
     },
     "execution_count": 86,
     "metadata": {},
     "output_type": "execute_result"
    }
   ],
   "source": [
    "len(standards)"
   ]
  },
  {
   "cell_type": "code",
   "execution_count": 87,
   "id": "d97a943b-6da7-421b-8365-9ae8139b8ab6",
   "metadata": {},
   "outputs": [],
   "source": [
    "newcomplete['standard_auth'] = standards"
   ]
  },
  {
   "cell_type": "code",
   "execution_count": 88,
   "id": "87a34952-7cc5-4e9a-8c1c-e0ea8c169e2c",
   "metadata": {},
   "outputs": [
    {
     "data": {
      "text/html": [
       "<div>\n",
       "<style scoped>\n",
       "    .dataframe tbody tr th:only-of-type {\n",
       "        vertical-align: middle;\n",
       "    }\n",
       "\n",
       "    .dataframe tbody tr th {\n",
       "        vertical-align: top;\n",
       "    }\n",
       "\n",
       "    .dataframe thead th {\n",
       "        text-align: right;\n",
       "    }\n",
       "</style>\n",
       "<table border=\"1\" class=\"dataframe\">\n",
       "  <thead>\n",
       "    <tr style=\"text-align: right;\">\n",
       "      <th></th>\n",
       "      <th>docid</th>\n",
       "      <th>tm_author</th>\n",
       "      <th>tm_title</th>\n",
       "      <th>tm_year</th>\n",
       "      <th>review_year</th>\n",
       "      <th>rownum</th>\n",
       "      <th>review_title</th>\n",
       "      <th>prize_author</th>\n",
       "      <th>bestseller_year</th>\n",
       "      <th>is_bestseller</th>\n",
       "      <th>obscure</th>\n",
       "      <th>firstpub</th>\n",
       "      <th>birthyear</th>\n",
       "      <th>us_national</th>\n",
       "      <th>lowest_date</th>\n",
       "      <th>standard_auth</th>\n",
       "    </tr>\n",
       "  </thead>\n",
       "  <tbody>\n",
       "    <tr>\n",
       "      <th>0</th>\n",
       "      <td>uc1.b3347126</td>\n",
       "      <td>shaw, irwin</td>\n",
       "      <td>welcome to the city, and other</td>\n",
       "      <td>1942.0</td>\n",
       "      <td>1942.0</td>\n",
       "      <td>3289.0</td>\n",
       "      <td>welcome to the city, and other stories.</td>\n",
       "      <td>False</td>\n",
       "      <td>NaN</td>\n",
       "      <td>False</td>\n",
       "      <td>False</td>\n",
       "      <td>1942</td>\n",
       "      <td>1913.0</td>\n",
       "      <td>True</td>\n",
       "      <td>1942</td>\n",
       "      <td>shaw, irwin</td>\n",
       "    </tr>\n",
       "    <tr>\n",
       "      <th>1</th>\n",
       "      <td>uc1.$b322688</td>\n",
       "      <td>bennett, arnold</td>\n",
       "      <td>woman who stole everything</td>\n",
       "      <td>1927.0</td>\n",
       "      <td>1927.0</td>\n",
       "      <td>4140.0</td>\n",
       "      <td>woman who stole everything, and other stories.</td>\n",
       "      <td>False</td>\n",
       "      <td>NaN</td>\n",
       "      <td>False</td>\n",
       "      <td>False</td>\n",
       "      <td>1927</td>\n",
       "      <td>1867.0</td>\n",
       "      <td>False</td>\n",
       "      <td>1927</td>\n",
       "      <td>bennett, arnold</td>\n",
       "    </tr>\n",
       "    <tr>\n",
       "      <th>2</th>\n",
       "      <td>uc1.b3407035</td>\n",
       "      <td>lippincott, joseph wharton</td>\n",
       "      <td>wilderness champion; the story</td>\n",
       "      <td>1944.0</td>\n",
       "      <td>1944.0</td>\n",
       "      <td>3481.0</td>\n",
       "      <td>wilderness champion; the story of a great houn...</td>\n",
       "      <td>False</td>\n",
       "      <td>NaN</td>\n",
       "      <td>False</td>\n",
       "      <td>False</td>\n",
       "      <td>1944</td>\n",
       "      <td>1887.0</td>\n",
       "      <td>True</td>\n",
       "      <td>1944</td>\n",
       "      <td>lippincott, joseph w</td>\n",
       "    </tr>\n",
       "    <tr>\n",
       "      <th>3</th>\n",
       "      <td>uc1.$b116192</td>\n",
       "      <td>becker, may lamberton</td>\n",
       "      <td>golden tales of the southwest;</td>\n",
       "      <td>1939.0</td>\n",
       "      <td>1939.0</td>\n",
       "      <td>4283.0</td>\n",
       "      <td>golden tales of the southwest; selected with a...</td>\n",
       "      <td>False</td>\n",
       "      <td>NaN</td>\n",
       "      <td>False</td>\n",
       "      <td>False</td>\n",
       "      <td>1939</td>\n",
       "      <td>1873.0</td>\n",
       "      <td>True</td>\n",
       "      <td>1939</td>\n",
       "      <td>becker, may lamberto</td>\n",
       "    </tr>\n",
       "    <tr>\n",
       "      <th>4</th>\n",
       "      <td>mdp.39015059415383</td>\n",
       "      <td>miller, alice duer, mrs</td>\n",
       "      <td>instruments</td>\n",
       "      <td>1926.0</td>\n",
       "      <td>1926.0</td>\n",
       "      <td>2405.0</td>\n",
       "      <td>instruments of darkness, and other stories.</td>\n",
       "      <td>False</td>\n",
       "      <td>NaN</td>\n",
       "      <td>False</td>\n",
       "      <td>False</td>\n",
       "      <td>1926</td>\n",
       "      <td>1874.0</td>\n",
       "      <td>True</td>\n",
       "      <td>1926</td>\n",
       "      <td>miller, alice duer,</td>\n",
       "    </tr>\n",
       "    <tr>\n",
       "      <th>5</th>\n",
       "      <td>mdp.39015002756842</td>\n",
       "      <td>saroyan, william</td>\n",
       "      <td>daring young man on the flying</td>\n",
       "      <td>1934.0</td>\n",
       "      <td>1934.0</td>\n",
       "      <td>821.0</td>\n",
       "      <td>the daring young man on the flying trapeze, an...</td>\n",
       "      <td>False</td>\n",
       "      <td>NaN</td>\n",
       "      <td>False</td>\n",
       "      <td>False</td>\n",
       "      <td>1934</td>\n",
       "      <td>1908.0</td>\n",
       "      <td>True</td>\n",
       "      <td>1934</td>\n",
       "      <td>saroyan, william</td>\n",
       "    </tr>\n",
       "    <tr>\n",
       "      <th>6</th>\n",
       "      <td>umn.31951000955121j</td>\n",
       "      <td>chase, mary ellen</td>\n",
       "      <td>girl from</td>\n",
       "      <td>1916.0</td>\n",
       "      <td>1916.0</td>\n",
       "      <td>2149.0</td>\n",
       "      <td>girl from the big horn country, il</td>\n",
       "      <td>False</td>\n",
       "      <td>NaN</td>\n",
       "      <td>False</td>\n",
       "      <td>False</td>\n",
       "      <td>1916</td>\n",
       "      <td>1887.0</td>\n",
       "      <td>False</td>\n",
       "      <td>1916</td>\n",
       "      <td>chase, mary ellen</td>\n",
       "    </tr>\n",
       "    <tr>\n",
       "      <th>7</th>\n",
       "      <td>mdp.39015063945169</td>\n",
       "      <td>miln, louise (jordan), mrs</td>\n",
       "      <td>ann zu-zan, a chine</td>\n",
       "      <td>1932.0</td>\n",
       "      <td>1932.0</td>\n",
       "      <td>61.0</td>\n",
       "      <td>ann zu-zan, a chinese love story.</td>\n",
       "      <td>False</td>\n",
       "      <td>NaN</td>\n",
       "      <td>False</td>\n",
       "      <td>False</td>\n",
       "      <td>1932</td>\n",
       "      <td>1864.0</td>\n",
       "      <td>True</td>\n",
       "      <td>1932</td>\n",
       "      <td>miln, louise (jordan</td>\n",
       "    </tr>\n",
       "    <tr>\n",
       "      <th>8</th>\n",
       "      <td>uc1.b3835561</td>\n",
       "      <td>gogarty, oliver st. john</td>\n",
       "      <td>as i was goin</td>\n",
       "      <td>1937.0</td>\n",
       "      <td>1937.0</td>\n",
       "      <td>2770.0</td>\n",
       "      <td>as i was going down sackville street.</td>\n",
       "      <td>False</td>\n",
       "      <td>NaN</td>\n",
       "      <td>False</td>\n",
       "      <td>False</td>\n",
       "      <td>1937</td>\n",
       "      <td>1878.0</td>\n",
       "      <td>False</td>\n",
       "      <td>1937</td>\n",
       "      <td>gogarty, oliver st.</td>\n",
       "    </tr>\n",
       "    <tr>\n",
       "      <th>9</th>\n",
       "      <td>mdp.39015028779778</td>\n",
       "      <td>ferguson, j. de lancey (john de lancey)</td>\n",
       "      <td>pride and passion, robert burn</td>\n",
       "      <td>1939.0</td>\n",
       "      <td>1939.0</td>\n",
       "      <td>3524.0</td>\n",
       "      <td>pride and passion, robert burns, 1759-1796.</td>\n",
       "      <td>False</td>\n",
       "      <td>NaN</td>\n",
       "      <td>False</td>\n",
       "      <td>False</td>\n",
       "      <td>1939</td>\n",
       "      <td>1888.0</td>\n",
       "      <td>False</td>\n",
       "      <td>1939</td>\n",
       "      <td>ferguson, j. de lanc</td>\n",
       "    </tr>\n",
       "    <tr>\n",
       "      <th>10</th>\n",
       "      <td>mdp.39015003940890</td>\n",
       "      <td>glasgow, ellen anderson gholson</td>\n",
       "      <td>shadowy third, an</td>\n",
       "      <td>1923.0</td>\n",
       "      <td>1923.0</td>\n",
       "      <td>1057.0</td>\n",
       "      <td>shadowy third, and other stories.</td>\n",
       "      <td>False</td>\n",
       "      <td>NaN</td>\n",
       "      <td>False</td>\n",
       "      <td>False</td>\n",
       "      <td>1923</td>\n",
       "      <td>1873.0</td>\n",
       "      <td>True</td>\n",
       "      <td>1923</td>\n",
       "      <td>glasgow, ellen ander</td>\n",
       "    </tr>\n",
       "    <tr>\n",
       "      <th>11</th>\n",
       "      <td>mdp.39015031233615</td>\n",
       "      <td>erskine, john</td>\n",
       "      <td>give me liberty; the story of an innocent byst...</td>\n",
       "      <td>1940.0</td>\n",
       "      <td>1940.0</td>\n",
       "      <td>1299.0</td>\n",
       "      <td>give me liberty; the story of an innocent byst...</td>\n",
       "      <td>True</td>\n",
       "      <td>NaN</td>\n",
       "      <td>False</td>\n",
       "      <td>False</td>\n",
       "      <td>1940</td>\n",
       "      <td>1879.0</td>\n",
       "      <td>True</td>\n",
       "      <td>1940</td>\n",
       "      <td>erskine, john</td>\n",
       "    </tr>\n",
       "    <tr>\n",
       "      <th>12</th>\n",
       "      <td>mdp.39015005335552</td>\n",
       "      <td>douglas, lloyd c. (lloyd cassel)</td>\n",
       "      <td>doctor hudson'</td>\n",
       "      <td>1939.0</td>\n",
       "      <td>1939.0</td>\n",
       "      <td>22.0</td>\n",
       "      <td>doctor hudson's secret journal.</td>\n",
       "      <td>False</td>\n",
       "      <td>NaN</td>\n",
       "      <td>False</td>\n",
       "      <td>False</td>\n",
       "      <td>1939</td>\n",
       "      <td>1877.0</td>\n",
       "      <td>True</td>\n",
       "      <td>1939</td>\n",
       "      <td>douglas, lloyd c. (l</td>\n",
       "    </tr>\n",
       "    <tr>\n",
       "      <th>13</th>\n",
       "      <td>uc1.b3688061</td>\n",
       "      <td>cobb, irvin s. (irvin shrewsbury)</td>\n",
       "      <td>down yonder with judge priest</td>\n",
       "      <td>1932.0</td>\n",
       "      <td>1932.0</td>\n",
       "      <td>944.0</td>\n",
       "      <td>down yonder with judge priest and irvin s.</td>\n",
       "      <td>False</td>\n",
       "      <td>NaN</td>\n",
       "      <td>False</td>\n",
       "      <td>False</td>\n",
       "      <td>1932</td>\n",
       "      <td>1876.0</td>\n",
       "      <td>True</td>\n",
       "      <td>1932</td>\n",
       "      <td>cobb, irvin s. (irvi</td>\n",
       "    </tr>\n",
       "    <tr>\n",
       "      <th>14</th>\n",
       "      <td>mdp.39015003700278</td>\n",
       "      <td>garland, hamlin</td>\n",
       "      <td>trail-makers</td>\n",
       "      <td>1926.0</td>\n",
       "      <td>1926.0</td>\n",
       "      <td>902.0</td>\n",
       "      <td>trail-makers of the middle border.</td>\n",
       "      <td>False</td>\n",
       "      <td>NaN</td>\n",
       "      <td>False</td>\n",
       "      <td>False</td>\n",
       "      <td>1926</td>\n",
       "      <td>1860.0</td>\n",
       "      <td>True</td>\n",
       "      <td>1926</td>\n",
       "      <td>garland, hamlin</td>\n",
       "    </tr>\n",
       "  </tbody>\n",
       "</table>\n",
       "</div>"
      ],
      "text/plain": [
       "                  docid                                tm_author  \\\n",
       "0          uc1.b3347126                              shaw, irwin   \n",
       "1          uc1.$b322688                          bennett, arnold   \n",
       "2          uc1.b3407035               lippincott, joseph wharton   \n",
       "3          uc1.$b116192                    becker, may lamberton   \n",
       "4    mdp.39015059415383                  miller, alice duer, mrs   \n",
       "5    mdp.39015002756842                         saroyan, william   \n",
       "6   umn.31951000955121j                        chase, mary ellen   \n",
       "7    mdp.39015063945169               miln, louise (jordan), mrs   \n",
       "8          uc1.b3835561                 gogarty, oliver st. john   \n",
       "9    mdp.39015028779778  ferguson, j. de lancey (john de lancey)   \n",
       "10   mdp.39015003940890          glasgow, ellen anderson gholson   \n",
       "11   mdp.39015031233615                            erskine, john   \n",
       "12   mdp.39015005335552         douglas, lloyd c. (lloyd cassel)   \n",
       "13         uc1.b3688061        cobb, irvin s. (irvin shrewsbury)   \n",
       "14   mdp.39015003700278                          garland, hamlin   \n",
       "\n",
       "                                             tm_title  tm_year  review_year  \\\n",
       "0                      welcome to the city, and other   1942.0       1942.0   \n",
       "1                          woman who stole everything   1927.0       1927.0   \n",
       "2                      wilderness champion; the story   1944.0       1944.0   \n",
       "3                      golden tales of the southwest;   1939.0       1939.0   \n",
       "4                                        instruments    1926.0       1926.0   \n",
       "5                      daring young man on the flying   1934.0       1934.0   \n",
       "6                                          girl from    1916.0       1916.0   \n",
       "7                                 ann zu-zan, a chine   1932.0       1932.0   \n",
       "8                                       as i was goin   1937.0       1937.0   \n",
       "9                      pride and passion, robert burn   1939.0       1939.0   \n",
       "10                                  shadowy third, an   1923.0       1923.0   \n",
       "11  give me liberty; the story of an innocent byst...   1940.0       1940.0   \n",
       "12                                     doctor hudson'   1939.0       1939.0   \n",
       "13                     down yonder with judge priest    1932.0       1932.0   \n",
       "14                                      trail-makers    1926.0       1926.0   \n",
       "\n",
       "    rownum                                       review_title  prize_author  \\\n",
       "0   3289.0            welcome to the city, and other stories.         False   \n",
       "1   4140.0     woman who stole everything, and other stories.         False   \n",
       "2   3481.0  wilderness champion; the story of a great houn...         False   \n",
       "3   4283.0  golden tales of the southwest; selected with a...         False   \n",
       "4   2405.0        instruments of darkness, and other stories.         False   \n",
       "5    821.0  the daring young man on the flying trapeze, an...         False   \n",
       "6   2149.0                 girl from the big horn country, il         False   \n",
       "7     61.0                  ann zu-zan, a chinese love story.         False   \n",
       "8   2770.0              as i was going down sackville street.         False   \n",
       "9   3524.0        pride and passion, robert burns, 1759-1796.         False   \n",
       "10  1057.0                  shadowy third, and other stories.         False   \n",
       "11  1299.0  give me liberty; the story of an innocent byst...          True   \n",
       "12    22.0                    doctor hudson's secret journal.         False   \n",
       "13   944.0         down yonder with judge priest and irvin s.         False   \n",
       "14   902.0                 trail-makers of the middle border.         False   \n",
       "\n",
       "    bestseller_year  is_bestseller  obscure  firstpub  birthyear  us_national  \\\n",
       "0               NaN          False    False      1942     1913.0         True   \n",
       "1               NaN          False    False      1927     1867.0        False   \n",
       "2               NaN          False    False      1944     1887.0         True   \n",
       "3               NaN          False    False      1939     1873.0         True   \n",
       "4               NaN          False    False      1926     1874.0         True   \n",
       "5               NaN          False    False      1934     1908.0         True   \n",
       "6               NaN          False    False      1916     1887.0        False   \n",
       "7               NaN          False    False      1932     1864.0         True   \n",
       "8               NaN          False    False      1937     1878.0        False   \n",
       "9               NaN          False    False      1939     1888.0        False   \n",
       "10              NaN          False    False      1923     1873.0         True   \n",
       "11              NaN          False    False      1940     1879.0         True   \n",
       "12              NaN          False    False      1939     1877.0         True   \n",
       "13              NaN          False    False      1932     1876.0         True   \n",
       "14              NaN          False    False      1926     1860.0         True   \n",
       "\n",
       "    lowest_date         standard_auth  \n",
       "0          1942           shaw, irwin  \n",
       "1          1927       bennett, arnold  \n",
       "2          1944  lippincott, joseph w  \n",
       "3          1939  becker, may lamberto  \n",
       "4          1926  miller, alice duer,   \n",
       "5          1934      saroyan, william  \n",
       "6          1916     chase, mary ellen  \n",
       "7          1932  miln, louise (jordan  \n",
       "8          1937  gogarty, oliver st.   \n",
       "9          1939  ferguson, j. de lanc  \n",
       "10         1923  glasgow, ellen ander  \n",
       "11         1940         erskine, john  \n",
       "12         1939  douglas, lloyd c. (l  \n",
       "13         1932  cobb, irvin s. (irvi  \n",
       "14         1926       garland, hamlin  "
      ]
     },
     "execution_count": 88,
     "metadata": {},
     "output_type": "execute_result"
    }
   ],
   "source": [
    "newcomplete.head(15)"
   ]
  },
  {
   "cell_type": "code",
   "execution_count": 89,
   "id": "d2ae1339-b590-4039-b8ff-88f90ae1c740",
   "metadata": {},
   "outputs": [
    {
     "data": {
      "text/plain": [
       "1927"
      ]
     },
     "execution_count": 89,
     "metadata": {},
     "output_type": "execute_result"
    }
   ],
   "source": [
    "len(set(newcomplete.tm_author))"
   ]
  },
  {
   "cell_type": "code",
   "execution_count": 91,
   "id": "2cef4190-3ac4-456d-8f6f-d5c907c41b54",
   "metadata": {},
   "outputs": [
    {
     "data": {
      "text/plain": [
       "1918"
      ]
     },
     "execution_count": 91,
     "metadata": {},
     "output_type": "execute_result"
    }
   ],
   "source": [
    "len(set(newcomplete.standard_auth))"
   ]
  },
  {
   "cell_type": "code",
   "execution_count": 92,
   "id": "95705892-3ce3-4343-b716-e694fd7229ef",
   "metadata": {},
   "outputs": [],
   "source": [
    "meta = pd.read_csv(\"../../cohort/topicdata/comprehensivebooktopicdata.tsv\", sep=\"\\t\", low_memory=False)"
   ]
  },
  {
   "cell_type": "code",
   "execution_count": 94,
   "id": "f6bdbccc-7f1d-4a07-a5cb-6762d50c75ce",
   "metadata": {},
   "outputs": [
    {
     "name": "stderr",
     "output_type": "stream",
     "text": [
      " 11%|█         | 3095/29341 [00:12<02:54, 150.36it/s]"
     ]
    },
    {
     "name": "stdout",
     "output_type": "stream",
     "text": [
      "ellin, stanley elkin, stanley\n",
      "ellin, stanley elkin, stanley\n"
     ]
    },
    {
     "name": "stderr",
     "output_type": "stream",
     "text": [
      " 12%|█▏        | 3391/29341 [00:13<01:38, 263.43it/s]"
     ]
    },
    {
     "name": "stdout",
     "output_type": "stream",
     "text": [
      "fielding, archibald fielding, archibald \n",
      "fielding, archibald fielding, archibald \n",
      "fielding, archibald fielding, archibald \n",
      "fielding, archibald fielding, archibald \n"
     ]
    },
    {
     "name": "stderr",
     "output_type": "stream",
     "text": [
      " 13%|█▎        | 3848/29341 [00:14<01:27, 291.32it/s]"
     ]
    },
    {
     "name": "stdout",
     "output_type": "stream",
     "text": [
      "garrett, george p garrett, george\n",
      "garrett, george p garrett, george\n",
      "garrett, george p garrett, george\n",
      "garrett, george p garrett, george\n",
      "garrett, george p garrett, george\n"
     ]
    },
    {
     "name": "stderr",
     "output_type": "stream",
     "text": [
      " 16%|█▌        | 4554/29341 [00:18<02:17, 179.64it/s]"
     ]
    },
    {
     "name": "stdout",
     "output_type": "stream",
     "text": [
      "harris, john farris, john\n",
      "harris, john farris, john\n",
      "harris, john farris, john\n"
     ]
    },
    {
     "name": "stderr",
     "output_type": "stream",
     "text": [
      " 17%|█▋        | 5056/29341 [00:20<01:48, 223.17it/s]"
     ]
    },
    {
     "name": "stdout",
     "output_type": "stream",
     "text": [
      "howard, elizabeth howard, elizabeth me\n",
      "howard, elizabeth howard, elizabeth me\n",
      "howard, elizabeth howard, elizabeth me\n",
      "howard, elizabeth howard, elizabeth me\n",
      "howard, elizabeth howard, elizabeth me\n",
      "howard, elizabeth howard, elizabeth me\n"
     ]
    },
    {
     "name": "stderr",
     "output_type": "stream",
     "text": [
      " 19%|█▉        | 5655/29341 [00:23<01:44, 226.26it/s]"
     ]
    },
    {
     "name": "stdout",
     "output_type": "stream",
     "text": [
      "kendrick, baynard ha kendrick, baynard h\n"
     ]
    },
    {
     "name": "stderr",
     "output_type": "stream",
     "text": [
      " 25%|██▍       | 7320/29341 [00:31<01:35, 229.62it/s]"
     ]
    },
    {
     "name": "stdout",
     "output_type": "stream",
     "text": [
      "moore, christopher morley, christopher\n"
     ]
    },
    {
     "name": "stderr",
     "output_type": "stream",
     "text": [
      " 28%|██▊       | 8336/29341 [00:35<01:31, 228.48it/s]"
     ]
    },
    {
     "name": "stdout",
     "output_type": "stream",
     "text": [
      "price, richard pryce, richard\n",
      "price, richard pryce, richard\n",
      "price, richard pryce, richard\n"
     ]
    },
    {
     "name": "stderr",
     "output_type": "stream",
     "text": [
      " 29%|██▉       | 8551/29341 [00:37<01:45, 196.29it/s]"
     ]
    },
    {
     "name": "stdout",
     "output_type": "stream",
     "text": [
      "rice, luanne rice, anne\n"
     ]
    },
    {
     "name": "stderr",
     "output_type": "stream",
     "text": [
      " 31%|███       | 9097/29341 [00:39<01:34, 214.82it/s]"
     ]
    },
    {
     "name": "stdout",
     "output_type": "stream",
     "text": [
      "sheldon, charles m sheldon, charles mon\n"
     ]
    },
    {
     "name": "stderr",
     "output_type": "stream",
     "text": [
      " 34%|███▎      | 9873/29341 [00:44<01:46, 183.28it/s]"
     ]
    },
    {
     "name": "stdout",
     "output_type": "stream",
     "text": [
      "swarthout, glendon f swarthout, glendon\n",
      "swarthout, glendon f swarthout, glendon\n",
      "swarthout, glendon f swarthout, glendon\n"
     ]
    },
    {
     "name": "stderr",
     "output_type": "stream",
     "text": [
      " 34%|███▍      | 9959/29341 [00:44<01:14, 259.18it/s]"
     ]
    },
    {
     "name": "stdout",
     "output_type": "stream",
     "text": [
      "tarr, judith farr, judith\n"
     ]
    },
    {
     "name": "stderr",
     "output_type": "stream",
     "text": [
      " 36%|███▌      | 10604/29341 [00:47<01:44, 179.59it/s]"
     ]
    },
    {
     "name": "stdout",
     "output_type": "stream",
     "text": [
      "weidman, jereme weidman, jerome\n"
     ]
    },
    {
     "name": "stderr",
     "output_type": "stream",
     "text": [
      " 36%|███▋      | 10701/29341 [00:48<01:29, 208.93it/s]"
     ]
    },
    {
     "name": "stdout",
     "output_type": "stream",
     "text": [
      "west, anthony c west, anthony\n",
      "west, anthony c west, anthony\n",
      "west, anthony c west, anthony\n"
     ]
    },
    {
     "name": "stderr",
     "output_type": "stream",
     "text": [
      " 37%|███▋      | 10932/29341 [00:49<01:14, 246.42it/s]"
     ]
    },
    {
     "name": "stdout",
     "output_type": "stream",
     "text": [
      "williams, joy williams, jay\n"
     ]
    },
    {
     "name": "stderr",
     "output_type": "stream",
     "text": [
      " 39%|███▉      | 11429/29341 [00:51<00:39, 455.43it/s]"
     ]
    },
    {
     "name": "stdout",
     "output_type": "stream",
     "text": [
      "price, richard pryce, richard\n"
     ]
    },
    {
     "name": "stderr",
     "output_type": "stream",
     "text": [
      " 39%|███▉      | 11574/29341 [00:54<05:14, 56.44it/s] "
     ]
    },
    {
     "name": "stdout",
     "output_type": "stream",
     "text": [
      "fleming, may agnes e fleming, may agnes\n"
     ]
    },
    {
     "name": "stderr",
     "output_type": "stream",
     "text": [
      " 40%|████      | 11848/29341 [01:00<04:43, 61.66it/s]"
     ]
    },
    {
     "name": "stdout",
     "output_type": "stream",
     "text": [
      "hoffmann, franz hoffman, franz\n"
     ]
    },
    {
     "name": "stderr",
     "output_type": "stream",
     "text": [
      " 41%|████      | 12032/29341 [01:03<04:50, 59.52it/s]"
     ]
    },
    {
     "name": "stdout",
     "output_type": "stream",
     "text": [
      "fraser-tytler, m. e. fraser-tytler, m. e\n"
     ]
    },
    {
     "name": "stderr",
     "output_type": "stream",
     "text": [
      " 42%|████▏     | 12211/29341 [01:06<04:34, 62.51it/s]"
     ]
    },
    {
     "name": "stdout",
     "output_type": "stream",
     "text": [
      "lugard, flora louisa lugard, flora louise\n"
     ]
    },
    {
     "name": "stderr",
     "output_type": "stream",
     "text": [
      " 43%|████▎     | 12487/29341 [01:11<06:23, 43.90it/s]"
     ]
    },
    {
     "name": "stdout",
     "output_type": "stream",
     "text": [
      "reid, christian reid, christine\n"
     ]
    },
    {
     "name": "stderr",
     "output_type": "stream",
     "text": [
      " 44%|████▍     | 12837/29341 [01:17<04:15, 64.72it/s]"
     ]
    },
    {
     "name": "stdout",
     "output_type": "stream",
     "text": [
      "edwardes, annie edwards, annie\n"
     ]
    },
    {
     "name": "stderr",
     "output_type": "stream",
     "text": [
      " 44%|████▍     | 12851/29341 [01:17<06:00, 45.72it/s]"
     ]
    },
    {
     "name": "stdout",
     "output_type": "stream",
     "text": [
      "hardinge, william m hardinge, william mo\n"
     ]
    },
    {
     "name": "stderr",
     "output_type": "stream",
     "text": [
      " 44%|████▍     | 12941/29341 [01:18<03:59, 68.52it/s]"
     ]
    },
    {
     "name": "stdout",
     "output_type": "stream",
     "text": [
      "spenser, mary clare  spencer, mary clare \n"
     ]
    },
    {
     "name": "stderr",
     "output_type": "stream",
     "text": [
      " 45%|████▍     | 13064/29341 [01:21<05:17, 51.35it/s]"
     ]
    },
    {
     "name": "stdout",
     "output_type": "stream",
     "text": [
      "majendie, margaret majendie, margaret, \n"
     ]
    },
    {
     "name": "stderr",
     "output_type": "stream",
     "text": [
      " 45%|████▌     | 13336/29341 [01:25<05:38, 47.32it/s]"
     ]
    },
    {
     "name": "stdout",
     "output_type": "stream",
     "text": [
      "troubetzkoy, amelie  troubetzkoy, amélie \n"
     ]
    },
    {
     "name": "stderr",
     "output_type": "stream",
     "text": [
      " 46%|████▌     | 13507/29341 [01:28<03:56, 67.05it/s]"
     ]
    },
    {
     "name": "stdout",
     "output_type": "stream",
     "text": [
      "smith, constance smith, constance i\n"
     ]
    },
    {
     "name": "stderr",
     "output_type": "stream",
     "text": [
      " 47%|████▋     | 13715/29341 [01:31<04:43, 55.17it/s]"
     ]
    },
    {
     "name": "stdout",
     "output_type": "stream",
     "text": [
      "garrigues, adele m garrigues, adéle m\n"
     ]
    },
    {
     "name": "stderr",
     "output_type": "stream",
     "text": [
      " 47%|████▋     | 13801/29341 [01:33<03:17, 78.87it/s]"
     ]
    },
    {
     "name": "stdout",
     "output_type": "stream",
     "text": [
      "kernahan, coulson kernahan, coulson, \n"
     ]
    },
    {
     "name": "stderr",
     "output_type": "stream",
     "text": [
      " 48%|████▊     | 14018/29341 [01:37<06:39, 38.33it/s]"
     ]
    },
    {
     "name": "stdout",
     "output_type": "stream",
     "text": [
      "piatt, donn piatt, don\n"
     ]
    },
    {
     "name": "stderr",
     "output_type": "stream",
     "text": [
      " 48%|████▊     | 14044/29341 [01:37<05:04, 50.22it/s]"
     ]
    },
    {
     "name": "stdout",
     "output_type": "stream",
     "text": [
      "laffan, de courcy laffan, de courcy, \n"
     ]
    },
    {
     "name": "stderr",
     "output_type": "stream",
     "text": [
      " 48%|████▊     | 14116/29341 [01:39<04:21, 58.12it/s]"
     ]
    },
    {
     "name": "stdout",
     "output_type": "stream",
     "text": [
      "grey, edward greey, edward\n",
      "ball, thomas bell, thomas\n",
      "of samosata lucian of samosata. lucian\n"
     ]
    },
    {
     "name": "stderr",
     "output_type": "stream",
     "text": [
      " 48%|████▊     | 14206/29341 [01:40<04:43, 53.44it/s]"
     ]
    },
    {
     "name": "stdout",
     "output_type": "stream",
     "text": [
      "molloy, j. fitzgerzl molloy, j. fitzgeral\n",
      "dering, edward henea dering, edward henag\n"
     ]
    },
    {
     "name": "stderr",
     "output_type": "stream",
     "text": [
      " 49%|████▉     | 14466/29341 [01:45<04:57, 49.95it/s]"
     ]
    },
    {
     "name": "stdout",
     "output_type": "stream",
     "text": [
      "fergusson, dugald furguson, dugald\n"
     ]
    },
    {
     "name": "stderr",
     "output_type": "stream",
     "text": [
      " 50%|█████     | 14761/29341 [01:49<04:15, 57.07it/s] "
     ]
    },
    {
     "name": "stdout",
     "output_type": "stream",
     "text": [
      "mackie, john macnie, john\n"
     ]
    },
    {
     "name": "stderr",
     "output_type": "stream",
     "text": [
      " 51%|█████     | 14857/29341 [01:50<02:53, 83.54it/s]"
     ]
    },
    {
     "name": "stdout",
     "output_type": "stream",
     "text": [
      "smith, constance isa smith, constance i\n"
     ]
    },
    {
     "name": "stderr",
     "output_type": "stream",
     "text": [
      " 51%|█████     | 14961/29341 [01:52<03:27, 69.30it/s]"
     ]
    },
    {
     "name": "stdout",
     "output_type": "stream",
     "text": [
      "du bois, constance g dubois, constance go\n"
     ]
    },
    {
     "name": "stderr",
     "output_type": "stream",
     "text": [
      " 52%|█████▏    | 15207/29341 [01:57<04:32, 51.93it/s]"
     ]
    },
    {
     "name": "stdout",
     "output_type": "stream",
     "text": [
      "white, william hale white, william allen\n"
     ]
    },
    {
     "name": "stderr",
     "output_type": "stream",
     "text": [
      " 52%|█████▏    | 15330/29341 [01:59<02:27, 95.29it/s]"
     ]
    },
    {
     "name": "stdout",
     "output_type": "stream",
     "text": [
      "kennard, edward,  kennard, edward\n"
     ]
    },
    {
     "name": "stderr",
     "output_type": "stream",
     "text": [
      " 53%|█████▎    | 15697/29341 [02:05<04:24, 51.50it/s]"
     ]
    },
    {
     "name": "stdout",
     "output_type": "stream",
     "text": [
      "sheldon, charles m sheldon, charles mon\n"
     ]
    },
    {
     "name": "stderr",
     "output_type": "stream",
     "text": [
      " 54%|█████▎    | 15741/29341 [02:06<04:19, 52.42it/s]"
     ]
    },
    {
     "name": "stdout",
     "output_type": "stream",
     "text": [
      "suffling, ernest r suffling, ernest r. \n"
     ]
    },
    {
     "name": "stderr",
     "output_type": "stream",
     "text": [
      " 55%|█████▍    | 16070/29341 [02:13<03:55, 56.38it/s]"
     ]
    },
    {
     "name": "stdout",
     "output_type": "stream",
     "text": [
      "carryl, charles e. ( carryl, charles e\n"
     ]
    },
    {
     "name": "stderr",
     "output_type": "stream",
     "text": [
      " 55%|█████▍    | 16099/29341 [02:13<03:58, 55.52it/s]"
     ]
    },
    {
     "name": "stdout",
     "output_type": "stream",
     "text": [
      "cameron, h. lovett cameron, h. lovett, \n"
     ]
    },
    {
     "name": "stderr",
     "output_type": "stream",
     "text": [
      " 57%|█████▋    | 16751/29341 [02:26<04:54, 42.81it/s]"
     ]
    },
    {
     "name": "stdout",
     "output_type": "stream",
     "text": [
      "angus, orme agnus, orme\n"
     ]
    },
    {
     "name": "stderr",
     "output_type": "stream",
     "text": [
      " 57%|█████▋    | 16788/29341 [02:27<04:53, 42.75it/s]"
     ]
    },
    {
     "name": "stdout",
     "output_type": "stream",
     "text": [
      "prevost, marcel prévost, marcel\n"
     ]
    },
    {
     "name": "stderr",
     "output_type": "stream",
     "text": [
      " 60%|█████▉    | 17572/29341 [02:43<04:17, 45.78it/s]"
     ]
    },
    {
     "name": "stdout",
     "output_type": "stream",
     "text": [
      "baroness von, hutten baroness, von hutten\n"
     ]
    },
    {
     "name": "stderr",
     "output_type": "stream",
     "text": [
      " 60%|██████    | 17614/29341 [02:44<05:43, 34.16it/s]"
     ]
    },
    {
     "name": "stdout",
     "output_type": "stream",
     "text": [
      "demorgan, william fr de morgan, william f\n"
     ]
    },
    {
     "name": "stderr",
     "output_type": "stream",
     "text": [
      " 61%|██████    | 17916/29341 [02:51<03:25, 55.52it/s]"
     ]
    },
    {
     "name": "stdout",
     "output_type": "stream",
     "text": [
      "kernahan, coulson kernahan, coulson, \n"
     ]
    },
    {
     "name": "stderr",
     "output_type": "stream",
     "text": [
      " 63%|██████▎   | 18395/29341 [03:02<04:36, 39.64it/s]"
     ]
    },
    {
     "name": "stdout",
     "output_type": "stream",
     "text": [
      "auscough, john ayscough, john\n"
     ]
    },
    {
     "name": "stderr",
     "output_type": "stream",
     "text": [
      " 63%|██████▎   | 18573/29341 [03:06<04:44, 37.85it/s]"
     ]
    },
    {
     "name": "stdout",
     "output_type": "stream",
     "text": [
      "macdonald, robert m macdonald, robert\n"
     ]
    },
    {
     "name": "stderr",
     "output_type": "stream",
     "text": [
      " 64%|██████▎   | 18685/29341 [03:09<04:24, 40.30it/s]"
     ]
    },
    {
     "name": "stdout",
     "output_type": "stream",
     "text": [
      "panton, jane ellen f panton, jane ellen\n"
     ]
    },
    {
     "name": "stderr",
     "output_type": "stream",
     "text": [
      " 64%|██████▍   | 18863/29341 [03:13<05:15, 33.22it/s]"
     ]
    },
    {
     "name": "stdout",
     "output_type": "stream",
     "text": [
      "reid, christian reid, christine\n"
     ]
    },
    {
     "name": "stderr",
     "output_type": "stream",
     "text": [
      " 65%|██████▍   | 18983/29341 [03:16<05:07, 33.65it/s]"
     ]
    },
    {
     "name": "stdout",
     "output_type": "stream",
     "text": [
      "robbins, tod robbins, tom\n"
     ]
    },
    {
     "name": "stderr",
     "output_type": "stream",
     "text": [
      " 65%|██████▌   | 19129/29341 [03:20<03:33, 47.72it/s]"
     ]
    },
    {
     "name": "stdout",
     "output_type": "stream",
     "text": [
      "grimshaw, beatrice grimshaw, beatrice e\n"
     ]
    },
    {
     "name": "stderr",
     "output_type": "stream",
     "text": [
      " 66%|██████▌   | 19264/29341 [03:23<04:29, 37.46it/s]"
     ]
    },
    {
     "name": "stdout",
     "output_type": "stream",
     "text": [
      "lombardini, s. h lombardini, s h\n"
     ]
    },
    {
     "name": "stderr",
     "output_type": "stream",
     "text": [
      " 66%|██████▋   | 19481/29341 [03:29<04:48, 34.17it/s]"
     ]
    },
    {
     "name": "stdout",
     "output_type": "stream",
     "text": [
      "ryan, marah ellis ma ryan, marah ellis\n"
     ]
    },
    {
     "name": "stderr",
     "output_type": "stream",
     "text": [
      " 67%|██████▋   | 19572/29341 [03:32<04:58, 32.73it/s]"
     ]
    },
    {
     "name": "stdout",
     "output_type": "stream",
     "text": [
      "sheldon, charles m sheldon, charles mon\n"
     ]
    },
    {
     "name": "stderr",
     "output_type": "stream",
     "text": [
      " 67%|██████▋   | 19612/29341 [03:33<03:47, 42.72it/s]"
     ]
    },
    {
     "name": "stdout",
     "output_type": "stream",
     "text": [
      "artsybashev, mikhail art͡ybashev, mikhail\n",
      "macdonald, ronald"
     ]
    },
    {
     "name": "stderr",
     "output_type": "stream",
     "text": [
      " 67%|██████▋   | 19617/29341 [03:33<04:13, 38.33it/s]"
     ]
    },
    {
     "name": "stdout",
     "output_type": "stream",
     "text": [
      " mcdonald, ronald\n"
     ]
    },
    {
     "name": "stderr",
     "output_type": "stream",
     "text": [
      " 67%|██████▋   | 19685/29341 [03:35<03:56, 40.86it/s]"
     ]
    },
    {
     "name": "stdout",
     "output_type": "stream",
     "text": [
      "sterrett, frances ro sterrett, frances r.\n"
     ]
    },
    {
     "name": "stderr",
     "output_type": "stream",
     "text": [
      " 68%|██████▊   | 19822/29341 [03:38<04:20, 36.48it/s]"
     ]
    },
    {
     "name": "stdout",
     "output_type": "stream",
     "text": [
      "de selincourt, hugh de sélincourt, hugh\n"
     ]
    },
    {
     "name": "stderr",
     "output_type": "stream",
     "text": [
      " 68%|██████▊   | 19834/29341 [03:38<04:48, 32.94it/s]"
     ]
    },
    {
     "name": "stdout",
     "output_type": "stream",
     "text": [
      "venable, edward c venable, edward carr\n",
      "curtis, alice turner curtis, alice (turne\n"
     ]
    },
    {
     "name": "stderr",
     "output_type": "stream",
     "text": [
      " 68%|██████▊   | 19843/29341 [03:39<04:17, 36.92it/s]"
     ]
    },
    {
     "name": "stdout",
     "output_type": "stream",
     "text": [
      "sandes, john saunders, john\n"
     ]
    },
    {
     "name": "stderr",
     "output_type": "stream",
     "text": [
      " 68%|██████▊   | 20072/29341 [03:42<02:48, 54.95it/s] "
     ]
    },
    {
     "name": "stdout",
     "output_type": "stream",
     "text": [
      "rogers, robert c rogers, robert l\n"
     ]
    },
    {
     "name": "stderr",
     "output_type": "stream",
     "text": [
      " 69%|██████▊   | 20119/29341 [03:44<03:46, 40.65it/s]"
     ]
    },
    {
     "name": "stdout",
     "output_type": "stream",
     "text": [
      "davis, robert h davis, robert\n"
     ]
    },
    {
     "name": "stderr",
     "output_type": "stream",
     "text": [
      " 69%|██████▉   | 20244/29341 [03:46<02:39, 57.02it/s]"
     ]
    },
    {
     "name": "stdout",
     "output_type": "stream",
     "text": [
      "sheldon, charles m sheldon, charles mon\n"
     ]
    },
    {
     "name": "stderr",
     "output_type": "stream",
     "text": [
      " 69%|██████▉   | 20303/29341 [03:47<01:35, 94.84it/s]"
     ]
    },
    {
     "name": "stdout",
     "output_type": "stream",
     "text": [
      "de s??lincourt, hugh de sélincourt, hugh\n"
     ]
    },
    {
     "name": "stderr",
     "output_type": "stream",
     "text": [
      " 70%|███████   | 20654/29341 [03:54<02:35, 55.94it/s]"
     ]
    },
    {
     "name": "stdout",
     "output_type": "stream",
     "text": [
      "van loan, charles em van loan, charles e\n"
     ]
    },
    {
     "name": "stderr",
     "output_type": "stream",
     "text": [
      " 71%|███████   | 20721/29341 [03:55<02:55, 49.04it/s]"
     ]
    },
    {
     "name": "stdout",
     "output_type": "stream",
     "text": [
      "forrester, izola l.  forrester, izola l\n"
     ]
    },
    {
     "name": "stderr",
     "output_type": "stream",
     "text": [
      " 71%|███████   | 20741/29341 [03:55<02:23, 60.09it/s]"
     ]
    },
    {
     "name": "stdout",
     "output_type": "stream",
     "text": [
      "kernahan, coulson kernahan, coulson, \n",
      "curtis, alice turner curtis, alice (turne\n"
     ]
    },
    {
     "name": "stderr",
     "output_type": "stream",
     "text": [
      " 71%|███████▏  | 20941/29341 [03:58<01:50, 75.85it/s]"
     ]
    },
    {
     "name": "stdout",
     "output_type": "stream",
     "text": [
      "basset, sara ware bassett, sara ware\n"
     ]
    },
    {
     "name": "stderr",
     "output_type": "stream",
     "text": [
      " 72%|███████▏  | 21133/29341 [04:01<02:36, 52.56it/s]"
     ]
    },
    {
     "name": "stdout",
     "output_type": "stream",
     "text": [
      "botsford, charles al botsford, charles a.\n"
     ]
    },
    {
     "name": "stderr",
     "output_type": "stream",
     "text": [
      " 72%|███████▏  | 21181/29341 [04:02<01:53, 72.19it/s]"
     ]
    },
    {
     "name": "stdout",
     "output_type": "stream",
     "text": [
      "hubbard, bert hubbard, elbert\n"
     ]
    },
    {
     "name": "stderr",
     "output_type": "stream",
     "text": [
      " 72%|███████▏  | 21210/29341 [04:03<02:28, 54.87it/s]"
     ]
    },
    {
     "name": "stdout",
     "output_type": "stream",
     "text": [
      "bosch??re, jean de boschère, jean de\n"
     ]
    },
    {
     "name": "stderr",
     "output_type": "stream",
     "text": [
      " 73%|███████▎  | 21539/29341 [04:09<02:52, 45.12it/s]"
     ]
    },
    {
     "name": "stdout",
     "output_type": "stream",
     "text": [
      "woods, margaret l (m woods, margaret l. (\n"
     ]
    },
    {
     "name": "stderr",
     "output_type": "stream",
     "text": [
      " 74%|███████▍  | 21806/29341 [04:12<02:37, 47.93it/s]"
     ]
    },
    {
     "name": "stdout",
     "output_type": "stream",
     "text": [
      "bellamannn, henry bellamann, henry\n"
     ]
    },
    {
     "name": "stderr",
     "output_type": "stream",
     "text": [
      " 74%|███████▍  | 21844/29341 [04:13<01:34, 79.04it/s]"
     ]
    },
    {
     "name": "stdout",
     "output_type": "stream",
     "text": [
      "johnston, william johnston, william an\n"
     ]
    },
    {
     "name": "stderr",
     "output_type": "stream",
     "text": [
      " 75%|███████▌  | 22112/29341 [04:17<00:57, 124.75it/s]"
     ]
    },
    {
     "name": "stdout",
     "output_type": "stream",
     "text": [
      "oldridge, james aldridge, james\n"
     ]
    },
    {
     "name": "stderr",
     "output_type": "stream",
     "text": [
      " 77%|███████▋  | 22521/29341 [04:26<04:03, 28.05it/s] "
     ]
    },
    {
     "name": "stdout",
     "output_type": "stream",
     "text": [
      "andersen nex,̜ marti andersen nexø, marti\n"
     ]
    },
    {
     "name": "stderr",
     "output_type": "stream",
     "text": [
      " 77%|███████▋  | 22581/29341 [04:28<03:37, 31.06it/s]"
     ]
    },
    {
     "name": "stdout",
     "output_type": "stream",
     "text": [
      "harris, john farris, john\n"
     ]
    },
    {
     "name": "stderr",
     "output_type": "stream",
     "text": [
      " 78%|███████▊  | 22761/29341 [04:36<03:19, 32.99it/s]"
     ]
    },
    {
     "name": "stdout",
     "output_type": "stream",
     "text": [
      "miller, kenneth millar, kenneth\n"
     ]
    },
    {
     "name": "stderr",
     "output_type": "stream",
     "text": [
      " 79%|███████▉  | 23110/29341 [04:50<02:56, 35.33it/s]"
     ]
    },
    {
     "name": "stdout",
     "output_type": "stream",
     "text": [
      "creasey, john casey, john\n"
     ]
    },
    {
     "name": "stderr",
     "output_type": "stream",
     "text": [
      " 79%|███████▉  | 23126/29341 [04:50<03:52, 26.69it/s]"
     ]
    },
    {
     "name": "stdout",
     "output_type": "stream",
     "text": [
      "holles, robert holmes, robert\n",
      "sewell, elizabeth sewell, elizabeth mi\n"
     ]
    },
    {
     "name": "stderr",
     "output_type": "stream",
     "text": [
      " 79%|███████▉  | 23149/29341 [04:51<04:17, 24.00it/s]"
     ]
    },
    {
     "name": "stdout",
     "output_type": "stream",
     "text": [
      "davison, gladys davidson, gladys\n"
     ]
    },
    {
     "name": "stderr",
     "output_type": "stream",
     "text": [
      " 80%|███████▉  | 23422/29341 [05:04<04:06, 24.05it/s]"
     ]
    },
    {
     "name": "stdout",
     "output_type": "stream",
     "text": [
      "tanizaki, junʾichirō tanizaki, junʼichirō\n"
     ]
    },
    {
     "name": "stderr",
     "output_type": "stream",
     "text": [
      " 80%|████████  | 23507/29341 [05:08<04:26, 21.89it/s]"
     ]
    },
    {
     "name": "stdout",
     "output_type": "stream",
     "text": [
      "bowen, john brown, john\n"
     ]
    },
    {
     "name": "stderr",
     "output_type": "stream",
     "text": [
      " 80%|████████  | 23586/29341 [05:11<04:29, 21.34it/s]"
     ]
    },
    {
     "name": "stdout",
     "output_type": "stream",
     "text": [
      "nicole, christopher coe, christopher\n"
     ]
    },
    {
     "name": "stderr",
     "output_type": "stream",
     "text": [
      " 80%|████████  | 23597/29341 [05:12<04:15, 22.49it/s]"
     ]
    },
    {
     "name": "stdout",
     "output_type": "stream",
     "text": [
      "russ, martin ross, martin\n"
     ]
    },
    {
     "name": "stderr",
     "output_type": "stream",
     "text": [
      " 81%|████████  | 23675/29341 [05:15<03:55, 24.08it/s]"
     ]
    },
    {
     "name": "stdout",
     "output_type": "stream",
     "text": [
      "creasey, john casey, john\n"
     ]
    },
    {
     "name": "stderr",
     "output_type": "stream",
     "text": [
      " 81%|████████  | 23692/29341 [05:16<04:29, 20.96it/s]"
     ]
    },
    {
     "name": "stdout",
     "output_type": "stream",
     "text": [
      "walder, david walker, david\n"
     ]
    },
    {
     "name": "stderr",
     "output_type": "stream",
     "text": [
      " 82%|████████▏ | 23968/29341 [05:29<03:23, 26.39it/s]"
     ]
    },
    {
     "name": "stdout",
     "output_type": "stream",
     "text": [
      "corley, edwin corle, edwin\n",
      "james, john jakes, john\n"
     ]
    },
    {
     "name": "stderr",
     "output_type": "stream",
     "text": [
      " 82%|████████▏ | 23986/29341 [05:30<04:48, 18.59it/s]"
     ]
    },
    {
     "name": "stdout",
     "output_type": "stream",
     "text": [
      "briley, john bailey, john\n"
     ]
    },
    {
     "name": "stderr",
     "output_type": "stream",
     "text": [
      " 82%|████████▏ | 24041/29341 [05:32<04:36, 19.13it/s]"
     ]
    },
    {
     "name": "stdout",
     "output_type": "stream",
     "text": [
      "green, philip geen, philip\n"
     ]
    },
    {
     "name": "stderr",
     "output_type": "stream",
     "text": [
      " 82%|████████▏ | 24192/29341 [05:39<03:44, 22.95it/s]"
     ]
    },
    {
     "name": "stdout",
     "output_type": "stream",
     "text": [
      "colter, cyrus cole, cyrus\n"
     ]
    },
    {
     "name": "stderr",
     "output_type": "stream",
     "text": [
      " 83%|████████▎ | 24285/29341 [05:43<03:05, 27.28it/s]"
     ]
    },
    {
     "name": "stdout",
     "output_type": "stream",
     "text": [
      "jones, glyn jones, gwyn\n"
     ]
    },
    {
     "name": "stderr",
     "output_type": "stream",
     "text": [
      " 83%|████████▎ | 24318/29341 [05:44<02:31, 33.10it/s]"
     ]
    },
    {
     "name": "stdout",
     "output_type": "stream",
     "text": [
      "streatfeild, noel streatfield, noel\n"
     ]
    },
    {
     "name": "stderr",
     "output_type": "stream",
     "text": [
      " 84%|████████▎ | 24508/29341 [05:51<02:59, 26.97it/s]"
     ]
    },
    {
     "name": "stdout",
     "output_type": "stream",
     "text": [
      "sayers, dorothy l sayers, dorothy l. (\n"
     ]
    },
    {
     "name": "stderr",
     "output_type": "stream",
     "text": [
      " 84%|████████▍ | 24629/29341 [05:56<03:26, 22.83it/s]"
     ]
    },
    {
     "name": "stdout",
     "output_type": "stream",
     "text": [
      "kennett, john bennett, john\n"
     ]
    },
    {
     "name": "stderr",
     "output_type": "stream",
     "text": [
      " 84%|████████▍ | 24641/29341 [05:56<02:54, 27.01it/s]"
     ]
    },
    {
     "name": "stdout",
     "output_type": "stream",
     "text": [
      "colter, cyrus cole, cyrus\n"
     ]
    },
    {
     "name": "stderr",
     "output_type": "stream",
     "text": [
      " 84%|████████▍ | 24743/29341 [06:00<02:40, 28.63it/s]"
     ]
    },
    {
     "name": "stdout",
     "output_type": "stream",
     "text": [
      "espino, frederico li espino, federico lic\n"
     ]
    },
    {
     "name": "stderr",
     "output_type": "stream",
     "text": [
      " 85%|████████▌ | 24960/29341 [06:08<02:56, 24.80it/s]"
     ]
    },
    {
     "name": "stdout",
     "output_type": "stream",
     "text": [
      "beck, warren a beck, warren\n"
     ]
    },
    {
     "name": "stderr",
     "output_type": "stream",
     "text": [
      " 85%|████████▌ | 24971/29341 [06:09<02:34, 28.28it/s]"
     ]
    },
    {
     "name": "stdout",
     "output_type": "stream",
     "text": [
      "clarke, austin clare, austin\n"
     ]
    },
    {
     "name": "stderr",
     "output_type": "stream",
     "text": [
      " 85%|████████▌ | 24992/29341 [06:10<02:44, 26.38it/s]"
     ]
    },
    {
     "name": "stdout",
     "output_type": "stream",
     "text": [
      "gardner, john e gardner, john\n"
     ]
    },
    {
     "name": "stderr",
     "output_type": "stream",
     "text": [
      " 86%|████████▌ | 25109/29341 [06:15<02:40, 26.29it/s]"
     ]
    },
    {
     "name": "stdout",
     "output_type": "stream",
     "text": [
      "swarthout, glendon f swarthout, glendon\n"
     ]
    },
    {
     "name": "stderr",
     "output_type": "stream",
     "text": [
      " 86%|████████▌ | 25185/29341 [06:18<01:46, 38.98it/s]"
     ]
    },
    {
     "name": "stdout",
     "output_type": "stream",
     "text": [
      "starling, thomas sterling, thomas\n"
     ]
    },
    {
     "name": "stderr",
     "output_type": "stream",
     "text": [
      " 86%|████████▌ | 25269/29341 [06:21<02:17, 29.58it/s]"
     ]
    },
    {
     "name": "stdout",
     "output_type": "stream",
     "text": [
      "arlen, michael j arlen, michael\n"
     ]
    },
    {
     "name": "stderr",
     "output_type": "stream",
     "text": [
      " 87%|████████▋ | 25398/29341 [06:26<02:11, 29.87it/s]"
     ]
    },
    {
     "name": "stdout",
     "output_type": "stream",
     "text": [
      "morice, anne rice, anne\n"
     ]
    },
    {
     "name": "stderr",
     "output_type": "stream",
     "text": [
      " 87%|████████▋ | 25585/29341 [06:33<03:16, 19.10it/s]"
     ]
    },
    {
     "name": "stdout",
     "output_type": "stream",
     "text": [
      "wilson, a. n wilson, a. j\n"
     ]
    },
    {
     "name": "stderr",
     "output_type": "stream",
     "text": [
      " 88%|████████▊ | 25722/29341 [06:38<01:19, 45.53it/s]"
     ]
    },
    {
     "name": "stdout",
     "output_type": "stream",
     "text": [
      "price, richard pryce, richard\n"
     ]
    },
    {
     "name": "stderr",
     "output_type": "stream",
     "text": [
      " 88%|████████▊ | 25748/29341 [06:39<02:24, 24.90it/s]"
     ]
    },
    {
     "name": "stdout",
     "output_type": "stream",
     "text": [
      "waten, judah l waten, judah\n"
     ]
    },
    {
     "name": "stderr",
     "output_type": "stream",
     "text": [
      " 89%|████████▉ | 26061/29341 [06:51<02:12, 24.79it/s]"
     ]
    },
    {
     "name": "stdout",
     "output_type": "stream",
     "text": [
      "clarke, a. m clarke, a. w\n"
     ]
    },
    {
     "name": "stderr",
     "output_type": "stream",
     "text": [
      " 90%|████████▉ | 26304/29341 [07:01<01:52, 26.88it/s]"
     ]
    },
    {
     "name": "stdout",
     "output_type": "stream",
     "text": [
      "hope, christopher coe, christopher\n"
     ]
    },
    {
     "name": "stderr",
     "output_type": "stream",
     "text": [
      " 90%|█████████ | 26419/29341 [07:05<01:47, 27.15it/s]"
     ]
    },
    {
     "name": "stdout",
     "output_type": "stream",
     "text": [
      "robinson, margaret a robinson, margaret b\n"
     ]
    },
    {
     "name": "stderr",
     "output_type": "stream",
     "text": [
      " 90%|█████████ | 26430/29341 [07:06<01:30, 32.27it/s]"
     ]
    },
    {
     "name": "stdout",
     "output_type": "stream",
     "text": [
      "henderson, robert anderson, robert\n"
     ]
    },
    {
     "name": "stderr",
     "output_type": "stream",
     "text": [
      " 90%|█████████ | 26470/29341 [07:08<02:00, 23.84it/s]"
     ]
    },
    {
     "name": "stdout",
     "output_type": "stream",
     "text": [
      "rosen, norma rosten, norman\n"
     ]
    },
    {
     "name": "stderr",
     "output_type": "stream",
     "text": [
      " 90%|█████████ | 26485/29341 [07:08<01:31, 31.28it/s]"
     ]
    },
    {
     "name": "stdout",
     "output_type": "stream",
     "text": [
      "morice, anne rice, anne\n"
     ]
    },
    {
     "name": "stderr",
     "output_type": "stream",
     "text": [
      " 91%|█████████ | 26584/29341 [07:13<02:00, 22.80it/s]"
     ]
    },
    {
     "name": "stdout",
     "output_type": "stream",
     "text": [
      "waten, judah l waten, judah\n"
     ]
    },
    {
     "name": "stderr",
     "output_type": "stream",
     "text": [
      " 91%|█████████ | 26620/29341 [07:14<01:26, 31.56it/s]"
     ]
    },
    {
     "name": "stdout",
     "output_type": "stream",
     "text": [
      "price, richard pryce, richard\n"
     ]
    },
    {
     "name": "stderr",
     "output_type": "stream",
     "text": [
      " 91%|█████████ | 26687/29341 [07:16<01:13, 35.92it/s]"
     ]
    },
    {
     "name": "stdout",
     "output_type": "stream",
     "text": [
      "brown, michael e brown, michael\n"
     ]
    },
    {
     "name": "stderr",
     "output_type": "stream",
     "text": [
      " 91%|█████████ | 26747/29341 [07:18<01:48, 23.97it/s]"
     ]
    },
    {
     "name": "stdout",
     "output_type": "stream",
     "text": [
      "wilson, a. n wilson, a. j\n"
     ]
    },
    {
     "name": "stderr",
     "output_type": "stream",
     "text": [
      " 91%|█████████▏| 26810/29341 [07:21<01:21, 30.91it/s]"
     ]
    },
    {
     "name": "stdout",
     "output_type": "stream",
     "text": [
      "lawson, robert g lawson, robert\n"
     ]
    },
    {
     "name": "stderr",
     "output_type": "stream",
     "text": [
      " 92%|█████████▏| 26862/29341 [07:23<01:37, 25.36it/s]"
     ]
    },
    {
     "name": "stdout",
     "output_type": "stream",
     "text": [
      "lodge, david dodge, david\n"
     ]
    },
    {
     "name": "stderr",
     "output_type": "stream",
     "text": [
      " 92%|█████████▏| 27084/29341 [07:32<01:07, 33.63it/s]"
     ]
    },
    {
     "name": "stdout",
     "output_type": "stream",
     "text": [
      "mahy, margaret mayo, margaret\n"
     ]
    },
    {
     "name": "stderr",
     "output_type": "stream",
     "text": [
      " 92%|█████████▏| 27117/29341 [07:34<01:43, 21.55it/s]"
     ]
    },
    {
     "name": "stdout",
     "output_type": "stream",
     "text": [
      "tallent, elizabeth allen, elizabeth\n"
     ]
    },
    {
     "name": "stderr",
     "output_type": "stream",
     "text": [
      " 93%|█████████▎| 27242/29341 [07:39<01:34, 22.31it/s]"
     ]
    },
    {
     "name": "stdout",
     "output_type": "stream",
     "text": [
      "demarinis, rick de marinis, rick\n"
     ]
    },
    {
     "name": "stderr",
     "output_type": "stream",
     "text": [
      " 94%|█████████▎| 27463/29341 [07:50<01:34, 19.91it/s]"
     ]
    },
    {
     "name": "stdout",
     "output_type": "stream",
     "text": [
      "tallent, elizabeth allen, elizabeth\n"
     ]
    },
    {
     "name": "stderr",
     "output_type": "stream",
     "text": [
      " 94%|█████████▍| 27653/29341 [07:59<01:19, 21.27it/s]"
     ]
    },
    {
     "name": "stdout",
     "output_type": "stream",
     "text": [
      "madsen, david madden, david\n"
     ]
    },
    {
     "name": "stderr",
     "output_type": "stream",
     "text": [
      " 94%|█████████▍| 27714/29341 [08:02<01:15, 21.50it/s]"
     ]
    },
    {
     "name": "stdout",
     "output_type": "stream",
     "text": [
      "lodge, david dodge, david\n"
     ]
    },
    {
     "name": "stderr",
     "output_type": "stream",
     "text": [
      " 95%|█████████▍| 27780/29341 [08:05<01:02, 24.83it/s]"
     ]
    },
    {
     "name": "stdout",
     "output_type": "stream",
     "text": [
      "roth, henry h roth, henry\n"
     ]
    },
    {
     "name": "stderr",
     "output_type": "stream",
     "text": [
      " 95%|█████████▍| 27833/29341 [08:07<01:06, 22.62it/s]"
     ]
    },
    {
     "name": "stdout",
     "output_type": "stream",
     "text": [
      "fisher, mark fisher, mary\n"
     ]
    },
    {
     "name": "stderr",
     "output_type": "stream",
     "text": [
      " 97%|█████████▋| 28382/29341 [08:35<00:36, 26.54it/s]"
     ]
    },
    {
     "name": "stdout",
     "output_type": "stream",
     "text": [
      "smith, j. p smith, j. f\n"
     ]
    },
    {
     "name": "stderr",
     "output_type": "stream",
     "text": [
      " 97%|█████████▋| 28465/29341 [08:40<00:43, 20.37it/s]"
     ]
    },
    {
     "name": "stdout",
     "output_type": "stream",
     "text": [
      "winder, robert wilder, robert\n"
     ]
    },
    {
     "name": "stderr",
     "output_type": "stream",
     "text": [
      " 97%|█████████▋| 28507/29341 [08:42<00:51, 16.25it/s]"
     ]
    },
    {
     "name": "stdout",
     "output_type": "stream",
     "text": [
      "hickling, r. h hickling, r. a\n"
     ]
    },
    {
     "name": "stderr",
     "output_type": "stream",
     "text": [
      " 97%|█████████▋| 28582/29341 [08:45<00:38, 19.81it/s]"
     ]
    },
    {
     "name": "stdout",
     "output_type": "stream",
     "text": [
      "guérard, albert j (a guérard, albert j. (\n"
     ]
    },
    {
     "name": "stderr",
     "output_type": "stream",
     "text": [
      " 98%|█████████▊| 28660/29341 [08:49<00:31, 21.66it/s]"
     ]
    },
    {
     "name": "stdout",
     "output_type": "stream",
     "text": [
      "robinson, peter robins, peter\n"
     ]
    },
    {
     "name": "stderr",
     "output_type": "stream",
     "text": [
      " 98%|█████████▊| 28663/29341 [08:49<00:32, 21.15it/s]"
     ]
    },
    {
     "name": "stdout",
     "output_type": "stream",
     "text": [
      "roberts, ken roberts, kevin\n"
     ]
    },
    {
     "name": "stderr",
     "output_type": "stream",
     "text": [
      " 98%|█████████▊| 28669/29341 [08:50<00:35, 18.77it/s]"
     ]
    },
    {
     "name": "stdout",
     "output_type": "stream",
     "text": [
      "suárez, virgil suarez, virgil\n"
     ]
    },
    {
     "name": "stderr",
     "output_type": "stream",
     "text": [
      " 98%|█████████▊| 28681/29341 [08:50<00:39, 16.79it/s]"
     ]
    },
    {
     "name": "stdout",
     "output_type": "stream",
     "text": [
      "stewart, jean stewart, sean\n"
     ]
    },
    {
     "name": "stderr",
     "output_type": "stream",
     "text": [
      " 98%|█████████▊| 28746/29341 [08:54<00:30, 19.46it/s]"
     ]
    },
    {
     "name": "stdout",
     "output_type": "stream",
     "text": [
      "enriquez, antonio enriquez, antonio re\n"
     ]
    },
    {
     "name": "stderr",
     "output_type": "stream",
     "text": [
      " 99%|█████████▊| 28905/29341 [09:03<00:25, 17.17it/s]"
     ]
    },
    {
     "name": "stdout",
     "output_type": "stream",
     "text": [
      "bayley, john bailey, john\n"
     ]
    },
    {
     "name": "stderr",
     "output_type": "stream",
     "text": [
      " 99%|█████████▉| 29064/29341 [09:12<00:14, 19.52it/s]"
     ]
    },
    {
     "name": "stdout",
     "output_type": "stream",
     "text": [
      "carter, william carpenter, william\n"
     ]
    },
    {
     "name": "stderr",
     "output_type": "stream",
     "text": [
      " 99%|█████████▉| 29074/29341 [09:12<00:15, 17.17it/s]"
     ]
    },
    {
     "name": "stdout",
     "output_type": "stream",
     "text": [
      "anderson, david d anderson, david\n"
     ]
    },
    {
     "name": "stderr",
     "output_type": "stream",
     "text": [
      "100%|██████████| 29341/29341 [09:27<00:00, 51.73it/s]\n"
     ]
    }
   ],
   "source": [
    "newstandards = []\n",
    "\n",
    "for auth1 in tqdm(meta.hathi_author):\n",
    "    if pd.isnull(auth1) or len(auth1) < 1:\n",
    "        auth1 = 'anonymous'\n",
    "    else:\n",
    "        auth1 = auth1.lower()\n",
    "    \n",
    "    auth1 = auth1.replace('[', '')\n",
    "    auth1 = auth1.replace(']', '')\n",
    "    if auth1.endswith('mrs'):\n",
    "        auth1 = auth1[0: -3]\n",
    "    if len(auth1) > 20:\n",
    "        auth1 = auth1[0: 20]\n",
    "        \n",
    "    if auth1 in standards:\n",
    "        newstandards.append(auth1)\n",
    "    else:\n",
    "        thetuples = []\n",
    "        for auth2 in standards:\n",
    "            match = fuzz.ratio(auth1, auth2)\n",
    "            if match > 90:\n",
    "                thetuples.append((match, auth2))\n",
    "        \n",
    "        if len(thetuples) < 1:\n",
    "            standards.append(auth1)\n",
    "            newstandards.append(auth1)\n",
    "        else:\n",
    "            thetuples.sort(reverse = True)\n",
    "            standards.append(thetuples[0][1])\n",
    "            newstandards.append(thetuples[0][1])\n",
    "            print(auth1, thetuples[0][1])"
   ]
  },
  {
   "cell_type": "code",
   "execution_count": 95,
   "id": "0a96377d-d49d-4bf7-9ec9-57021fba749b",
   "metadata": {},
   "outputs": [
    {
     "data": {
      "text/plain": [
       "29341"
      ]
     },
     "execution_count": 95,
     "metadata": {},
     "output_type": "execute_result"
    }
   ],
   "source": [
    "len(newstandards)"
   ]
  },
  {
   "cell_type": "code",
   "execution_count": 96,
   "id": "d072a6b6-8c5c-4bb3-b894-41ae0346486e",
   "metadata": {},
   "outputs": [
    {
     "data": {
      "text/plain": [
       "(5519, 16)"
      ]
     },
     "execution_count": 96,
     "metadata": {},
     "output_type": "execute_result"
    }
   ],
   "source": [
    "newcomplete.shape"
   ]
  },
  {
   "cell_type": "code",
   "execution_count": 98,
   "id": "567b29a4-3bc4-4198-ba8e-a53ec3380084",
   "metadata": {},
   "outputs": [],
   "source": [
    "newcomplete.to_csv('allmatchedbooks.tsv', sep = '\\t', index = False)"
   ]
  },
  {
   "cell_type": "code",
   "execution_count": 99,
   "id": "8d6a862d-dbb0-40f8-9546-70e5040a048b",
   "metadata": {},
   "outputs": [
    {
     "data": {
      "text/plain": [
       "12370"
      ]
     },
     "execution_count": 99,
     "metadata": {},
     "output_type": "execute_result"
    }
   ],
   "source": [
    "len(set(newstandards))"
   ]
  },
  {
   "cell_type": "code",
   "execution_count": 100,
   "id": "e25142b4-aedb-4135-ae9c-5b0d1b3debcb",
   "metadata": {},
   "outputs": [
    {
     "data": {
      "text/plain": [
       "12532"
      ]
     },
     "execution_count": 100,
     "metadata": {},
     "output_type": "execute_result"
    }
   ],
   "source": [
    "len(set(meta.hathi_author))"
   ]
  },
  {
   "cell_type": "code",
   "execution_count": 101,
   "id": "c5288c91-b99e-4ded-b0f1-82927ca8eace",
   "metadata": {},
   "outputs": [
    {
     "data": {
      "text/plain": [
       "(29341, 208)"
      ]
     },
     "execution_count": 101,
     "metadata": {},
     "output_type": "execute_result"
    }
   ],
   "source": [
    "meta.shape"
   ]
  },
  {
   "cell_type": "code",
   "execution_count": 102,
   "id": "bd828566-1faf-4c24-8628-cb7e1d2cb8d8",
   "metadata": {},
   "outputs": [
    {
     "data": {
      "text/html": [
       "<div>\n",
       "<style scoped>\n",
       "    .dataframe tbody tr th:only-of-type {\n",
       "        vertical-align: middle;\n",
       "    }\n",
       "\n",
       "    .dataframe tbody tr th {\n",
       "        vertical-align: top;\n",
       "    }\n",
       "\n",
       "    .dataframe thead th {\n",
       "        text-align: right;\n",
       "    }\n",
       "</style>\n",
       "<table border=\"1\" class=\"dataframe\">\n",
       "  <thead>\n",
       "    <tr style=\"text-align: right;\">\n",
       "      <th></th>\n",
       "      <th>docid</th>\n",
       "      <th>tm_author</th>\n",
       "      <th>tm_title</th>\n",
       "      <th>tm_year</th>\n",
       "      <th>review_year</th>\n",
       "      <th>rownum</th>\n",
       "      <th>review_title</th>\n",
       "      <th>prize_author</th>\n",
       "      <th>bestseller_year</th>\n",
       "      <th>is_bestseller</th>\n",
       "      <th>obscure</th>\n",
       "      <th>firstpub</th>\n",
       "      <th>birthyear</th>\n",
       "      <th>us_national</th>\n",
       "      <th>lowest_date</th>\n",
       "      <th>standard_auth</th>\n",
       "    </tr>\n",
       "  </thead>\n",
       "  <tbody>\n",
       "    <tr>\n",
       "      <th>0</th>\n",
       "      <td>uc1.b3347126</td>\n",
       "      <td>shaw, irwin</td>\n",
       "      <td>welcome to the city, and other</td>\n",
       "      <td>1942.0</td>\n",
       "      <td>1942.0</td>\n",
       "      <td>3289.0</td>\n",
       "      <td>welcome to the city, and other stories.</td>\n",
       "      <td>False</td>\n",
       "      <td>NaN</td>\n",
       "      <td>False</td>\n",
       "      <td>False</td>\n",
       "      <td>1942</td>\n",
       "      <td>1913.0</td>\n",
       "      <td>True</td>\n",
       "      <td>1942</td>\n",
       "      <td>shaw, irwin</td>\n",
       "    </tr>\n",
       "    <tr>\n",
       "      <th>1</th>\n",
       "      <td>uc1.$b322688</td>\n",
       "      <td>bennett, arnold</td>\n",
       "      <td>woman who stole everything</td>\n",
       "      <td>1927.0</td>\n",
       "      <td>1927.0</td>\n",
       "      <td>4140.0</td>\n",
       "      <td>woman who stole everything, and other stories.</td>\n",
       "      <td>False</td>\n",
       "      <td>NaN</td>\n",
       "      <td>False</td>\n",
       "      <td>False</td>\n",
       "      <td>1927</td>\n",
       "      <td>1867.0</td>\n",
       "      <td>False</td>\n",
       "      <td>1927</td>\n",
       "      <td>bennett, arnold</td>\n",
       "    </tr>\n",
       "    <tr>\n",
       "      <th>2</th>\n",
       "      <td>uc1.b3407035</td>\n",
       "      <td>lippincott, joseph wharton</td>\n",
       "      <td>wilderness champion; the story</td>\n",
       "      <td>1944.0</td>\n",
       "      <td>1944.0</td>\n",
       "      <td>3481.0</td>\n",
       "      <td>wilderness champion; the story of a great houn...</td>\n",
       "      <td>False</td>\n",
       "      <td>NaN</td>\n",
       "      <td>False</td>\n",
       "      <td>False</td>\n",
       "      <td>1944</td>\n",
       "      <td>1887.0</td>\n",
       "      <td>True</td>\n",
       "      <td>1944</td>\n",
       "      <td>lippincott, joseph w</td>\n",
       "    </tr>\n",
       "    <tr>\n",
       "      <th>3</th>\n",
       "      <td>uc1.$b116192</td>\n",
       "      <td>becker, may lamberton</td>\n",
       "      <td>golden tales of the southwest;</td>\n",
       "      <td>1939.0</td>\n",
       "      <td>1939.0</td>\n",
       "      <td>4283.0</td>\n",
       "      <td>golden tales of the southwest; selected with a...</td>\n",
       "      <td>False</td>\n",
       "      <td>NaN</td>\n",
       "      <td>False</td>\n",
       "      <td>False</td>\n",
       "      <td>1939</td>\n",
       "      <td>1873.0</td>\n",
       "      <td>True</td>\n",
       "      <td>1939</td>\n",
       "      <td>becker, may lamberto</td>\n",
       "    </tr>\n",
       "    <tr>\n",
       "      <th>4</th>\n",
       "      <td>mdp.39015059415383</td>\n",
       "      <td>miller, alice duer, mrs</td>\n",
       "      <td>instruments</td>\n",
       "      <td>1926.0</td>\n",
       "      <td>1926.0</td>\n",
       "      <td>2405.0</td>\n",
       "      <td>instruments of darkness, and other stories.</td>\n",
       "      <td>False</td>\n",
       "      <td>NaN</td>\n",
       "      <td>False</td>\n",
       "      <td>False</td>\n",
       "      <td>1926</td>\n",
       "      <td>1874.0</td>\n",
       "      <td>True</td>\n",
       "      <td>1926</td>\n",
       "      <td>miller, alice duer,</td>\n",
       "    </tr>\n",
       "  </tbody>\n",
       "</table>\n",
       "</div>"
      ],
      "text/plain": [
       "                docid                   tm_author  \\\n",
       "0        uc1.b3347126                 shaw, irwin   \n",
       "1        uc1.$b322688             bennett, arnold   \n",
       "2        uc1.b3407035  lippincott, joseph wharton   \n",
       "3        uc1.$b116192       becker, may lamberton   \n",
       "4  mdp.39015059415383     miller, alice duer, mrs   \n",
       "\n",
       "                         tm_title  tm_year  review_year  rownum  \\\n",
       "0  welcome to the city, and other   1942.0       1942.0  3289.0   \n",
       "1      woman who stole everything   1927.0       1927.0  4140.0   \n",
       "2  wilderness champion; the story   1944.0       1944.0  3481.0   \n",
       "3  golden tales of the southwest;   1939.0       1939.0  4283.0   \n",
       "4                    instruments    1926.0       1926.0  2405.0   \n",
       "\n",
       "                                        review_title  prize_author  \\\n",
       "0            welcome to the city, and other stories.         False   \n",
       "1     woman who stole everything, and other stories.         False   \n",
       "2  wilderness champion; the story of a great houn...         False   \n",
       "3  golden tales of the southwest; selected with a...         False   \n",
       "4        instruments of darkness, and other stories.         False   \n",
       "\n",
       "   bestseller_year  is_bestseller  obscure  firstpub  birthyear  us_national  \\\n",
       "0              NaN          False    False      1942     1913.0         True   \n",
       "1              NaN          False    False      1927     1867.0        False   \n",
       "2              NaN          False    False      1944     1887.0         True   \n",
       "3              NaN          False    False      1939     1873.0         True   \n",
       "4              NaN          False    False      1926     1874.0         True   \n",
       "\n",
       "   lowest_date         standard_auth  \n",
       "0         1942           shaw, irwin  \n",
       "1         1927       bennett, arnold  \n",
       "2         1944  lippincott, joseph w  \n",
       "3         1939  becker, may lamberto  \n",
       "4         1926  miller, alice duer,   "
      ]
     },
     "execution_count": 102,
     "metadata": {},
     "output_type": "execute_result"
    }
   ],
   "source": [
    "newcomplete.head()"
   ]
  },
  {
   "cell_type": "code",
   "execution_count": 103,
   "id": "ea9aa86c-3bf9-4502-a141-ff03843a0fc6",
   "metadata": {},
   "outputs": [],
   "source": [
    "meta['standard_auth'] = newstandards"
   ]
  },
  {
   "cell_type": "code",
   "execution_count": 104,
   "id": "a2d237b4-857a-42f7-9c99-ccd189d10bd4",
   "metadata": {},
   "outputs": [
    {
     "data": {
      "text/html": [
       "<div>\n",
       "<style scoped>\n",
       "    .dataframe tbody tr th:only-of-type {\n",
       "        vertical-align: middle;\n",
       "    }\n",
       "\n",
       "    .dataframe tbody tr th {\n",
       "        vertical-align: top;\n",
       "    }\n",
       "\n",
       "    .dataframe thead th {\n",
       "        text-align: right;\n",
       "    }\n",
       "</style>\n",
       "<table border=\"1\" class=\"dataframe\">\n",
       "  <thead>\n",
       "    <tr style=\"text-align: right;\">\n",
       "      <th></th>\n",
       "      <th>t0</th>\n",
       "      <th>t1</th>\n",
       "      <th>t2</th>\n",
       "      <th>t3</th>\n",
       "      <th>t4</th>\n",
       "      <th>t5</th>\n",
       "      <th>t6</th>\n",
       "      <th>t7</th>\n",
       "      <th>t8</th>\n",
       "      <th>t9</th>\n",
       "      <th>...</th>\n",
       "      <th>t199</th>\n",
       "      <th>docid</th>\n",
       "      <th>birthyear</th>\n",
       "      <th>firstpub</th>\n",
       "      <th>hathi_author</th>\n",
       "      <th>hathi_title</th>\n",
       "      <th>us_national</th>\n",
       "      <th>authof3ormore</th>\n",
       "      <th>age</th>\n",
       "      <th>standard_auth</th>\n",
       "    </tr>\n",
       "  </thead>\n",
       "  <tbody>\n",
       "    <tr>\n",
       "      <th>29336</th>\n",
       "      <td>0.004679</td>\n",
       "      <td>0.000006</td>\n",
       "      <td>0.000409</td>\n",
       "      <td>0.046729</td>\n",
       "      <td>0.000439</td>\n",
       "      <td>0.000006</td>\n",
       "      <td>0.000003</td>\n",
       "      <td>0.000010</td>\n",
       "      <td>0.001933</td>\n",
       "      <td>0.052563</td>\n",
       "      <td>...</td>\n",
       "      <td>0.000002</td>\n",
       "      <td>mdp.39015043059172</td>\n",
       "      <td>1932.0</td>\n",
       "      <td>1999</td>\n",
       "      <td>Smithies, Michael</td>\n",
       "      <td>Gulfs of Thailand : a collection of short stories</td>\n",
       "      <td>False</td>\n",
       "      <td>False</td>\n",
       "      <td>67.0</td>\n",
       "      <td>smithies, michael</td>\n",
       "    </tr>\n",
       "    <tr>\n",
       "      <th>29337</th>\n",
       "      <td>0.000111</td>\n",
       "      <td>0.001208</td>\n",
       "      <td>0.000319</td>\n",
       "      <td>0.010090</td>\n",
       "      <td>0.000717</td>\n",
       "      <td>0.000409</td>\n",
       "      <td>0.000005</td>\n",
       "      <td>0.000016</td>\n",
       "      <td>0.000014</td>\n",
       "      <td>0.000113</td>\n",
       "      <td>...</td>\n",
       "      <td>0.000703</td>\n",
       "      <td>mdp.39015047842185</td>\n",
       "      <td>NaN</td>\n",
       "      <td>1999</td>\n",
       "      <td>Claxton, William</td>\n",
       "      <td>Laugh : portraits of the greatest comedians an...</td>\n",
       "      <td>False</td>\n",
       "      <td>False</td>\n",
       "      <td>NaN</td>\n",
       "      <td>claxton, william</td>\n",
       "    </tr>\n",
       "    <tr>\n",
       "      <th>29338</th>\n",
       "      <td>0.000050</td>\n",
       "      <td>0.000027</td>\n",
       "      <td>0.001393</td>\n",
       "      <td>0.000329</td>\n",
       "      <td>0.009165</td>\n",
       "      <td>0.000376</td>\n",
       "      <td>0.000160</td>\n",
       "      <td>0.000019</td>\n",
       "      <td>0.000131</td>\n",
       "      <td>0.006394</td>\n",
       "      <td>...</td>\n",
       "      <td>0.000081</td>\n",
       "      <td>mdp.39015051894841</td>\n",
       "      <td>NaN</td>\n",
       "      <td>1999</td>\n",
       "      <td>Keyes, Marian</td>\n",
       "      <td>Last chance saloon</td>\n",
       "      <td>False</td>\n",
       "      <td>False</td>\n",
       "      <td>NaN</td>\n",
       "      <td>keyes, marian</td>\n",
       "    </tr>\n",
       "    <tr>\n",
       "      <th>29339</th>\n",
       "      <td>0.000611</td>\n",
       "      <td>0.002533</td>\n",
       "      <td>0.007632</td>\n",
       "      <td>0.003172</td>\n",
       "      <td>0.007383</td>\n",
       "      <td>0.000112</td>\n",
       "      <td>0.000002</td>\n",
       "      <td>0.000187</td>\n",
       "      <td>0.000292</td>\n",
       "      <td>0.000292</td>\n",
       "      <td>...</td>\n",
       "      <td>0.000002</td>\n",
       "      <td>mdp.39015047609089</td>\n",
       "      <td>NaN</td>\n",
       "      <td>1999</td>\n",
       "      <td>Mayo, Wendell</td>\n",
       "      <td>B. Horror : and other stories</td>\n",
       "      <td>False</td>\n",
       "      <td>False</td>\n",
       "      <td>NaN</td>\n",
       "      <td>mayo, wendell</td>\n",
       "    </tr>\n",
       "    <tr>\n",
       "      <th>29340</th>\n",
       "      <td>0.000164</td>\n",
       "      <td>0.000006</td>\n",
       "      <td>0.004271</td>\n",
       "      <td>0.000004</td>\n",
       "      <td>0.027734</td>\n",
       "      <td>0.000006</td>\n",
       "      <td>0.000003</td>\n",
       "      <td>0.003068</td>\n",
       "      <td>0.000576</td>\n",
       "      <td>0.000198</td>\n",
       "      <td>...</td>\n",
       "      <td>0.000002</td>\n",
       "      <td>mdp.39015046006196</td>\n",
       "      <td>NaN</td>\n",
       "      <td>1999</td>\n",
       "      <td>Vega, Suzanne</td>\n",
       "      <td>The passionate eye : the collected writing of ...</td>\n",
       "      <td>False</td>\n",
       "      <td>False</td>\n",
       "      <td>NaN</td>\n",
       "      <td>vega, suzanne</td>\n",
       "    </tr>\n",
       "  </tbody>\n",
       "</table>\n",
       "<p>5 rows × 209 columns</p>\n",
       "</div>"
      ],
      "text/plain": [
       "             t0        t1        t2        t3        t4        t5        t6  \\\n",
       "29336  0.004679  0.000006  0.000409  0.046729  0.000439  0.000006  0.000003   \n",
       "29337  0.000111  0.001208  0.000319  0.010090  0.000717  0.000409  0.000005   \n",
       "29338  0.000050  0.000027  0.001393  0.000329  0.009165  0.000376  0.000160   \n",
       "29339  0.000611  0.002533  0.007632  0.003172  0.007383  0.000112  0.000002   \n",
       "29340  0.000164  0.000006  0.004271  0.000004  0.027734  0.000006  0.000003   \n",
       "\n",
       "             t7        t8        t9  ...      t199               docid  \\\n",
       "29336  0.000010  0.001933  0.052563  ...  0.000002  mdp.39015043059172   \n",
       "29337  0.000016  0.000014  0.000113  ...  0.000703  mdp.39015047842185   \n",
       "29338  0.000019  0.000131  0.006394  ...  0.000081  mdp.39015051894841   \n",
       "29339  0.000187  0.000292  0.000292  ...  0.000002  mdp.39015047609089   \n",
       "29340  0.003068  0.000576  0.000198  ...  0.000002  mdp.39015046006196   \n",
       "\n",
       "       birthyear  firstpub       hathi_author  \\\n",
       "29336     1932.0      1999  Smithies, Michael   \n",
       "29337        NaN      1999   Claxton, William   \n",
       "29338        NaN      1999      Keyes, Marian   \n",
       "29339        NaN      1999      Mayo, Wendell   \n",
       "29340        NaN      1999      Vega, Suzanne   \n",
       "\n",
       "                                             hathi_title  us_national  \\\n",
       "29336  Gulfs of Thailand : a collection of short stories        False   \n",
       "29337  Laugh : portraits of the greatest comedians an...        False   \n",
       "29338                                 Last chance saloon        False   \n",
       "29339                      B. Horror : and other stories        False   \n",
       "29340  The passionate eye : the collected writing of ...        False   \n",
       "\n",
       "       authof3ormore   age      standard_auth  \n",
       "29336          False  67.0  smithies, michael  \n",
       "29337          False   NaN   claxton, william  \n",
       "29338          False   NaN      keyes, marian  \n",
       "29339          False   NaN      mayo, wendell  \n",
       "29340          False   NaN      vega, suzanne  \n",
       "\n",
       "[5 rows x 209 columns]"
      ]
     },
     "execution_count": 104,
     "metadata": {},
     "output_type": "execute_result"
    }
   ],
   "source": [
    "meta.tail()"
   ]
  },
  {
   "cell_type": "code",
   "execution_count": 105,
   "id": "aa3564bd-1c05-496a-b313-bc312a72e806",
   "metadata": {},
   "outputs": [
    {
     "data": {
      "text/plain": [
       "(22850, 209)"
      ]
     },
     "execution_count": 105,
     "metadata": {},
     "output_type": "execute_result"
    }
   ],
   "source": [
    "meta = meta.loc[(meta.firstpub > 1885) & (meta.firstpub < 1977), :]\n",
    "meta.shape"
   ]
  },
  {
   "cell_type": "code",
   "execution_count": 106,
   "id": "4e2ed1bb-5e56-474d-8352-b2e79e28e29a",
   "metadata": {},
   "outputs": [],
   "source": [
    "meta.to_csv('topicdatastandardauths.tsv', sep = '\\t', index = False)"
   ]
  },
  {
   "cell_type": "code",
   "execution_count": 107,
   "id": "1189732b-44e0-44b1-b05c-88104d5c9c76",
   "metadata": {},
   "outputs": [],
   "source": [
    "yeardict = dict()\n",
    "\n",
    "for year, df in newcomplete.groupby('lowest_date'):\n",
    "    yeardict[year] = df"
   ]
  },
  {
   "cell_type": "code",
   "execution_count": 108,
   "id": "7736dd7a-3a57-4725-a190-bf492781cf31",
   "metadata": {},
   "outputs": [
    {
     "data": {
      "text/plain": [
       "35"
      ]
     },
     "execution_count": 108,
     "metadata": {},
     "output_type": "execute_result"
    }
   ],
   "source": [
    "len(yeardict)"
   ]
  },
  {
   "cell_type": "code",
   "execution_count": 109,
   "id": "7ed63010-8230-40ba-aae6-00af4595f9b0",
   "metadata": {},
   "outputs": [],
   "source": [
    "del yeardict"
   ]
  },
  {
   "cell_type": "code",
   "execution_count": null,
   "id": "cfdf7c37-867c-4ad3-9a5c-e65abc53befb",
   "metadata": {},
   "outputs": [],
   "source": []
  }
 ],
 "metadata": {
  "kernelspec": {
   "display_name": "Python 3",
   "language": "python",
   "name": "python3"
  },
  "language_info": {
   "codemirror_mode": {
    "name": "ipython",
    "version": 3
   },
   "file_extension": ".py",
   "mimetype": "text/x-python",
   "name": "python",
   "nbconvert_exporter": "python",
   "pygments_lexer": "ipython3",
   "version": "3.7.6"
  }
 },
 "nbformat": 4,
 "nbformat_minor": 5
}
