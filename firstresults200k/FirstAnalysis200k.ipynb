{
 "cells": [
  {
   "cell_type": "markdown",
   "id": "a63418bf-307d-4b2a-9d42-1f5b9a0cac15",
   "metadata": {},
   "source": [
    "# First analysis of precocity results\n",
    "\n",
    "This is a first pass, using an old topic model, and is missing several metadata categories. But it may give us a sense of the structure of the problem and the sorts of questions we'll encounter when we do the final analysis.\n",
    "\n"
   ]
  },
  {
   "cell_type": "code",
   "execution_count": 69,
   "id": "9d6cd918-48bb-4732-9b28-ca0a1fc9e47d",
   "metadata": {},
   "outputs": [],
   "source": [
    "import pandas as pd\n",
    "import numpy as np\n",
    "from scipy.stats import ttest_ind, pearsonr, spearmanr, zscore\n",
    "from statistics import mean, stdev\n",
    "from math import sqrt\n",
    "import seaborn as sns"
   ]
  },
  {
   "cell_type": "markdown",
   "id": "0ee67bf6-efcd-4750-9cc7-97b090c1a8c0",
   "metadata": {},
   "source": [
    "The results I'll use here were created by comparing books forward and backward using KL divergence, which is what Barron et al. do and what we preregistered. But the directory also includes results measured with cosine distance.\n",
    "\n",
    "In any case we load them in the next cell. \n",
    "\n",
    "### Load the novelty / precocity results\n",
    "\n",
    "The name \"centersurprise\" is because KLD/surprise is asymmetric and this is organized the same way Barron et al do it, where the books in the past (or future) are the reference point and the book in the center of the timeline is being compared to them."
   ]
  },
  {
   "cell_type": "code",
   "execution_count": 75,
   "id": "f125b6f8-e036-4550-97de-d9ebbcfe8ee7",
   "metadata": {},
   "outputs": [],
   "source": [
    "results = pd.read_csv('centersurprise_0summary.tsv', sep = '\\t', low_memory = False)"
   ]
  },
  {
   "cell_type": "code",
   "execution_count": 76,
   "id": "249d7860-bdb3-49be-8250-3d2f86cc83c8",
   "metadata": {},
   "outputs": [
    {
     "data": {
      "text/plain": [
       "(5494, 7)"
      ]
     },
     "execution_count": 76,
     "metadata": {},
     "output_type": "execute_result"
    }
   ],
   "source": [
    "results.shape"
   ]
  },
  {
   "cell_type": "code",
   "execution_count": 77,
   "id": "7a428708-028d-4d14-ba97-cc59590b799f",
   "metadata": {},
   "outputs": [
    {
     "data": {
      "text/html": [
       "<div>\n",
       "<style scoped>\n",
       "    .dataframe tbody tr th:only-of-type {\n",
       "        vertical-align: middle;\n",
       "    }\n",
       "\n",
       "    .dataframe tbody tr th {\n",
       "        vertical-align: top;\n",
       "    }\n",
       "\n",
       "    .dataframe thead th {\n",
       "        text-align: right;\n",
       "    }\n",
       "</style>\n",
       "<table border=\"1\" class=\"dataframe\">\n",
       "  <thead>\n",
       "    <tr style=\"text-align: right;\">\n",
       "      <th></th>\n",
       "      <th>docid</th>\n",
       "      <th>novelty_1.0_25</th>\n",
       "      <th>novelty_0.05_25</th>\n",
       "      <th>transience_1.0_25</th>\n",
       "      <th>transience_0.05_25</th>\n",
       "      <th>resonance_1.0_25</th>\n",
       "      <th>resonance_0.05_25</th>\n",
       "    </tr>\n",
       "  </thead>\n",
       "  <tbody>\n",
       "    <tr>\n",
       "      <th>0</th>\n",
       "      <td>uc1.b3347126</td>\n",
       "      <td>3.398059</td>\n",
       "      <td>1.821735</td>\n",
       "      <td>3.085248</td>\n",
       "      <td>1.549357</td>\n",
       "      <td>0.312811</td>\n",
       "      <td>0.272377</td>\n",
       "    </tr>\n",
       "    <tr>\n",
       "      <th>1</th>\n",
       "      <td>uc1.$b322688</td>\n",
       "      <td>3.135666</td>\n",
       "      <td>1.553544</td>\n",
       "      <td>2.814364</td>\n",
       "      <td>1.401104</td>\n",
       "      <td>0.321302</td>\n",
       "      <td>0.152440</td>\n",
       "    </tr>\n",
       "    <tr>\n",
       "      <th>2</th>\n",
       "      <td>uc1.b3407035</td>\n",
       "      <td>3.867555</td>\n",
       "      <td>2.192431</td>\n",
       "      <td>3.812988</td>\n",
       "      <td>2.240488</td>\n",
       "      <td>0.054567</td>\n",
       "      <td>-0.048057</td>\n",
       "    </tr>\n",
       "    <tr>\n",
       "      <th>3</th>\n",
       "      <td>uc1.$b116192</td>\n",
       "      <td>3.191707</td>\n",
       "      <td>1.829873</td>\n",
       "      <td>3.215412</td>\n",
       "      <td>1.836419</td>\n",
       "      <td>-0.023705</td>\n",
       "      <td>-0.006546</td>\n",
       "    </tr>\n",
       "    <tr>\n",
       "      <th>4</th>\n",
       "      <td>mdp.39015059415383</td>\n",
       "      <td>2.742098</td>\n",
       "      <td>1.313322</td>\n",
       "      <td>2.462502</td>\n",
       "      <td>1.264870</td>\n",
       "      <td>0.279596</td>\n",
       "      <td>0.048452</td>\n",
       "    </tr>\n",
       "  </tbody>\n",
       "</table>\n",
       "</div>"
      ],
      "text/plain": [
       "                docid  novelty_1.0_25  novelty_0.05_25  transience_1.0_25  \\\n",
       "0        uc1.b3347126        3.398059         1.821735           3.085248   \n",
       "1        uc1.$b322688        3.135666         1.553544           2.814364   \n",
       "2        uc1.b3407035        3.867555         2.192431           3.812988   \n",
       "3        uc1.$b116192        3.191707         1.829873           3.215412   \n",
       "4  mdp.39015059415383        2.742098         1.313322           2.462502   \n",
       "\n",
       "   transience_0.05_25  resonance_1.0_25  resonance_0.05_25  \n",
       "0            1.549357          0.312811           0.272377  \n",
       "1            1.401104          0.321302           0.152440  \n",
       "2            2.240488          0.054567          -0.048057  \n",
       "3            1.836419         -0.023705          -0.006546  \n",
       "4            1.264870          0.279596           0.048452  "
      ]
     },
     "execution_count": 77,
     "metadata": {},
     "output_type": "execute_result"
    }
   ],
   "source": [
    "results.head()"
   ]
  },
  {
   "cell_type": "markdown",
   "id": "6b919785-d39b-4040-8338-4918d582ae5b",
   "metadata": {},
   "source": [
    "The columns with 1.0 are measured with respect to all volumes in a year. The columns with .05 are measured with respect to the 5% of most similar books (excluding books with the same author — and we're quite careful to exclude them, using fuzzy matching so we exclude them even if spelling is slightly different.\n",
    "\n",
    "All the columns are measured in a 25-year window, which means we consider *all* the volumes from 1 year back to 25 years back, etc.\n",
    "\n",
    "The thing labeled here as \"resonance\" is what we're calling \"precocity.\" I haven't changed the term in the python script yet.\n",
    "\n",
    "I only calculated results for the 5494 volumes in metadata. \n",
    "\n",
    "### Now load metadata\n",
    "\n",
    "This file contains both regular metadata and some summary statistics about reception generated in the ```reception_data.ipynb``` notebook. For instance, we know for each book whether its author was in Liza's lists of prizewinning authors and whether the book itself was a bestseller. \n",
    "\n",
    "For books that were matched toWe also know the total review wordcount and the average review sentiment, although I caution that this estimate is a bit unreliable because sentiment is missing in many cases. In the final version we might train a model to estimate it for those cases.\n",
    "\n",
    "Finally, there's a column called ```obscure.``` **This is an important tricky detail.** The volumes in metadata are mostly volumes from the topic model that I was able to match book reviews. (I'm not using other volumes in Hathi that match the book reviews because this topic model doesn't have an inferencer.)\n",
    "\n",
    "But I also included a thousand volumes that were in the model but *not* matched to reviews. They might have been missed in the matching process, but many of these are probably things that didn't get reviewed or at any rate didn't get summarized in *Book Review Digest.* They are thus *likely* to be more obscure than the reviewed volumes. Probably a fair comparison would include more of these potentially-obscure volumes, not just a sample of one thousand. I was working quickly in an effort to get some results."
   ]
  },
  {
   "cell_type": "code",
   "execution_count": 78,
   "id": "213dc8d2-5aa6-41bf-ba76-923dc03bc2df",
   "metadata": {},
   "outputs": [],
   "source": [
    "meta = pd.read_csv('bookswithreception.tsv', sep = '\\t')"
   ]
  },
  {
   "cell_type": "code",
   "execution_count": 79,
   "id": "32e6173c-d874-49a2-88e6-f38fc0e68427",
   "metadata": {},
   "outputs": [
    {
     "data": {
      "text/html": [
       "<div>\n",
       "<style scoped>\n",
       "    .dataframe tbody tr th:only-of-type {\n",
       "        vertical-align: middle;\n",
       "    }\n",
       "\n",
       "    .dataframe tbody tr th {\n",
       "        vertical-align: top;\n",
       "    }\n",
       "\n",
       "    .dataframe thead th {\n",
       "        text-align: right;\n",
       "    }\n",
       "</style>\n",
       "<table border=\"1\" class=\"dataframe\">\n",
       "  <thead>\n",
       "    <tr style=\"text-align: right;\">\n",
       "      <th></th>\n",
       "      <th>docid</th>\n",
       "      <th>tm_author</th>\n",
       "      <th>tm_title</th>\n",
       "      <th>tm_year</th>\n",
       "      <th>review_year</th>\n",
       "      <th>rownum</th>\n",
       "      <th>review_title</th>\n",
       "      <th>prize_author</th>\n",
       "      <th>bestseller_year</th>\n",
       "      <th>is_bestseller</th>\n",
       "      <th>obscure</th>\n",
       "      <th>firstpub</th>\n",
       "      <th>birthyear</th>\n",
       "      <th>us_national</th>\n",
       "      <th>lowest_date</th>\n",
       "      <th>standard_auth</th>\n",
       "      <th>review_wordcount</th>\n",
       "      <th>review_sentiment</th>\n",
       "    </tr>\n",
       "  </thead>\n",
       "  <tbody>\n",
       "    <tr>\n",
       "      <th>0</th>\n",
       "      <td>uc1.b3347126</td>\n",
       "      <td>shaw, irwin</td>\n",
       "      <td>welcome to the city, and other</td>\n",
       "      <td>1942.0</td>\n",
       "      <td>1942.0</td>\n",
       "      <td>3289.0</td>\n",
       "      <td>welcome to the city, and other stories.</td>\n",
       "      <td>False</td>\n",
       "      <td>NaN</td>\n",
       "      <td>False</td>\n",
       "      <td>False</td>\n",
       "      <td>1942</td>\n",
       "      <td>1913.0</td>\n",
       "      <td>True</td>\n",
       "      <td>1942</td>\n",
       "      <td>shaw, irwin</td>\n",
       "      <td>2400.0</td>\n",
       "      <td>3.715599</td>\n",
       "    </tr>\n",
       "    <tr>\n",
       "      <th>1</th>\n",
       "      <td>uc1.$b322688</td>\n",
       "      <td>bennett, arnold</td>\n",
       "      <td>woman who stole everything</td>\n",
       "      <td>1927.0</td>\n",
       "      <td>1927.0</td>\n",
       "      <td>4140.0</td>\n",
       "      <td>woman who stole everything, and other stories.</td>\n",
       "      <td>False</td>\n",
       "      <td>NaN</td>\n",
       "      <td>False</td>\n",
       "      <td>False</td>\n",
       "      <td>1927</td>\n",
       "      <td>1867.0</td>\n",
       "      <td>False</td>\n",
       "      <td>1927</td>\n",
       "      <td>bennett, arnold</td>\n",
       "      <td>5010.0</td>\n",
       "      <td>3.500459</td>\n",
       "    </tr>\n",
       "    <tr>\n",
       "      <th>2</th>\n",
       "      <td>uc1.b3407035</td>\n",
       "      <td>lippincott, joseph wharton</td>\n",
       "      <td>wilderness champion; the story</td>\n",
       "      <td>1944.0</td>\n",
       "      <td>1944.0</td>\n",
       "      <td>3481.0</td>\n",
       "      <td>wilderness champion; the story of a great houn...</td>\n",
       "      <td>False</td>\n",
       "      <td>NaN</td>\n",
       "      <td>False</td>\n",
       "      <td>False</td>\n",
       "      <td>1944</td>\n",
       "      <td>1887.0</td>\n",
       "      <td>True</td>\n",
       "      <td>1944</td>\n",
       "      <td>lippincott, joseph w</td>\n",
       "      <td>600.0</td>\n",
       "      <td>3.759941</td>\n",
       "    </tr>\n",
       "  </tbody>\n",
       "</table>\n",
       "</div>"
      ],
      "text/plain": [
       "          docid                   tm_author                        tm_title  \\\n",
       "0  uc1.b3347126                 shaw, irwin  welcome to the city, and other   \n",
       "1  uc1.$b322688             bennett, arnold      woman who stole everything   \n",
       "2  uc1.b3407035  lippincott, joseph wharton  wilderness champion; the story   \n",
       "\n",
       "   tm_year  review_year  rownum  \\\n",
       "0   1942.0       1942.0  3289.0   \n",
       "1   1927.0       1927.0  4140.0   \n",
       "2   1944.0       1944.0  3481.0   \n",
       "\n",
       "                                        review_title  prize_author  \\\n",
       "0            welcome to the city, and other stories.         False   \n",
       "1     woman who stole everything, and other stories.         False   \n",
       "2  wilderness champion; the story of a great houn...         False   \n",
       "\n",
       "   bestseller_year  is_bestseller  obscure  firstpub  birthyear  us_national  \\\n",
       "0              NaN          False    False      1942     1913.0         True   \n",
       "1              NaN          False    False      1927     1867.0        False   \n",
       "2              NaN          False    False      1944     1887.0         True   \n",
       "\n",
       "   lowest_date         standard_auth  review_wordcount  review_sentiment  \n",
       "0         1942           shaw, irwin            2400.0          3.715599  \n",
       "1         1927       bennett, arnold            5010.0          3.500459  \n",
       "2         1944  lippincott, joseph w             600.0          3.759941  "
      ]
     },
     "execution_count": 79,
     "metadata": {},
     "output_type": "execute_result"
    }
   ],
   "source": [
    "meta.head(3)"
   ]
  },
  {
   "cell_type": "markdown",
   "id": "e678c539-6b62-4e98-b78a-f9be9800e085",
   "metadata": {},
   "source": [
    "#### merge the data and metadata\n",
    "\n",
    "They both have a ```docid``` column."
   ]
  },
  {
   "cell_type": "code",
   "execution_count": 80,
   "id": "9b44f20a-031c-4d1b-b677-68b93992b0f0",
   "metadata": {},
   "outputs": [
    {
     "data": {
      "text/plain": [
       "(5494, 24)"
      ]
     },
     "execution_count": 80,
     "metadata": {},
     "output_type": "execute_result"
    }
   ],
   "source": [
    "data = meta.merge(results, on = 'docid')\n",
    "data.shape"
   ]
  },
  {
   "cell_type": "markdown",
   "id": "1343ae80-9925-4d36-8320-b976fe95ce05",
   "metadata": {},
   "source": [
    "### Does resonance show trends over the timeline?\n",
    "\n",
    "Is there variation? If so we need to normalize."
   ]
  },
  {
   "cell_type": "code",
   "execution_count": 64,
   "id": "5fccf508-4560-4cf9-882d-c6025fd940ba",
   "metadata": {},
   "outputs": [
    {
     "data": {
      "text/plain": [
       "[(1916.0, 1950.0), (-0.05, 0.35)]"
      ]
     },
     "execution_count": 64,
     "metadata": {},
     "output_type": "execute_result"
    },
    {
     "data": {
      "image/png": "[encoded data removed]",
      "text/plain": [
       "<Figure size 432x288 with 1 Axes>"
      ]
     },
     "metadata": {
      "needs_background": "light"
     },
     "output_type": "display_data"
    }
   ],
   "source": [
    "b = sns.lineplot(data = data, x = 'lowest_date', y = 'resonance_0.05_25')\n",
    "b.set(xlim = (1916, 1950), ylim = (-0.05, 0.35))"
   ]
  },
  {
   "cell_type": "code",
   "execution_count": 65,
   "id": "1d5b58e7-0684-4b3e-b275-cab1d9edfc5d",
   "metadata": {},
   "outputs": [
    {
     "data": {
      "text/plain": [
       "[(1916.0, 1950.0), (-0.05, 0.35)]"
      ]
     },
     "execution_count": 65,
     "metadata": {},
     "output_type": "execute_result"
    },
    {
     "data": {
      "image/png": "[encoded data removed]",
      "text/plain": [
       "<Figure size 432x288 with 1 Axes>"
      ]
     },
     "metadata": {
      "needs_background": "light"
     },
     "output_type": "display_data"
    }
   ],
   "source": [
    "b = sns.lineplot(data = data, x = 'lowest_date', y = 'resonance_1.0_25')\n",
    "b.set(xlim = (1916, 1950), ylim = (-0.05, 0.35))"
   ]
  },
  {
   "cell_type": "markdown",
   "id": "e88d7617-c79a-4dcb-898e-dfa2f904c665",
   "metadata": {},
   "source": [
    "Yes, there is definitely variation in these measures over time, especially if we use all the books. Why that is might be worth inquiring about. It looks a bit like something happened in the late 60s or 70s that made all late 1940s books different from their future -- at least in university libraries. Expanding range of author nationality?\n",
    "\n",
    "But for the moment we can normalize the measures to z scores by year."
   ]
  },
  {
   "cell_type": "code",
   "execution_count": 81,
   "id": "72e48a58-a48c-49a3-9015-b876f386d231",
   "metadata": {},
   "outputs": [
    {
     "data": {
      "text/plain": [
       "(5494, 6)"
      ]
     },
     "execution_count": 81,
     "metadata": {},
     "output_type": "execute_result"
    }
   ],
   "source": [
    "newdfs = []\n",
    "\n",
    "for year, df in data.groupby('lowest_date'):\n",
    "    df = df.loc[ : , ['resonance_0.05_25', 'resonance_1.0_25', \n",
    "                      'novelty_0.05_25', 'novelty_1.0_25',\n",
    "                      'transience_0.05_25', 'transience_1.0_25']]\n",
    "    df = df.apply(zscore)\n",
    "    newdfs.append(df)\n",
    "\n",
    "newvalues = pd.concat(newdfs)\n",
    "newvalues.shape"
   ]
  },
  {
   "cell_type": "code",
   "execution_count": 82,
   "id": "0dca1bf7-fa3c-4933-a41c-2ef656f54d92",
   "metadata": {},
   "outputs": [
    {
     "data": {
      "text/html": [
       "<div>\n",
       "<style scoped>\n",
       "    .dataframe tbody tr th:only-of-type {\n",
       "        vertical-align: middle;\n",
       "    }\n",
       "\n",
       "    .dataframe tbody tr th {\n",
       "        vertical-align: top;\n",
       "    }\n",
       "\n",
       "    .dataframe thead th {\n",
       "        text-align: right;\n",
       "    }\n",
       "</style>\n",
       "<table border=\"1\" class=\"dataframe\">\n",
       "  <thead>\n",
       "    <tr style=\"text-align: right;\">\n",
       "      <th></th>\n",
       "      <th>resonance_0.05_25</th>\n",
       "      <th>resonance_1.0_25</th>\n",
       "      <th>novelty_0.05_25</th>\n",
       "      <th>novelty_1.0_25</th>\n",
       "      <th>transience_0.05_25</th>\n",
       "      <th>transience_1.0_25</th>\n",
       "    </tr>\n",
       "  </thead>\n",
       "  <tbody>\n",
       "    <tr>\n",
       "      <th>6</th>\n",
       "      <td>0.637911</td>\n",
       "      <td>0.158815</td>\n",
       "      <td>-0.031573</td>\n",
       "      <td>-0.399419</td>\n",
       "      <td>-0.323690</td>\n",
       "      <td>-0.431107</td>\n",
       "    </tr>\n",
       "    <tr>\n",
       "      <th>184</th>\n",
       "      <td>0.837914</td>\n",
       "      <td>0.734159</td>\n",
       "      <td>-0.641412</td>\n",
       "      <td>-1.228649</td>\n",
       "      <td>-0.997270</td>\n",
       "      <td>-1.418952</td>\n",
       "    </tr>\n",
       "    <tr>\n",
       "      <th>196</th>\n",
       "      <td>0.117854</td>\n",
       "      <td>-0.104286</td>\n",
       "      <td>0.663109</td>\n",
       "      <td>0.732698</td>\n",
       "      <td>0.578091</td>\n",
       "      <td>0.720137</td>\n",
       "    </tr>\n",
       "    <tr>\n",
       "      <th>212</th>\n",
       "      <td>-0.117550</td>\n",
       "      <td>-0.066820</td>\n",
       "      <td>0.992391</td>\n",
       "      <td>0.497163</td>\n",
       "      <td>1.000429</td>\n",
       "      <td>0.487150</td>\n",
       "    </tr>\n",
       "    <tr>\n",
       "      <th>282</th>\n",
       "      <td>-0.095962</td>\n",
       "      <td>-0.128271</td>\n",
       "      <td>0.238143</td>\n",
       "      <td>0.183749</td>\n",
       "      <td>0.271254</td>\n",
       "      <td>0.219192</td>\n",
       "    </tr>\n",
       "  </tbody>\n",
       "</table>\n",
       "</div>"
      ],
      "text/plain": [
       "     resonance_0.05_25  resonance_1.0_25  novelty_0.05_25  novelty_1.0_25  \\\n",
       "6             0.637911          0.158815        -0.031573       -0.399419   \n",
       "184           0.837914          0.734159        -0.641412       -1.228649   \n",
       "196           0.117854         -0.104286         0.663109        0.732698   \n",
       "212          -0.117550         -0.066820         0.992391        0.497163   \n",
       "282          -0.095962         -0.128271         0.238143        0.183749   \n",
       "\n",
       "     transience_0.05_25  transience_1.0_25  \n",
       "6             -0.323690          -0.431107  \n",
       "184           -0.997270          -1.418952  \n",
       "196            0.578091           0.720137  \n",
       "212            1.000429           0.487150  \n",
       "282            0.271254           0.219192  "
      ]
     },
     "execution_count": 82,
     "metadata": {},
     "output_type": "execute_result"
    }
   ],
   "source": [
    "newvalues.head()"
   ]
  },
  {
   "cell_type": "code",
   "execution_count": 83,
   "id": "3b6721c0-983b-4964-87c0-1e9482864195",
   "metadata": {},
   "outputs": [],
   "source": [
    "for column in ['resonance_0.05_25', 'resonance_1.0_25', 'novelty_0.05_25', \n",
    "               'novelty_1.0_25', 'transience_0.05_25', 'transience_1.0_25']:\n",
    "    data[column] = newvalues[column]  # and we trust the index will reorder values        "
   ]
  },
  {
   "cell_type": "code",
   "execution_count": 84,
   "id": "de32ba0f-f16f-4d80-a646-b983ed12dd29",
   "metadata": {},
   "outputs": [
    {
     "data": {
      "text/html": [
       "<div>\n",
       "<style scoped>\n",
       "    .dataframe tbody tr th:only-of-type {\n",
       "        vertical-align: middle;\n",
       "    }\n",
       "\n",
       "    .dataframe tbody tr th {\n",
       "        vertical-align: top;\n",
       "    }\n",
       "\n",
       "    .dataframe thead th {\n",
       "        text-align: right;\n",
       "    }\n",
       "</style>\n",
       "<table border=\"1\" class=\"dataframe\">\n",
       "  <thead>\n",
       "    <tr style=\"text-align: right;\">\n",
       "      <th></th>\n",
       "      <th>docid</th>\n",
       "      <th>tm_author</th>\n",
       "      <th>tm_title</th>\n",
       "      <th>tm_year</th>\n",
       "      <th>review_year</th>\n",
       "      <th>rownum</th>\n",
       "      <th>review_title</th>\n",
       "      <th>prize_author</th>\n",
       "      <th>bestseller_year</th>\n",
       "      <th>is_bestseller</th>\n",
       "      <th>...</th>\n",
       "      <th>lowest_date</th>\n",
       "      <th>standard_auth</th>\n",
       "      <th>review_wordcount</th>\n",
       "      <th>review_sentiment</th>\n",
       "      <th>novelty_1.0_25</th>\n",
       "      <th>novelty_0.05_25</th>\n",
       "      <th>transience_1.0_25</th>\n",
       "      <th>transience_0.05_25</th>\n",
       "      <th>resonance_1.0_25</th>\n",
       "      <th>resonance_0.05_25</th>\n",
       "    </tr>\n",
       "  </thead>\n",
       "  <tbody>\n",
       "    <tr>\n",
       "      <th>0</th>\n",
       "      <td>uc1.b3347126</td>\n",
       "      <td>shaw, irwin</td>\n",
       "      <td>welcome to the city, and other</td>\n",
       "      <td>1942.0</td>\n",
       "      <td>1942.0</td>\n",
       "      <td>3289.0</td>\n",
       "      <td>welcome to the city, and other stories.</td>\n",
       "      <td>False</td>\n",
       "      <td>NaN</td>\n",
       "      <td>False</td>\n",
       "      <td>...</td>\n",
       "      <td>1942</td>\n",
       "      <td>shaw, irwin</td>\n",
       "      <td>2400.0</td>\n",
       "      <td>3.715599</td>\n",
       "      <td>-0.006212</td>\n",
       "      <td>-0.235232</td>\n",
       "      <td>-0.319580</td>\n",
       "      <td>-0.712187</td>\n",
       "      <td>1.131303</td>\n",
       "      <td>0.907823</td>\n",
       "    </tr>\n",
       "    <tr>\n",
       "      <th>1</th>\n",
       "      <td>uc1.$b322688</td>\n",
       "      <td>bennett, arnold</td>\n",
       "      <td>woman who stole everything</td>\n",
       "      <td>1927.0</td>\n",
       "      <td>1927.0</td>\n",
       "      <td>4140.0</td>\n",
       "      <td>woman who stole everything, and other stories.</td>\n",
       "      <td>False</td>\n",
       "      <td>NaN</td>\n",
       "      <td>False</td>\n",
       "      <td>...</td>\n",
       "      <td>1927</td>\n",
       "      <td>bennett, arnold</td>\n",
       "      <td>5010.0</td>\n",
       "      <td>3.500459</td>\n",
       "      <td>-0.718090</td>\n",
       "      <td>-1.012464</td>\n",
       "      <td>-0.793293</td>\n",
       "      <td>-1.128560</td>\n",
       "      <td>0.413321</td>\n",
       "      <td>0.154430</td>\n",
       "    </tr>\n",
       "    <tr>\n",
       "      <th>2</th>\n",
       "      <td>uc1.b3407035</td>\n",
       "      <td>lippincott, joseph wharton</td>\n",
       "      <td>wilderness champion; the story</td>\n",
       "      <td>1944.0</td>\n",
       "      <td>1944.0</td>\n",
       "      <td>3481.0</td>\n",
       "      <td>wilderness champion; the story of a great houn...</td>\n",
       "      <td>False</td>\n",
       "      <td>NaN</td>\n",
       "      <td>False</td>\n",
       "      <td>...</td>\n",
       "      <td>1944</td>\n",
       "      <td>lippincott, joseph w</td>\n",
       "      <td>600.0</td>\n",
       "      <td>3.759941</td>\n",
       "      <td>0.984460</td>\n",
       "      <td>0.961344</td>\n",
       "      <td>1.165411</td>\n",
       "      <td>1.658524</td>\n",
       "      <td>-0.401814</td>\n",
       "      <td>-0.920786</td>\n",
       "    </tr>\n",
       "    <tr>\n",
       "      <th>3</th>\n",
       "      <td>uc1.$b116192</td>\n",
       "      <td>becker, may lamberton</td>\n",
       "      <td>golden tales of the southwest;</td>\n",
       "      <td>1939.0</td>\n",
       "      <td>1939.0</td>\n",
       "      <td>4283.0</td>\n",
       "      <td>golden tales of the southwest; selected with a...</td>\n",
       "      <td>False</td>\n",
       "      <td>NaN</td>\n",
       "      <td>False</td>\n",
       "      <td>...</td>\n",
       "      <td>1939</td>\n",
       "      <td>becker, may lamberto</td>\n",
       "      <td>930.0</td>\n",
       "      <td>3.706520</td>\n",
       "      <td>-0.699861</td>\n",
       "      <td>-0.535305</td>\n",
       "      <td>-0.244554</td>\n",
       "      <td>0.109815</td>\n",
       "      <td>-1.319624</td>\n",
       "      <td>-0.974632</td>\n",
       "    </tr>\n",
       "    <tr>\n",
       "      <th>4</th>\n",
       "      <td>mdp.39015059415383</td>\n",
       "      <td>miller, alice duer, mrs</td>\n",
       "      <td>instruments</td>\n",
       "      <td>1926.0</td>\n",
       "      <td>1926.0</td>\n",
       "      <td>2405.0</td>\n",
       "      <td>instruments of darkness, and other stories.</td>\n",
       "      <td>False</td>\n",
       "      <td>NaN</td>\n",
       "      <td>False</td>\n",
       "      <td>...</td>\n",
       "      <td>1926</td>\n",
       "      <td>miller, alice duer,</td>\n",
       "      <td>3600.0</td>\n",
       "      <td>3.613030</td>\n",
       "      <td>-1.482156</td>\n",
       "      <td>-1.927121</td>\n",
       "      <td>-1.360387</td>\n",
       "      <td>-1.544219</td>\n",
       "      <td>0.098821</td>\n",
       "      <td>-0.444320</td>\n",
       "    </tr>\n",
       "    <tr>\n",
       "      <th>5</th>\n",
       "      <td>mdp.39015002756842</td>\n",
       "      <td>saroyan, william</td>\n",
       "      <td>daring young man on the flying</td>\n",
       "      <td>1934.0</td>\n",
       "      <td>1934.0</td>\n",
       "      <td>821.0</td>\n",
       "      <td>the daring young man on the flying trapeze, an...</td>\n",
       "      <td>False</td>\n",
       "      <td>NaN</td>\n",
       "      <td>False</td>\n",
       "      <td>...</td>\n",
       "      <td>1934</td>\n",
       "      <td>saroyan, william</td>\n",
       "      <td>4690.0</td>\n",
       "      <td>3.278887</td>\n",
       "      <td>0.138167</td>\n",
       "      <td>0.503598</td>\n",
       "      <td>-0.319603</td>\n",
       "      <td>-0.445469</td>\n",
       "      <td>1.297055</td>\n",
       "      <td>1.717866</td>\n",
       "    </tr>\n",
       "    <tr>\n",
       "      <th>6</th>\n",
       "      <td>umn.31951000955121j</td>\n",
       "      <td>chase, mary ellen</td>\n",
       "      <td>girl from</td>\n",
       "      <td>1916.0</td>\n",
       "      <td>1916.0</td>\n",
       "      <td>2149.0</td>\n",
       "      <td>girl from the big horn country, il</td>\n",
       "      <td>False</td>\n",
       "      <td>NaN</td>\n",
       "      <td>False</td>\n",
       "      <td>...</td>\n",
       "      <td>1916</td>\n",
       "      <td>chase, mary ellen</td>\n",
       "      <td>960.0</td>\n",
       "      <td>3.911863</td>\n",
       "      <td>-0.399419</td>\n",
       "      <td>-0.031573</td>\n",
       "      <td>-0.431107</td>\n",
       "      <td>-0.323690</td>\n",
       "      <td>0.158815</td>\n",
       "      <td>0.637911</td>\n",
       "    </tr>\n",
       "  </tbody>\n",
       "</table>\n",
       "<p>7 rows × 24 columns</p>\n",
       "</div>"
      ],
      "text/plain": [
       "                 docid                   tm_author  \\\n",
       "0         uc1.b3347126                 shaw, irwin   \n",
       "1         uc1.$b322688             bennett, arnold   \n",
       "2         uc1.b3407035  lippincott, joseph wharton   \n",
       "3         uc1.$b116192       becker, may lamberton   \n",
       "4   mdp.39015059415383     miller, alice duer, mrs   \n",
       "5   mdp.39015002756842            saroyan, william   \n",
       "6  umn.31951000955121j           chase, mary ellen   \n",
       "\n",
       "                         tm_title  tm_year  review_year  rownum  \\\n",
       "0  welcome to the city, and other   1942.0       1942.0  3289.0   \n",
       "1      woman who stole everything   1927.0       1927.0  4140.0   \n",
       "2  wilderness champion; the story   1944.0       1944.0  3481.0   \n",
       "3  golden tales of the southwest;   1939.0       1939.0  4283.0   \n",
       "4                    instruments    1926.0       1926.0  2405.0   \n",
       "5  daring young man on the flying   1934.0       1934.0   821.0   \n",
       "6                      girl from    1916.0       1916.0  2149.0   \n",
       "\n",
       "                                        review_title  prize_author  \\\n",
       "0            welcome to the city, and other stories.         False   \n",
       "1     woman who stole everything, and other stories.         False   \n",
       "2  wilderness champion; the story of a great houn...         False   \n",
       "3  golden tales of the southwest; selected with a...         False   \n",
       "4        instruments of darkness, and other stories.         False   \n",
       "5  the daring young man on the flying trapeze, an...         False   \n",
       "6                 girl from the big horn country, il         False   \n",
       "\n",
       "   bestseller_year  is_bestseller  ...  lowest_date         standard_auth  \\\n",
       "0              NaN          False  ...         1942           shaw, irwin   \n",
       "1              NaN          False  ...         1927       bennett, arnold   \n",
       "2              NaN          False  ...         1944  lippincott, joseph w   \n",
       "3              NaN          False  ...         1939  becker, may lamberto   \n",
       "4              NaN          False  ...         1926  miller, alice duer,    \n",
       "5              NaN          False  ...         1934      saroyan, william   \n",
       "6              NaN          False  ...         1916     chase, mary ellen   \n",
       "\n",
       "   review_wordcount  review_sentiment  novelty_1.0_25 novelty_0.05_25  \\\n",
       "0            2400.0          3.715599       -0.006212       -0.235232   \n",
       "1            5010.0          3.500459       -0.718090       -1.012464   \n",
       "2             600.0          3.759941        0.984460        0.961344   \n",
       "3             930.0          3.706520       -0.699861       -0.535305   \n",
       "4            3600.0          3.613030       -1.482156       -1.927121   \n",
       "5            4690.0          3.278887        0.138167        0.503598   \n",
       "6             960.0          3.911863       -0.399419       -0.031573   \n",
       "\n",
       "   transience_1.0_25  transience_0.05_25  resonance_1.0_25  resonance_0.05_25  \n",
       "0          -0.319580           -0.712187          1.131303           0.907823  \n",
       "1          -0.793293           -1.128560          0.413321           0.154430  \n",
       "2           1.165411            1.658524         -0.401814          -0.920786  \n",
       "3          -0.244554            0.109815         -1.319624          -0.974632  \n",
       "4          -1.360387           -1.544219          0.098821          -0.444320  \n",
       "5          -0.319603           -0.445469          1.297055           1.717866  \n",
       "6          -0.431107           -0.323690          0.158815           0.637911  \n",
       "\n",
       "[7 rows x 24 columns]"
      ]
     },
     "execution_count": 84,
     "metadata": {},
     "output_type": "execute_result"
    }
   ],
   "source": [
    "data.head(7)"
   ]
  },
  {
   "cell_type": "markdown",
   "id": "3e5181ba-aea5-4252-acbd-2532fc94165f",
   "metadata": {},
   "source": [
    "### Prizewinners and bestsellers: precocity\n",
    "\n",
    "I originally compared these categories specifically to the \"obscure\" category, but that's not really fair. I think they should be compared to all non-prizewinner or non-bestseller books?"
   ]
  },
  {
   "cell_type": "code",
   "execution_count": 85,
   "id": "f4d7e530-f33d-4b43-9ab2-8b7ecf1f6c1a",
   "metadata": {},
   "outputs": [],
   "source": [
    "prizewinners = data.loc[data.prize_author == True, 'resonance_0.05_25']\n",
    "not_prize = data.loc[data.prize_author == False, 'resonance_0.05_25']"
   ]
  },
  {
   "cell_type": "code",
   "execution_count": 86,
   "id": "83b0c8dd-81f5-480a-a5f7-0caf9f8595a1",
   "metadata": {},
   "outputs": [
    {
     "data": {
      "text/plain": [
       "Ttest_indResult(statistic=3.2343608045698344, pvalue=0.0012263696756265622)"
      ]
     },
     "execution_count": 86,
     "metadata": {},
     "output_type": "execute_result"
    }
   ],
   "source": [
    "ttest_ind(prizewinners, not_prize)"
   ]
  },
  {
   "cell_type": "markdown",
   "id": "a1d137d0-3b17-45f4-bf59-1090a37fea57",
   "metadata": {},
   "source": [
    "Definitely significant. A more interpretable measure of effect size is Cohen's *d*."
   ]
  },
  {
   "cell_type": "code",
   "execution_count": 87,
   "id": "1387e2fd-84a4-4c90-a998-34218c1b3deb",
   "metadata": {},
   "outputs": [],
   "source": [
    "def cohens_d(a, b):\n",
    "    cohens_d = (mean(a) - mean(b)) / (sqrt((stdev(a) ** 2 + stdev(b) ** 2) / 2))\n",
    "    return cohens_d"
   ]
  },
  {
   "cell_type": "code",
   "execution_count": 88,
   "id": "81b691a1-0e12-4a3d-b7f3-c149b2c646a7",
   "metadata": {},
   "outputs": [
    {
     "data": {
      "text/plain": [
       "0.18889722641422435"
      ]
     },
     "execution_count": 88,
     "metadata": {},
     "output_type": "execute_result"
    }
   ],
   "source": [
    "cohens_d(prizewinners, not_prize)"
   ]
  },
  {
   "cell_type": "markdown",
   "id": "8cc22c7d-e4a9-4395-b75f-c1793196e1c8",
   "metadata": {},
   "source": [
    "That's a smallish effect.\n",
    "\n",
    "However, it's also not fair that we only have 1000 \"obscure\" books in this sample. In reality, they're going to be the bulk of the sample. So when we calculate a fuller sample, the effect of being a prizewinner will go up toward something a bit more like this:"
   ]
  },
  {
   "cell_type": "code",
   "execution_count": 89,
   "id": "6a0d2b29-95e1-4900-a75d-f07da3b5ed1c",
   "metadata": {},
   "outputs": [
    {
     "data": {
      "text/plain": [
       "0.35966608695633473"
      ]
     },
     "execution_count": 89,
     "metadata": {},
     "output_type": "execute_result"
    }
   ],
   "source": [
    "obscure =  data.loc[data.obscure == True, 'resonance_0.05_25']\n",
    "cohens_d(prizewinners, obscure)"
   ]
  },
  {
   "cell_type": "markdown",
   "id": "856a6dd6-a60b-433c-ba90-851a04249482",
   "metadata": {},
   "source": [
    "**Now let's do bestsellers.**"
   ]
  },
  {
   "cell_type": "code",
   "execution_count": 90,
   "id": "0aaaa3d7-f516-4376-9118-7f5d0b643544",
   "metadata": {},
   "outputs": [],
   "source": [
    "bestsellers = data.loc[data.is_bestseller == True, 'resonance_0.05_25']\n",
    "not_best = data.loc[data.is_bestseller == False, 'resonance_0.05_25']"
   ]
  },
  {
   "cell_type": "code",
   "execution_count": 91,
   "id": "ac0f14b6-2065-4c7d-9c82-8435363d6c75",
   "metadata": {},
   "outputs": [
    {
     "data": {
      "text/plain": [
       "0.16024914724082095"
      ]
     },
     "execution_count": 91,
     "metadata": {},
     "output_type": "execute_result"
    }
   ],
   "source": [
    "cohens_d(bestsellers, not_best)"
   ]
  },
  {
   "cell_type": "markdown",
   "id": "b5379faf-2c1f-4b67-bd48-a9ed59119373",
   "metadata": {},
   "source": [
    "Lower than the prizewinners. But it could go up as high as:"
   ]
  },
  {
   "cell_type": "code",
   "execution_count": 92,
   "id": "43a277d4-5ca3-4d76-aa7e-fcee1fd3bda0",
   "metadata": {},
   "outputs": [
    {
     "data": {
      "text/plain": [
       "0.3446564045345326"
      ]
     },
     "execution_count": 92,
     "metadata": {},
     "output_type": "execute_result"
    }
   ],
   "source": [
    "cohens_d(bestsellers, obscure)"
   ]
  },
  {
   "cell_type": "markdown",
   "id": "b4c78e97-a0d2-4422-8b58-5895690fa203",
   "metadata": {},
   "source": [
    "The difference between bestsellers and prizewinners isn't statistically significant."
   ]
  },
  {
   "cell_type": "code",
   "execution_count": 93,
   "id": "2a880360-2601-40b7-b284-300bb574fa0b",
   "metadata": {},
   "outputs": [
    {
     "data": {
      "text/plain": [
       "Ttest_indResult(statistic=-0.30466246250764106, pvalue=0.7607550144535895)"
      ]
     },
     "execution_count": 93,
     "metadata": {},
     "output_type": "execute_result"
    }
   ],
   "source": [
    "ttest_ind(bestsellers, prizewinners)"
   ]
  },
  {
   "cell_type": "markdown",
   "id": "849fa899-4078-4f1a-9727-fdae4ddcd502",
   "metadata": {},
   "source": [
    "**Let's check the effect size if we use 100% of the books.**"
   ]
  },
  {
   "cell_type": "code",
   "execution_count": 94,
   "id": "e4c1713a-9bab-4233-8a01-bb10e1f37163",
   "metadata": {},
   "outputs": [
    {
     "data": {
      "text/plain": [
       "0.16861025059482382"
      ]
     },
     "execution_count": 94,
     "metadata": {},
     "output_type": "execute_result"
    }
   ],
   "source": [
    "prize_100 = data.loc[data.prize_author == True, 'resonance_1.0_25']\n",
    "not_prize_100 = data.loc[data.prize_author == False, 'resonance_1.0_25']\n",
    "cohens_d(prize_100, not_prize_100)"
   ]
  },
  {
   "cell_type": "markdown",
   "id": "4f8c3c6e-5d64-4cb0-9c3b-3b26ea2dc525",
   "metadata": {},
   "source": [
    "Not all that different."
   ]
  },
  {
   "cell_type": "code",
   "execution_count": 95,
   "id": "247fcd5b-d5fb-4434-918d-0b5f6ab386a4",
   "metadata": {},
   "outputs": [
    {
     "data": {
      "text/plain": [
       "0.1812765543225636"
      ]
     },
     "execution_count": 95,
     "metadata": {},
     "output_type": "execute_result"
    }
   ],
   "source": [
    "best_100 = data.loc[data.is_bestseller == True, 'resonance_1.0_25']\n",
    "not_best_100 = data.loc[data.is_bestseller == False, 'resonance_1.0_25']\n",
    "cohens_d(best_100, not_best_100)"
   ]
  },
  {
   "cell_type": "markdown",
   "id": "8a576b59-02e3-48fb-a945-2307e85c4223",
   "metadata": {},
   "source": [
    "The effect sizes are very similar. The relative positions of prizewinners and bestsellers change, but we know that isn't significant anyway."
   ]
  },
  {
   "cell_type": "markdown",
   "id": "0ed3e514-8f8b-4204-aeb2-5d83ae90ed29",
   "metadata": {},
   "source": [
    "### Prizewinner and bestsellers: novelty\n",
    "\n",
    "Does novelty follow the same pattern?"
   ]
  },
  {
   "cell_type": "code",
   "execution_count": 96,
   "id": "89ec5e22-f4d2-46ea-add0-8ec951cad12f",
   "metadata": {},
   "outputs": [
    {
     "data": {
      "text/plain": [
       "-0.0006345305931677179"
      ]
     },
     "execution_count": 96,
     "metadata": {},
     "output_type": "execute_result"
    }
   ],
   "source": [
    "prize_nov = data.loc[data.prize_author == True, 'novelty_0.05_25']\n",
    "not_prize_nov = data.loc[data.prize_author == False, 'novelty_0.05_25']\n",
    "cohens_d(prize_nov, not_prize_nov)"
   ]
  },
  {
   "cell_type": "code",
   "execution_count": 97,
   "id": "0029a84e-cc16-452c-a77e-03805445f94d",
   "metadata": {},
   "outputs": [
    {
     "data": {
      "text/plain": [
       "Ttest_indResult(statistic=-0.011117364311103385, pvalue=0.9911302131812985)"
      ]
     },
     "execution_count": 97,
     "metadata": {},
     "output_type": "execute_result"
    }
   ],
   "source": [
    "ttest_ind(prize_nov, not_prize_nov)"
   ]
  },
  {
   "cell_type": "markdown",
   "id": "d748d236-a257-4c97-b0c5-f159f83e5a4e",
   "metadata": {},
   "source": [
    "Virtually no effect. Note also that the effect gets *negative* if we include obscure books. Obscure (unreviewed) books are *more* novel than the prizewinners."
   ]
  },
  {
   "cell_type": "code",
   "execution_count": 98,
   "id": "3967b378-c5f5-4c40-8335-ca180273d138",
   "metadata": {},
   "outputs": [
    {
     "data": {
      "text/plain": [
       "-0.1423755499082056"
      ]
     },
     "execution_count": 98,
     "metadata": {},
     "output_type": "execute_result"
    }
   ],
   "source": [
    "obscure_nov = data.loc[data.obscure == True, 'novelty_0.05_25']\n",
    "cohens_d(prize_nov, obscure_nov)"
   ]
  },
  {
   "cell_type": "code",
   "execution_count": 99,
   "id": "6788a252-494d-453c-9658-606441287813",
   "metadata": {},
   "outputs": [
    {
     "data": {
      "text/plain": [
       "-0.3965679194612015"
      ]
     },
     "execution_count": 99,
     "metadata": {},
     "output_type": "execute_result"
    }
   ],
   "source": [
    "best_nov = data.loc[data.is_bestseller == True, 'novelty_0.05_25']\n",
    "not_best_nov = data.loc[data.is_bestseller == False, 'novelty_0.05_25']\n",
    "cohens_d(best_nov, not_best_nov)"
   ]
  },
  {
   "cell_type": "code",
   "execution_count": 100,
   "id": "52bbb6fc-04b8-4976-8e16-00114a275828",
   "metadata": {},
   "outputs": [
    {
     "data": {
      "text/plain": [
       "-0.502990797361035"
      ]
     },
     "execution_count": 100,
     "metadata": {},
     "output_type": "execute_result"
    }
   ],
   "source": [
    "cohens_d(best_nov, obscure_nov)"
   ]
  },
  {
   "cell_type": "markdown",
   "id": "5d3dd6e9-62f9-456f-af22-b86bc0177bc0",
   "metadata": {},
   "source": [
    "Bestsellers are extremely not-novel. This means that in order to exceed other books at precocity they must ..."
   ]
  },
  {
   "cell_type": "code",
   "execution_count": 101,
   "id": "c4f2d50b-23e0-4a5c-baab-61c0b67bf401",
   "metadata": {},
   "outputs": [
    {
     "data": {
      "text/plain": [
       "-0.6949171071263002"
      ]
     },
     "execution_count": 101,
     "metadata": {},
     "output_type": "execute_result"
    }
   ],
   "source": [
    "best_tra = data.loc[data.is_bestseller == True, 'transience_0.05_25']\n",
    "obscure_tra = data.loc[data.obscure == True, 'transience_0.05_25']\n",
    "cohens_d(best_tra, obscure_tra)"
   ]
  },
  {
   "cell_type": "markdown",
   "id": "99480914-d1cb-4368-a493-f0fe78dff425",
   "metadata": {},
   "source": [
    "... have even *lower* transience. Precocity is novelty minus transience.\n",
    "\n",
    "This sort of makes sense. We might expect bestsellers to be fairly conservative, sticking close to patterns that have succeeded in the past and will succeed in the future."
   ]
  },
  {
   "cell_type": "markdown",
   "id": "e3392666-5595-4e66-9ba1-536d52c34c1b",
   "metadata": {},
   "source": [
    "### Review wordcount and sentiment\n",
    "\n",
    "Wordcount is easy to compare, sentiment a little trickier.\n",
    "\n",
    "We start by taking the Spearman correlation of precocity with wordcount. We're doing this across all books; unreviewed books have a wordcount of zero."
   ]
  },
  {
   "cell_type": "code",
   "execution_count": 102,
   "id": "0b0f961b-1cbf-460f-a9ef-058d84fc2686",
   "metadata": {},
   "outputs": [
    {
     "data": {
      "text/plain": [
       "SpearmanrResult(correlation=0.15446333582301058, pvalue=1.1005841259436873e-30)"
      ]
     },
     "execution_count": 102,
     "metadata": {},
     "output_type": "execute_result"
    }
   ],
   "source": [
    "spearmanr(data['resonance_0.05_25'], data['review_wordcount'])"
   ]
  },
  {
   "cell_type": "markdown",
   "id": "505baf83-fed4-4b69-af1c-e39e54946a68",
   "metadata": {},
   "source": [
    "Cohen's $d = \\frac{2 * r}{\\sqrt{1 - r^2}}$"
   ]
  },
  {
   "cell_type": "code",
   "execution_count": 36,
   "id": "aa10c3b7-7edc-4ef9-8dcd-dcfdcbaee44d",
   "metadata": {},
   "outputs": [],
   "source": [
    "def r2d(r):\n",
    "    d = (2*r) / sqrt(1 - r**2)\n",
    "    return d"
   ]
  },
  {
   "cell_type": "code",
   "execution_count": 103,
   "id": "26a6c5eb-6ec2-4ccd-a734-83ee1356ecd8",
   "metadata": {},
   "outputs": [
    {
     "data": {
      "text/plain": [
       "0.31267236773024126"
      ]
     },
     "execution_count": 103,
     "metadata": {},
     "output_type": "execute_result"
    }
   ],
   "source": [
    "r2d(.15446)"
   ]
  },
  {
   "cell_type": "markdown",
   "id": "767078b6-326a-400d-8598-c31f95abab60",
   "metadata": {},
   "source": [
    "Right now this is higher than the effect size for bestsellers and prizewinners if we compare them across a comparable sample. All the effect sizes will probably get a bit stronger with more obscure books in the comparison, but the effect may be weaker for the wordcount. Excluding unreviewed books (below) doesn't greatly weaken the precocity correlation. So adding more of them may not strengthen it much either."
   ]
  },
  {
   "cell_type": "code",
   "execution_count": 104,
   "id": "5ea942a5-a3fd-4585-8796-ffc3948c9260",
   "metadata": {},
   "outputs": [
    {
     "data": {
      "text/plain": [
       "SpearmanrResult(correlation=0.1503140122721296, pvalue=3.629688352728203e-23)"
      ]
     },
     "execution_count": 104,
     "metadata": {},
     "output_type": "execute_result"
    }
   ],
   "source": [
    "reviewed_precocity = data.loc[~pd.isnull(data.review_sentiment), 'resonance_0.05_25']\n",
    "reviewed_words = data.loc[~pd.isnull(data.review_sentiment), 'review_wordcount']\n",
    "spearmanr(reviewed_precocity, reviewed_words)"
   ]
  },
  {
   "cell_type": "markdown",
   "id": "9b70f504-c745-4cc9-9c14-e63e1f75d0e4",
   "metadata": {},
   "source": [
    "**Association of novelty with wordcount.**"
   ]
  },
  {
   "cell_type": "code",
   "execution_count": 105,
   "id": "3db65bf4-636a-4fdd-b975-09f707a6400f",
   "metadata": {},
   "outputs": [
    {
     "data": {
      "text/plain": [
       "SpearmanrResult(correlation=-0.08041536805363055, pvalue=2.389739201433276e-09)"
      ]
     },
     "execution_count": 105,
     "metadata": {},
     "output_type": "execute_result"
    }
   ],
   "source": [
    "spearmanr(data['novelty_0.05_25'], data['review_wordcount'])"
   ]
  },
  {
   "cell_type": "code",
   "execution_count": 124,
   "id": "ad4239dc-1ae8-4cd0-9809-dad843318417",
   "metadata": {},
   "outputs": [
    {
     "data": {
      "text/plain": [
       "-0.1614"
      ]
     },
     "execution_count": 124,
     "metadata": {},
     "output_type": "execute_result"
    }
   ],
   "source": [
    "round(r2d(-0.080415), 4)"
   ]
  },
  {
   "cell_type": "markdown",
   "id": "b7d6d134-c3a5-4e23-ab39-8d38b56400ec",
   "metadata": {},
   "source": [
    "Very novel books are **less** likely to have a lot written about them. They have a lot of precocity because they nevertheless tend to resemble the future. In other words, transience is still low enough to make precocity positive."
   ]
  },
  {
   "cell_type": "code",
   "execution_count": 125,
   "id": "1d7df670-aa75-4a6c-8c75-7027e8b2fdfc",
   "metadata": {},
   "outputs": [
    {
     "data": {
      "text/plain": [
       "SpearmanrResult(correlation=-0.16853418732341552, pvalue=2.7464105183048828e-36)"
      ]
     },
     "execution_count": 125,
     "metadata": {},
     "output_type": "execute_result"
    }
   ],
   "source": [
    "spearmanr(data['transience_0.05_25'], data['review_wordcount'])"
   ]
  },
  {
   "cell_type": "markdown",
   "id": "74e37248-7e87-4e27-ab63-5471afdc73bb",
   "metadata": {},
   "source": [
    "**Now sentiment.** Sentiment is a little trickier because it doesn't make sense to treat the sentiment of unreviewed books as zero. So we have to actually select a subset where sentiment is non-null -- i.e. the subset of reviewed books."
   ]
  },
  {
   "cell_type": "code",
   "execution_count": 107,
   "id": "41f12aaf-6a30-42a1-bea6-1d1590570dd9",
   "metadata": {},
   "outputs": [
    {
     "data": {
      "text/plain": [
       "SpearmanrResult(correlation=-0.04819610567477466, pvalue=0.0015644678260864826)"
      ]
     },
     "execution_count": 107,
     "metadata": {},
     "output_type": "execute_result"
    }
   ],
   "source": [
    "reviewedresonance = data.loc[~pd.isnull(data.review_sentiment), 'resonance_0.05_25']\n",
    "reviewedsentiment = data.loc[~pd.isnull(data.review_sentiment), 'review_sentiment']\n",
    "spearmanr(reviewedresonance, reviewedsentiment)"
   ]
  },
  {
   "cell_type": "markdown",
   "id": "a429c85c-699c-4d56-a8c5-c3c0056421fd",
   "metadata": {},
   "source": [
    "A weak *negative* correlation with resonance. But there are many reasons to be suspicious of sentiment measures. Note for instance that sentiment correlates *inversely* with wordcount."
   ]
  },
  {
   "cell_type": "code",
   "execution_count": 108,
   "id": "125472ef-3a9a-473a-b6be-e1394955a2cd",
   "metadata": {},
   "outputs": [
    {
     "data": {
      "text/plain": [
       "SpearmanrResult(correlation=-0.14495075108433872, pvalue=1.222586377701076e-21)"
      ]
     },
     "execution_count": 108,
     "metadata": {},
     "output_type": "execute_result"
    }
   ],
   "source": [
    "spearmanr(reviewed_words, reviewedsentiment)"
   ]
  },
  {
   "cell_type": "markdown",
   "id": "2cb1ce90-8f84-4dfe-a6ed-25c7d4bf1ea8",
   "metadata": {},
   "source": [
    "I suspect magazines that write long reviews are also more likely to write harsh reviews than those that are just producing a short \"notice\" of a book. Also the editors of BRD might be more likely to include a very harsh review to balance out perspectives on a book if it already has multiple reviews."
   ]
  },
  {
   "cell_type": "code",
   "execution_count": 48,
   "id": "2b6e02cb-d48d-401f-86d9-2383f5546c2d",
   "metadata": {},
   "outputs": [
    {
     "data": {
      "text/plain": [
       "SpearmanrResult(correlation=-0.10394820676349227, pvalue=8.185695092318713e-12)"
      ]
     },
     "execution_count": 48,
     "metadata": {},
     "output_type": "execute_result"
    }
   ],
   "source": [
    "reviewedresonance100 = data.loc[~pd.isnull(data.review_sentiment), 'resonance_1.0_25']\n",
    "reviewedsentiment = data.loc[~pd.isnull(data.review_sentiment), 'review_sentiment']\n",
    "spearmanr(reviewedresonance100, reviewedsentiment)"
   ]
  },
  {
   "cell_type": "markdown",
   "id": "ef91e982-8edd-4d4b-a485-acb164ba596f",
   "metadata": {},
   "source": [
    "If we look at 100% of the books, sentiment has a negative relationship to resonance. But again, we're going to need to look carefully at the sources of negative reviews before we know what this really means."
   ]
  },
  {
   "cell_type": "markdown",
   "id": "d0871e99-e5bd-4adb-999e-32c15f2c2c5e",
   "metadata": {},
   "source": [
    "### Multivariate linear regression"
   ]
  },
  {
   "cell_type": "code",
   "execution_count": 109,
   "id": "642d7af9-dd3a-46ef-97b9-55e77d767e73",
   "metadata": {},
   "outputs": [],
   "source": [
    "import statsmodels.api as sm"
   ]
  },
  {
   "cell_type": "code",
   "execution_count": 115,
   "id": "b46bdcd8-5066-422a-9bd8-3a1bb82290e6",
   "metadata": {},
   "outputs": [],
   "source": [
    "X = sm.add_constant(data.loc[ : , ['review_wordcount', 'is_bestseller', 'prize_author']],\n",
    "                    prepend = False)\n",
    "X['is_bestseller'] = X['is_bestseller'].map({True: 1, False: 0})\n",
    "X['prize_author'] = X['prize_author'].map({True: 1, False: 0})\n",
    "y = data.loc[ : , 'resonance_0.05_25']"
   ]
  },
  {
   "cell_type": "code",
   "execution_count": 118,
   "id": "59e17e01-a68b-4f58-9959-ae85ddd69ae3",
   "metadata": {},
   "outputs": [
    {
     "name": "stdout",
     "output_type": "stream",
     "text": [
      "                            OLS Regression Results                            \n",
      "==============================================================================\n",
      "Dep. Variable:      resonance_0.05_25   R-squared:                       0.020\n",
      "Model:                            OLS   Adj. R-squared:                  0.020\n",
      "Method:                 Least Squares   F-statistic:                     37.59\n",
      "Date:                Mon, 25 Jul 2022   Prob (F-statistic):           4.90e-24\n",
      "Time:                        09:21:13   Log-Likelihood:                -7739.8\n",
      "No. Observations:                5494   AIC:                         1.549e+04\n",
      "Df Residuals:                    5490   BIC:                         1.551e+04\n",
      "Df Model:                           3                                         \n",
      "Covariance Type:            nonrobust                                         \n",
      "====================================================================================\n",
      "                       coef    std err          t      P>|t|      [0.025      0.975]\n",
      "------------------------------------------------------------------------------------\n",
      "review_wordcount  4.228e-05   4.23e-06      9.998      0.000     3.4e-05    5.06e-05\n",
      "is_bestseller       -0.0035      0.081     -0.043      0.966      -0.161       0.154\n",
      "prize_author         0.1095      0.058      1.886      0.059      -0.004       0.223\n",
      "const               -0.1354      0.018     -7.328      0.000      -0.172      -0.099\n",
      "==============================================================================\n",
      "Omnibus:                      404.214   Durbin-Watson:                   1.875\n",
      "Prob(Omnibus):                  0.000   Jarque-Bera (JB):             1134.094\n",
      "Skew:                           0.399   Prob(JB):                    5.43e-247\n",
      "Kurtosis:                       5.078   Cond. No.                     2.70e+04\n",
      "==============================================================================\n",
      "\n",
      "Notes:\n",
      "[1] Standard Errors assume that the covariance matrix of the errors is correctly specified.\n",
      "[2] The condition number is large, 2.7e+04. This might indicate that there are\n",
      "strong multicollinearity or other numerical problems.\n"
     ]
    }
   ],
   "source": [
    "model = sm.OLS(y, X)\n",
    "result = model.fit()\n",
    "print(result.summary())"
   ]
  },
  {
   "cell_type": "markdown",
   "id": "36e5874d-8f10-4727-b908-13be32502de9",
   "metadata": {},
   "source": [
    "If we include wordcount with the bestseller and prizewinner conditions, only wordcount is significant. Now, this may be partly because we have fuller data for wordcount.\n",
    "\n",
    "**Let's try sentiment** across the rows where we have sentiment data."
   ]
  },
  {
   "cell_type": "code",
   "execution_count": 120,
   "id": "442f13ae-d952-437f-b164-df899d09ad48",
   "metadata": {},
   "outputs": [
    {
     "name": "stdout",
     "output_type": "stream",
     "text": [
      "                            OLS Regression Results                            \n",
      "==============================================================================\n",
      "Dep. Variable:      resonance_0.05_25   R-squared:                       0.019\n",
      "Model:                            OLS   Adj. R-squared:                  0.018\n",
      "Method:                 Least Squares   F-statistic:                     20.70\n",
      "Date:                Mon, 25 Jul 2022   Prob (F-statistic):           6.49e-17\n",
      "Time:                        09:24:13   Log-Likelihood:                -5939.2\n",
      "No. Observations:                4303   AIC:                         1.189e+04\n",
      "Df Residuals:                    4298   BIC:                         1.192e+04\n",
      "Df Model:                           4                                         \n",
      "Covariance Type:            nonrobust                                         \n",
      "====================================================================================\n",
      "                       coef    std err          t      P>|t|      [0.025      0.975]\n",
      "------------------------------------------------------------------------------------\n",
      "review_wordcount  3.686e-05    4.9e-06      7.524      0.000    2.73e-05    4.65e-05\n",
      "is_bestseller       -0.0893      0.098     -0.915      0.360      -0.281       0.102\n",
      "prize_author         0.1353      0.068      1.986      0.047       0.002       0.269\n",
      "review_sentiment    -0.1507      0.049     -3.055      0.002      -0.247      -0.054\n",
      "const                0.4276      0.175      2.438      0.015       0.084       0.771\n",
      "==============================================================================\n",
      "Omnibus:                      353.344   Durbin-Watson:                   1.834\n",
      "Prob(Omnibus):                  0.000   Jarque-Bera (JB):              887.139\n",
      "Skew:                           0.481   Prob(JB):                    2.29e-193\n",
      "Kurtosis:                       5.005   Cond. No.                     6.23e+04\n",
      "==============================================================================\n",
      "\n",
      "Notes:\n",
      "[1] Standard Errors assume that the covariance matrix of the errors is correctly specified.\n",
      "[2] The condition number is large, 6.23e+04. This might indicate that there are\n",
      "strong multicollinearity or other numerical problems.\n"
     ]
    }
   ],
   "source": [
    "X = sm.add_constant(data.loc[~pd.isnull(data.review_sentiment), ['review_wordcount', 'is_bestseller',\n",
    "                                                                 'prize_author', 'review_sentiment']],\n",
    "                    prepend = False)\n",
    "X['is_bestseller'] = X['is_bestseller'].map({True: 1, False: 0})\n",
    "X['prize_author'] = X['prize_author'].map({True: 1, False: 0})\n",
    "y = data.loc[~pd.isnull(data.review_sentiment), 'resonance_0.05_25']\n",
    "model = sm.OLS(y, X)\n",
    "result = model.fit()\n",
    "print(result.summary())"
   ]
  },
  {
   "cell_type": "markdown",
   "id": "caeb232a-9601-4028-a056-79092b65a6bd",
   "metadata": {},
   "source": [
    "If we include sentiment, it's an effective (negative) predictor across the rows where sentiment exists."
   ]
  },
  {
   "cell_type": "markdown",
   "id": "b4ac4668-25b8-453c-8694-3484985bde05",
   "metadata": {},
   "source": [
    "### Do we find an \"inverse U\"?\n",
    "\n",
    "In other words, are books rewarded for achieving a medium level of \"optimum differentiation\" from the past?\n",
    "\n",
    "Following the model of Silver, Childress, et al., we might expect review wordcount or review sentiment to peak at medium levels of novelty."
   ]
  },
  {
   "cell_type": "code",
   "execution_count": 137,
   "id": "00e3af87-89dc-41bf-8cdc-9526c95f28e2",
   "metadata": {},
   "outputs": [
    {
     "data": {
      "text/html": [
       "<div>\n",
       "<style scoped>\n",
       "    .dataframe tbody tr th:only-of-type {\n",
       "        vertical-align: middle;\n",
       "    }\n",
       "\n",
       "    .dataframe tbody tr th {\n",
       "        vertical-align: top;\n",
       "    }\n",
       "\n",
       "    .dataframe thead th {\n",
       "        text-align: right;\n",
       "    }\n",
       "</style>\n",
       "<table border=\"1\" class=\"dataframe\">\n",
       "  <thead>\n",
       "    <tr style=\"text-align: right;\">\n",
       "      <th></th>\n",
       "      <th>review_wordcount</th>\n",
       "      <th>novelty_0.05_25</th>\n",
       "      <th>resonance_0.05_25</th>\n",
       "      <th>relative_novelty</th>\n",
       "      <th>relative_precocity</th>\n",
       "    </tr>\n",
       "  </thead>\n",
       "  <tbody>\n",
       "    <tr>\n",
       "      <th>0</th>\n",
       "      <td>2400.0</td>\n",
       "      <td>-0.235232</td>\n",
       "      <td>0.907823</td>\n",
       "      <td>11</td>\n",
       "      <td>20</td>\n",
       "    </tr>\n",
       "    <tr>\n",
       "      <th>1</th>\n",
       "      <td>5010.0</td>\n",
       "      <td>-1.012464</td>\n",
       "      <td>0.154430</td>\n",
       "      <td>3</td>\n",
       "      <td>14</td>\n",
       "    </tr>\n",
       "    <tr>\n",
       "      <th>2</th>\n",
       "      <td>600.0</td>\n",
       "      <td>0.961344</td>\n",
       "      <td>-0.920786</td>\n",
       "      <td>21</td>\n",
       "      <td>3</td>\n",
       "    </tr>\n",
       "    <tr>\n",
       "      <th>3</th>\n",
       "      <td>930.0</td>\n",
       "      <td>-0.535305</td>\n",
       "      <td>-0.974632</td>\n",
       "      <td>7</td>\n",
       "      <td>3</td>\n",
       "    </tr>\n",
       "    <tr>\n",
       "      <th>4</th>\n",
       "      <td>3600.0</td>\n",
       "      <td>-1.927121</td>\n",
       "      <td>-0.444320</td>\n",
       "      <td>0</td>\n",
       "      <td>8</td>\n",
       "    </tr>\n",
       "  </tbody>\n",
       "</table>\n",
       "</div>"
      ],
      "text/plain": [
       "   review_wordcount  novelty_0.05_25  resonance_0.05_25  relative_novelty  \\\n",
       "0            2400.0        -0.235232           0.907823                11   \n",
       "1            5010.0        -1.012464           0.154430                 3   \n",
       "2             600.0         0.961344          -0.920786                21   \n",
       "3             930.0        -0.535305          -0.974632                 7   \n",
       "4            3600.0        -1.927121          -0.444320                 0   \n",
       "\n",
       "   relative_precocity  \n",
       "0                  20  \n",
       "1                  14  \n",
       "2                   3  \n",
       "3                   3  \n",
       "4                   8  "
      ]
     },
     "execution_count": 137,
     "metadata": {},
     "output_type": "execute_result"
    }
   ],
   "source": [
    "summarydf = data.loc[ : , ['review_wordcount', 'novelty_0.05_25', 'resonance_0.05_25']]\n",
    "summarydf['relative_novelty'] = pd.qcut(summarydf['novelty_0.05_25'], 25, labels = False)\n",
    "summarydf['relative_precocity'] = pd.qcut(summarydf['resonance_0.05_25'], 25, labels = False)\n",
    "summarydf.head()"
   ]
  },
  {
   "cell_type": "code",
   "execution_count": 138,
   "id": "5a8afd3e-4909-47eb-9af6-b04452942e71",
   "metadata": {},
   "outputs": [],
   "source": [
    "sns.set(rc = {'figure.figsize':(9,6)})"
   ]
  },
  {
   "cell_type": "code",
   "execution_count": 139,
   "id": "3148b90d-482e-4d1b-9321-364001d0426a",
   "metadata": {},
   "outputs": [
    {
     "data": {
      "text/plain": [
       "<AxesSubplot:xlabel='relative_novelty', ylabel='review_wordcount'>"
      ]
     },
     "execution_count": 139,
     "metadata": {},
     "output_type": "execute_result"
    },
    {
     "data": {
      "image/png": "[encoded data removed]",
      "text/plain": [
       "<Figure size 648x432 with 1 Axes>"
      ]
     },
     "metadata": {},
     "output_type": "display_data"
    }
   ],
   "source": [
    "sns.lineplot(x = 'relative_novelty', y = 'review_wordcount', data = summarydf)"
   ]
  },
  {
   "cell_type": "markdown",
   "id": "2aa2fefb-0e5c-493b-a6da-c9bc70fd9586",
   "metadata": {},
   "source": [
    "**That is not really an inverse U.** Less is written about a book as it gets more novel.\n",
    "\n",
    "What if we try precocity?"
   ]
  },
  {
   "cell_type": "code",
   "execution_count": 140,
   "id": "1e25936c-b4d4-45ac-8659-4322a658f2cb",
   "metadata": {},
   "outputs": [
    {
     "data": {
      "text/plain": [
       "<AxesSubplot:xlabel='relative_precocity', ylabel='review_wordcount'>"
      ]
     },
     "execution_count": 140,
     "metadata": {},
     "output_type": "execute_result"
    },
    {
     "data": {
      "image/png": "[encoded data removed]",
      "text/plain": [
       "<Figure size 648x432 with 1 Axes>"
      ]
     },
     "metadata": {},
     "output_type": "display_data"
    }
   ],
   "source": [
    "sns.lineplot(x = 'relative_precocity', y = 'review_wordcount', data = summarydf)"
   ]
  },
  {
   "cell_type": "markdown",
   "id": "aafdd33f-6e3d-4c02-8fcd-bc812e74a29d",
   "metadata": {},
   "source": [
    "Still not an inverse U.\n",
    "\n",
    "**What if we try with sentiment?**"
   ]
  },
  {
   "cell_type": "code",
   "execution_count": 143,
   "id": "ab512f65-70df-4d20-93eb-8b9e051a74aa",
   "metadata": {},
   "outputs": [
    {
     "data": {
      "text/html": [
       "<div>\n",
       "<style scoped>\n",
       "    .dataframe tbody tr th:only-of-type {\n",
       "        vertical-align: middle;\n",
       "    }\n",
       "\n",
       "    .dataframe tbody tr th {\n",
       "        vertical-align: top;\n",
       "    }\n",
       "\n",
       "    .dataframe thead th {\n",
       "        text-align: right;\n",
       "    }\n",
       "</style>\n",
       "<table border=\"1\" class=\"dataframe\">\n",
       "  <thead>\n",
       "    <tr style=\"text-align: right;\">\n",
       "      <th></th>\n",
       "      <th>review_wordcount</th>\n",
       "      <th>review_sentiment</th>\n",
       "      <th>novelty_0.05_25</th>\n",
       "      <th>resonance_0.05_25</th>\n",
       "      <th>relative_novelty</th>\n",
       "      <th>relative_precocity</th>\n",
       "    </tr>\n",
       "  </thead>\n",
       "  <tbody>\n",
       "    <tr>\n",
       "      <th>0</th>\n",
       "      <td>2400.0</td>\n",
       "      <td>3.715599</td>\n",
       "      <td>-0.235232</td>\n",
       "      <td>0.907823</td>\n",
       "      <td>11</td>\n",
       "      <td>20</td>\n",
       "    </tr>\n",
       "    <tr>\n",
       "      <th>1</th>\n",
       "      <td>5010.0</td>\n",
       "      <td>3.500459</td>\n",
       "      <td>-1.012464</td>\n",
       "      <td>0.154430</td>\n",
       "      <td>3</td>\n",
       "      <td>14</td>\n",
       "    </tr>\n",
       "    <tr>\n",
       "      <th>2</th>\n",
       "      <td>600.0</td>\n",
       "      <td>3.759941</td>\n",
       "      <td>0.961344</td>\n",
       "      <td>-0.920786</td>\n",
       "      <td>21</td>\n",
       "      <td>3</td>\n",
       "    </tr>\n",
       "    <tr>\n",
       "      <th>3</th>\n",
       "      <td>930.0</td>\n",
       "      <td>3.706520</td>\n",
       "      <td>-0.535305</td>\n",
       "      <td>-0.974632</td>\n",
       "      <td>8</td>\n",
       "      <td>2</td>\n",
       "    </tr>\n",
       "    <tr>\n",
       "      <th>4</th>\n",
       "      <td>3600.0</td>\n",
       "      <td>3.613030</td>\n",
       "      <td>-1.927121</td>\n",
       "      <td>-0.444320</td>\n",
       "      <td>0</td>\n",
       "      <td>7</td>\n",
       "    </tr>\n",
       "  </tbody>\n",
       "</table>\n",
       "</div>"
      ],
      "text/plain": [
       "   review_wordcount  review_sentiment  novelty_0.05_25  resonance_0.05_25  \\\n",
       "0            2400.0          3.715599        -0.235232           0.907823   \n",
       "1            5010.0          3.500459        -1.012464           0.154430   \n",
       "2             600.0          3.759941         0.961344          -0.920786   \n",
       "3             930.0          3.706520        -0.535305          -0.974632   \n",
       "4            3600.0          3.613030        -1.927121          -0.444320   \n",
       "\n",
       "   relative_novelty  relative_precocity  \n",
       "0                11                  20  \n",
       "1                 3                  14  \n",
       "2                21                   3  \n",
       "3                 8                   2  \n",
       "4                 0                   7  "
      ]
     },
     "execution_count": 143,
     "metadata": {},
     "output_type": "execute_result"
    }
   ],
   "source": [
    "summarydf = data.loc[~pd.isnull(data.review_sentiment), ['review_wordcount', 'review_sentiment',\n",
    "                                                      'novelty_0.05_25', 'resonance_0.05_25']]\n",
    "summarydf['relative_novelty'] = pd.qcut(summarydf['novelty_0.05_25'], 25, labels = False)\n",
    "summarydf['relative_precocity'] = pd.qcut(summarydf['resonance_0.05_25'], 25, labels = False)\n",
    "summarydf.head()"
   ]
  },
  {
   "cell_type": "code",
   "execution_count": 144,
   "id": "c698438e-59a1-4cfd-8cc1-38024a61eef8",
   "metadata": {},
   "outputs": [
    {
     "data": {
      "text/plain": [
       "<AxesSubplot:xlabel='relative_novelty', ylabel='review_sentiment'>"
      ]
     },
     "execution_count": 144,
     "metadata": {},
     "output_type": "execute_result"
    },
    {
     "data": {
      "image/png": "[encoded data removed]",
      "text/plain": [
       "<Figure size 648x432 with 1 Axes>"
      ]
     },
     "metadata": {},
     "output_type": "display_data"
    }
   ],
   "source": [
    "sns.lineplot(x = 'relative_novelty', y = 'review_sentiment', data = summarydf)"
   ]
  },
  {
   "cell_type": "markdown",
   "id": "311b4652-b24f-43ef-95d8-e63ac6a54a88",
   "metadata": {},
   "source": [
    "Still not an inverse U! Sentiment gets more positive as a book gets more novel."
   ]
  },
  {
   "cell_type": "markdown",
   "id": "d07e027a-38ff-4b23-a92d-af13e2a6c3ea",
   "metadata": {},
   "source": [
    "### We could try to do the same thing for the cosine results"
   ]
  },
  {
   "cell_type": "code",
   "execution_count": 70,
   "id": "cca8b414-ae7c-4829-be7c-c6f68d712964",
   "metadata": {},
   "outputs": [],
   "source": [
    "cosresults = pd.read_csv('results/centersurprise_0cossummary.tsv', sep = '\\t', low_memory = False)"
   ]
  },
  {
   "cell_type": "code",
   "execution_count": 75,
   "id": "1c2a360f-2298-4712-ae44-b404e11c7ddf",
   "metadata": {},
   "outputs": [
    {
     "data": {
      "text/plain": [
       "(5494, 24)"
      ]
     },
     "execution_count": 75,
     "metadata": {},
     "output_type": "execute_result"
    }
   ],
   "source": [
    "cosdata = meta.merge(cosresults, on = 'docid')\n",
    "cosdata.shape"
   ]
  }
 ],
 "metadata": {
  "kernelspec": {
   "display_name": "Python 3",
   "language": "python",
   "name": "python3"
  },
  "language_info": {
   "codemirror_mode": {
    "name": "ipython",
    "version": 3
   },
   "file_extension": ".py",
   "mimetype": "text/x-python",
   "name": "python",
   "nbconvert_exporter": "python",
   "pygments_lexer": "ipython3",
   "version": "3.7.6"
  }
 },
 "nbformat": 4,
 "nbformat_minor": 5
}
